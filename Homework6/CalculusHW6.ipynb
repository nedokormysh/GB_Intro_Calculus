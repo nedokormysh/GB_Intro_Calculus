{
  "nbformat": 4,
  "nbformat_minor": 0,
  "metadata": {
    "colab": {
      "name": "CalculusHW6.ipynb",
      "provenance": [],
      "collapsed_sections": []
    },
    "kernelspec": {
      "name": "python3",
      "display_name": "Python 3"
    },
    "language_info": {
      "name": "python"
    }
  },
  "cells": [
    {
      "cell_type": "markdown",
      "metadata": {
        "id": "h2wVV-r2iplq"
      },
      "source": [
        "__1.__ Найти частные производные первого и второго порядка. Убедиться в равенстве смешанных производных.\n",
        "\n",
        "### $$U=x^3+3xy^2+z^2-39x-36y+2z+26$$\n",
        "\n",
        "$$U_x'=3x^2+3y^2-39$$\n",
        "$$U_y'=6xy-36$$\n",
        "$$U_z'=2z+2$$\n",
        "$$$$\n",
        "$$U_{xx}''=6x$$\n",
        "$$U_{xy}''=6y$$\n",
        "$$U_{xz}''=0$$\n",
        "$$$$\n",
        "$$U_{yy}''=6x$$\n",
        "$$U_{yx}''=6y$$\n",
        "$$U_{yz}''=0$$\n",
        "$$$$\n",
        "$$U_{zz}''=2$$\n",
        "$$U_{zx}''=0$$\n",
        "$$U_{zy}''=0$$\n",
        "$$$$\n",
        "$$U_{xy}''=U_{yx}''=6y$$\n",
        "$$U_{xz}''=U_{zx}''=0$$\n",
        "$$U_{yz}''=U_{zy}''=0$$"
      ]
    },
    {
      "cell_type": "markdown",
      "metadata": {
        "id": "7i9j61_2nuXc"
      },
      "source": [
        "__2.__ Найти частные производные первого и второго порядка. Убедиться в равенстве смешанных производных.\n",
        "\n",
        "### $$U=\\frac{256}{x}+\\frac{x^2}{y}+\\frac{y^2}{z}+z^2=256x^{-1}+x^2y^{-1}+y^2z^{-1}+z^2$$\n",
        "\n",
        "$$U_{x}'=-256x^{-2}+2xy^{-1}$$\n",
        "$$U_{y}'=-x^2y^{-2}+2yz^{-1}$$\n",
        "$$U_{z}'=-y^2z^{-2}+2z$$\n",
        "$$$$\n",
        "$$U_{xx}''=2\\cdot256x^{-3}+2y^{-1}=\\frac{512}{x^3}+\\frac{2}{y}$$\n",
        "$$U_{xy}''=-2xy^{-2}=-\\frac{2x}{y^2}$$\n",
        "$$U_{xz}''=0$$\n",
        "$$$$\n",
        "$$U_{yy}''=2x^2y^{-3}+2z^{-1}=\\frac{2x^2}{y^3}+\\frac{2}{z}$$\n",
        "$$U_{yx}''=-2xy^{-2}=-\\frac{2x}{y^2}$$\n",
        "$$U_{yz}''=-2yz^{-2}=-\\frac{2y}{z^2}$$\n",
        "$$$$\n",
        "$$U_{zz}''=2y^2z^{-3}+2=\\frac{2y^2}{z^3}+2$$\n",
        "$$U_{zx}''=0$$\n",
        "$$U_{zy}''=-2yz^{-2}$$\n",
        "$$$$\n",
        "$$U_{xy}''=U_{yx}''=-2xy^{-2}$$\n",
        "$$U_{xz}''=U_{zx}''=0$$\n",
        "$$U_{yz}''=U_{zy}''=-2yz^{-2}$$"
      ]
    },
    {
      "cell_type": "markdown",
      "metadata": {
        "id": "Bo-Xi6aavvBp"
      },
      "source": [
        "__3.__ Найти производную функции $U=x^2+y^2+z^2$ по направлению вектора $\\overrightarrow{c}(-9,8,-12)$ в точке $M(8,-12,9)$\n",
        "\n",
        "a) Единичный вектор\n",
        "\n",
        "$$\\overrightarrow{c_0}=\\frac{-9\\overrightarrow{i}+8\\overrightarrow{j}-12\\overrightarrow{k}}{\\sqrt {81+62+144}}=\\frac{-9\\overrightarrow{i}+8\\overrightarrow{j}-12\\overrightarrow{k}}{\\sqrt {289}}=\\frac{-9\\overrightarrow{i}+8\\overrightarrow{j}-12\\overrightarrow{k}}{17}$$\n",
        "\n",
        "б) Найдём градиент\n",
        "\n",
        "$$U_x'=2x$$\n",
        "$$U_y'=2y$$\n",
        "$$U_z'=2y$$\n",
        "\n",
        "Градиент функции в точке $M(8, -12, 9)$ равен:\n",
        "\n",
        "$$\\mbox{grad}U=(16,-24, 18)$$\n",
        "\n",
        "в) $$U'_{\\overrightarrow{c}}=(\\overrightarrow{c}_{0}\\cdot \\mbox{grad}U)=-\\frac{9}{17}\\cdot16+\\frac{8}{17}\\cdot(-24)-\\frac{12}{17}\\cdot18=\\frac{-144-192-216}{17}=-\\frac{552}{17}$$"
      ]
    },
    {
      "cell_type": "markdown",
      "metadata": {
        "id": "liB7IID7z1XF"
      },
      "source": [
        "__4.__ Найти производную функции $U=e^{x^2+y^2+z^2}$ по направлению вектора $\\overrightarrow{c}(4,-13,-16)$ в точке $L(-16,4,-13)$\n",
        "\n",
        "a) Единичный вектор\n",
        "\n",
        "$$\\overrightarrow{c_0}=\\frac{4\\overrightarrow{i}-13\\overrightarrow{j}-16\\overrightarrow{k}}{\\sqrt{16+169+256}}=\\frac{4\\overrightarrow{i}-13\\overrightarrow{j}-16\\overrightarrow{k}}{\\sqrt{441}}=\\frac{4\\overrightarrow{i}-13\\overrightarrow{j}-16\\overrightarrow{k}}{21}$$\n",
        "\n",
        "б) Найдём градиент\n",
        "\n",
        "$$U_x' = 2xe^{x^2+y^2+z^2}$$\n",
        "$$U_y' = 2ye^{x^2+y^2+z^2}$$\n",
        "$$U_z' = 2ze^{x^2+y^2+z^2}$$\n",
        "\n",
        "Градиент функции в точке $L(-16, 4, -13)$\n",
        "$$$$\n",
        "\n",
        "$$\\mbox{grad}U=(-32e^{256+16+169},8e^{256+16+169}, -26e^{256+16+169})=(-32e^{441}, 8e^{441}, -26e^{441})$$\n",
        "\n",
        "в) $$U'_{\\overrightarrow{c}}=(\\overrightarrow{c}_{0}\\cdot \\mbox{grad}U)=\\Big(\\frac{4}{21}\\cdot(-32)-\\frac{13}{21}\\cdot8-\\frac{16}{21}\\cdot(-26)\\Big)e^{441}=\\Big(\\frac{-128-104+416}{21}\\Big)e^{441}=\\frac{184}{21}e^{441}$$"
      ]
    },
    {
      "cell_type": "markdown",
      "metadata": {
        "id": "y1A81NCp3Wkh"
      },
      "source": [
        "__5*.__ Найти производную функции $U=\\log_{21}(x^2+y^2+z^2)$ в точке $F(-19,8,-4)$ по самому быстрому направлению.\n",
        "$$$$\n",
        "$$U'_{\\mbox{grad}U}=\\Bigr(\\mbox{grad}U_{0}\\cdot \\mbox{grad}U\\Bigl)$$\n",
        "$$$$\n",
        "a) Длина вектора\n",
        "$$|\\mbox{grad}U|=\\sqrt{\\Big(-\\frac{38}{441\\ln21}\\Bigl)^2+\\Big(\\frac{16}{441\\ln21}\\Big)^2+\\Big(-\\frac{8}{441\\ln21}\\Big)^2}$$\n",
        "$$=\\sqrt{\\frac{(1444+256+64)}{(441\\ln 21)^2}}=\\sqrt{\\frac{1764}{(441\\ln21)^2}}=\\frac{42}{441\\ln 21}=\\frac{2}{21\\ln21}$$\n",
        "\n",
        "б) Градиент вектора в точке $F(-19,8,-4)$\n",
        "$$$$\n",
        "$$U'_{x}=\\frac{2x}{(x^2+y^2+z^2)\\ln21}$$\n",
        "$$U'_{y}=\\frac{2y}{(x^2+y^2+z^2)\\ln21}$$\n",
        "$$U'_{z}=\\frac{2z}{(x^2+y^2+z^2)\\ln21}$$\n",
        "$$$$\n",
        "$$\\mbox{grad}U=(-\\frac{38}{441\\ln21},\\frac{16}{441\\ln21},-\\frac{8}{441\\ln21})$$\n",
        "$$$$\n",
        "\n",
        "Единичный вектор\n",
        "$$\\mbox{grad}U_{0}=\\frac{\\mbox{grad}U}{|\\mbox{grad}U|}=\\Big(-\\frac{38}{441\\ln21}\\cdot\\Big(\\frac{21\\ln21}{2}\\Big),\\frac{16}{441\\ln21}\\cdot\\Big(\\frac{21\\ln21}{2}\\Big), -\\frac{8}{441\\ln21}\\cdot\\Big(\\frac{21\\ln21}{2}\\Big)\\Big)=(-\\frac{19}{21}, \\frac{8}{21}, -\\frac{4}{21})$$\n",
        "$$$$\n",
        "\n",
        "$$U'_{\\mbox{grad}U}=-\\frac{19}{21}\\cdot\\Big(-\\frac{38}{441\\ln21}\\Big)+\\frac{8}{21}\\cdot\\Big(\\frac{16}{441\\ln21}\\Big)-\\frac{4}{21}\\cdot\\Big(-\\frac{8}{441\\ln21}\\Big)=\\frac{722+128+32}{21\\cdot441\\ln21}=\\frac{882}{21\\cdot441\\ln21}=\\frac{2}{21\\ln21}$$\n"
      ]
    },
    {
      "cell_type": "markdown",
      "metadata": {
        "id": "QqbHDOLFftBR"
      },
      "source": [
        "__6.__ Исследовать на экстремум функцию:\n",
        "\n",
        "### $$U=x^2y+\\frac{1}{3}y^3+2x^2+3y^2-1$$\n",
        "\n",
        "$$U_x'=2xy+4x$$\n",
        "$$U_{xx}''=2y+4$$\n",
        "$$U_{xy}''=2x$$\n",
        "$$$$\n",
        "$$U_y'=x^2+y^2+6y$$\n",
        "$$U_{yy}''=2y+6$$\n",
        "$$U_{yx}''=2x$$\n",
        "\n",
        "Приравняем частные производные первого порядка к нулю и найдем стационарные точки:\n",
        "\n",
        "$$\\begin{cases}\n",
        "  U'_{x}=2xy+4x=0, \\\\\n",
        "  U'_{y}=x^2+y^2+6y=0 \n",
        "\\end{cases}$$\n",
        "\n",
        "$$\\begin{cases}\n",
        "  2x(y+2)=0, \\\\\n",
        "  x^2+y^2+6y=0 \n",
        "\\end{cases}$$\n",
        "$$\\Rightarrow$$\n",
        "\n",
        "$$\\begin{cases}\n",
        "   \\left[ \n",
        "  \\begin{gathered} \n",
        "     x=0\\\\\n",
        "     y=-2\n",
        "  \\end{gathered} \n",
        "\\right. \\\\\n",
        "   x^2+y^2+6y=0 \n",
        " \\end{cases}$$\n",
        "\n",
        " \n",
        "$$\\begin{gathered} \n",
        "     \\begin{cases}\n",
        "   x=0 \\\\\n",
        "  y^2+6y=0 \n",
        " \\end{cases}\\\\\n",
        "     \\begin{cases}\n",
        "   y=-2 \\\\\n",
        "   x^2=8 \n",
        " \\end{cases}\n",
        "  \\end{gathered}$$\n",
        "  \n",
        "  $$(0, 0)$$\n",
        "  $$(0, -6)$$\n",
        "  $$(2\\sqrt2, -2)$$\n",
        "  $$(-2\\sqrt2, -2)$$\n",
        "\n",
        "Составим матрицу Гёссе\n",
        "\n",
        "$$\\begin{pmatrix}\n",
        "U''_{xx} & U''_{xy}\\\\ \n",
        "U''_{yx} & U''_{yy}\\\\\n",
        "\\end{pmatrix}$$\n",
        "\n",
        "$$\\begin{pmatrix}\n",
        "2y+4 & 2x\\\\ \n",
        "2x & 2y+6\\\\\n",
        "\\end{pmatrix}$$\n",
        "\n",
        "### $$\\Delta_{1}=U''_{xx}=2y+4$$\n",
        "\n",
        "### $$\\Delta_{2}=\\begin{vmatrix}\n",
        "U''_{xx} & U''_{xy}\\\\ \n",
        "U''_{yx} & U''_{yy}\\\\\n",
        "\\end{vmatrix}=(2y+4)\\cdot(2y+6)-4x^2=4y^2+12y+8y+24-4x^2=4y^2+20y+24-4x^2$$\n",
        "\n",
        "$$$$\n",
        "Проверим значения для каждой точки.\n",
        "$$$$\n",
        "1) (0, 0)\n",
        "$$\\Delta_{1}=2y+4=4$$\n",
        "$$\\Delta_{2}=4y^2+20y+24-4x^2=24$$\n",
        "\n",
        "Оба минора положительные. Это точка минимума.\n",
        "\n",
        "2) (0, -6)\n",
        "$$\\Delta_{1}=2(-6)+4=-8$$\n",
        "$$\\Delta_{2}=4(-6)^2+20(-6)+24-4x^2=144-120+24=48$$\n",
        "\n",
        "Миноры чередуются. Это точка максимума.\n",
        "\n",
        "3) $$(2\\sqrt2, -2)$$\n",
        "$$\\Delta_{1}=2(-2)+4=0$$\n",
        "\n",
        "4) $$(-2\\sqrt2, -2)$$\n",
        "$$\\Delta_{1}=2(-2)+4=0$$"
      ]
    },
    {
      "cell_type": "markdown",
      "metadata": {
        "id": "x2Z90eZqASQF"
      },
      "source": [
        "__7*.__ Исследовать на экстремум функции:\n",
        "\n",
        "### $$U=e^{-\\frac{x}{2}}\\cdot(x^2+y^2)$$\n",
        "\n",
        "$$U_x'=-\\frac{e^{-\\frac{x}{2}}}{2}\\cdot(x^2+y^2)+2xe^{-\\frac{x}{2}}$$\n",
        "$$$$\n",
        "$$U_y'=2ye^{-\\frac{x}{2}}$$\n",
        "\n",
        "Приравняем частные производные первого порядка к нулю и найдем стационарные точки:\n",
        "\n",
        "$$\\begin{cases}\n",
        "  U'_{x}=-\\frac{e^{-\\frac{x}{2}}}{2}\\cdot(x^2+y^2)+2xe^{-\\frac{x}{2}}=0, \\\\\n",
        "  U'_{y}=2ye^{-\\frac{x}{2}}=0 \n",
        "\\end{cases}$$\n",
        "\n",
        "$$\\begin{cases}\n",
        "  U'_{x}=e^{-\\frac{x}{2}}((x(4-x)-y^2)=0, \\\\\n",
        "  U'_{y}=2ye^{-\\frac{x}{2}}=0 \n",
        "\\end{cases}$$\n",
        "\n",
        "\n",
        "WolframAlpha\n",
        "(0, 0)\n",
        "(4, 0)\n",
        "$$U_{xx}''=(2x)'e^{-\\frac{x}{2}}+2x(e^{-\\frac{x}{2}})'-\\frac{1}{2}(e^{-\\frac{x}{2}}(x^2+y^2))'=2e^{-\\frac{x}{2}}-2x\\frac{1}{2}e^{-\\frac{x}{2}}-\\frac{1}{2}\\Big(-\\frac{1}{2}e^{-\\frac{x}{2}}(x^2+y^2)+2xe^{-\\frac{x}{2}}\\Big)=2e^{-\\frac{x}{2}}-xe^{-\\frac{x}{2}}+\\frac{1}{4}(e^{-\\frac{x}{2}}(x^2+y^2))-xe^{-\\frac{x}{2}}=2e^{-\\frac{x}{2}}-2xe^{-\\frac{x}{2}}+\\frac{e^{-\\frac{x}{2}}(x^2+y^2)}{4}$$\n",
        "$$U_{xy}''=-ye^{-\\frac{x}{2}}$$\n",
        "\n",
        "$$U_{yy}''=2e^{-\\frac{x}{2}}$$\n",
        "$$U_{yx}''=2ye^{-\\frac{x}{2}}\\cdot(-\\frac{x}{2})=-ye^{-\\frac{x}{2}}$$\n",
        "\n",
        "Составим матрицу Гёссе\n",
        "\n",
        "$$\\begin{pmatrix}\n",
        "U''_{xx} & U''_{xy}\\\\ \n",
        "U''_{yx} & U''_{yy}\\\\\n",
        "\\end{pmatrix}$$\n",
        "\n",
        "$$\\begin{pmatrix}\n",
        "2e^{-\\frac{x}{2}}-2xe^{-\\frac{x}{2}}+\\frac{e^{-\\frac{x}{2}}(x^2+y^2)}{4} & -ye^{-\\frac{x}{2}}\\\\ \n",
        "-ye^{-\\frac{x}{2}} & 2e^{-\\frac{x}{2}}\\\\\n",
        "\\end{pmatrix}$$\n",
        "$$$$\n",
        "1) (0, 0)\n",
        "$$\\begin{pmatrix}\n",
        "2 & 0\\\\ \n",
        "0 & 2\\\\\n",
        "\\end{pmatrix}$$\n",
        "\n",
        "$$\\Delta_{1} = 2$$\n",
        "$$\\Delta_{2} = 4$$\n",
        "\n",
        "Оба минора положительные. Это точка минимума.\n",
        "$$$$\n",
        "2)(4, 0)\n",
        "$$\\begin{pmatrix}\n",
        "2 & 0\\\\ \n",
        "0 & 2\\\\\n",
        "\\end{pmatrix}$$\n",
        "$$$$\n",
        "$$U_{xx}'' = 2e^{-\\frac{4}{2}}-8e^{-\\frac{4}{2}}+\\frac{e^{-\\frac{4}{2}}(4^2+0^2)}{4}=2e^{-2}-8e^{-2}+4e^{-2} = -2e^{-2}$$\n",
        "$$$$\n",
        "$$\\begin{pmatrix}\n",
        "-2e^{-2} & 0\\\\ \n",
        "0 & 2e^{-2}\\\\\n",
        "\\end{pmatrix}$$\n",
        "\n",
        "$$\\Delta_{1} = -2e^{-2}$$\n",
        "$$\\Delta_{2} = -4e^{-4}$$\n",
        "\n",
        "Оба минора отрицательные. Точка является седловой."
      ]
    },
    {
      "cell_type": "markdown",
      "metadata": {
        "id": "QMSZuwMMULH_"
      },
      "source": [
        "__8**.__ С помощью метода наименьших квадратов (МНК) подобрать значения параметров $a$ и $b$ для сигмоидальной функции $$y=\\frac{1}{1+e^{-(ax+b)}}$$ \n",
        "\n",
        "по заданному распределению. Построить график."
      ]
    },
    {
      "cell_type": "markdown",
      "metadata": {
        "id": "uYzcwltuoOus"
      },
      "source": [
        "$$y=\\frac{1}{1+e^{-(ax+b)}}$$ \n",
        "\n",
        "\n",
        "$$(y_i-\\frac{1}{1+e^{-(ax_i+b)}})^2=(\\varepsilon_{i})^2$$ \n",
        "\n",
        "\n",
        "$$U_{a}'=\\sum\\limits_{i=1}^n\\Big(2\\Big(y_i-\\frac{1}{1+e^{-(ax_i+b)}}\\Big)\\Big(-\\frac{1}{1+e^{-(ax_i+b)}}\\Big)'\\Big)=\\sum\\limits_{i=1}^n\\Big(-2\\Big(y_i-\\frac{1}{1+e^{-(ax_i+b)}}\\Big)\\cdot(-1)\\Big(1+e^{-(ax_i+b)}\\Big)^{-2}\\Big(e^{-(ax_i+b)}\\Big)'\\Big)=\\sum\\limits_{i=1}^n\\Big(2\\Big(y_i-\\frac{1}{1+e^{-(ax_i+b)}}\\Big)\\frac{e^{-(ax_i+b)}}{\\Big(1+e^{-(ax_i+b)}\\Big)^2}\\cdot(-(ax_i+b))'\\Big)=\\sum\\limits_{i=1}^n\\Big(-2\\cdot x_i\\cdot\\Big(y_i-\\frac{1}{1+e^{-(ax_i+b)}}\\Big)\\frac{e^{-(ax_i+b)}}{\\Big(1+e^{-(ax_i+b)}\\Big)^2}\\Big)$$\n",
        "\n",
        "$$U_{b}'=\\sum\\limits_{i=1}^n\\Big(-2\\Big(y_i-\\frac{1}{1+e^{-(ax_i+b)}}\\Big)\\frac{e^{-(ax_i+b)}}{\\Big(1+e^{-(ax_i+b)}\\Big)^2}\\Big)$$\n",
        "\n",
        "$$$$\n",
        "$$\\begin{cases}\n",
        "   U'_{a}=\\sum\\limits_{i=1}^n\\Big(-2\\cdot x_i\\cdot\\Big(y_i-\\frac{1}{1+e^{-(ax_i+b)}}\\Big)\\frac{e^{-(ax_i+b)}}{\\Big(1+e^{-(ax_i+b)}\\Big)^2}\\Big) = 0, \\\\\n",
        "   U'_{b}=\\sum\\limits_{i=1}^n\\Big(-2\\Big(y_i-\\frac{1}{1+e^{-(ax_i+b)}}\\Big)\\frac{e^{-(ax_i+b)}}{\\Big(1+e^{-(ax_i+b)}\\Big)^2}\\Big) = 0 \n",
        " \\end{cases}$$\n"
      ]
    },
    {
      "cell_type": "code",
      "metadata": {
        "id": "XyxO1Z7-geLN"
      },
      "source": [
        "from sympy import *\n",
        "init_printing()"
      ],
      "execution_count": null,
      "outputs": []
    },
    {
      "cell_type": "code",
      "metadata": {
        "colab": {
          "base_uri": "https://localhost:8080/",
          "height": 61
        },
        "id": "mqDp5C4ohGje",
        "outputId": "c23a1cf6-74a6-491f-926e-1a7a7e8ddb26"
      },
      "source": [
        "x, y, a, b = symbols('x y a b')\n",
        "f = (y - (1/(1+exp(-(a*x+b)))))**2\n",
        "f"
      ],
      "execution_count": null,
      "outputs": [
        {
          "output_type": "execute_result",
          "data": {
            "image/png": "[encoded data removed]",
            "text/latex": "$\\displaystyle \\left(y - \\frac{1}{e^{- a x - b} + 1}\\right)^{2}$",
            "text/plain": [
              "                   2\n",
              "⎛          1      ⎞ \n",
              "⎜y - ─────────────⎟ \n",
              "⎜     -a⋅x - b    ⎟ \n",
              "⎝    ℯ         + 1⎠ "
            ]
          },
          "metadata": {},
          "execution_count": 11
        }
      ]
    },
    {
      "cell_type": "code",
      "metadata": {
        "colab": {
          "base_uri": "https://localhost:8080/",
          "height": 64
        },
        "id": "_W72XyE1h3_1",
        "outputId": "945ecae3-df45-475d-cf8e-e7967c95efc8"
      },
      "source": [
        "diff(f, a)"
      ],
      "execution_count": null,
      "outputs": [
        {
          "output_type": "execute_result",
          "data": {
            "image/png": "[encoded data removed]",
            "text/latex": "$\\displaystyle - \\frac{2 x \\left(y - \\frac{1}{e^{- a x - b} + 1}\\right) e^{- a x - b}}{\\left(e^{- a x - b} + 1\\right)^{2}}$",
            "text/plain": [
              "     ⎛          1      ⎞  -a⋅x - b \n",
              "-2⋅x⋅⎜y - ─────────────⎟⋅ℯ         \n",
              "     ⎜     -a⋅x - b    ⎟           \n",
              "     ⎝    ℯ         + 1⎠           \n",
              "───────────────────────────────────\n",
              "                         2         \n",
              "          ⎛ -a⋅x - b    ⎞          \n",
              "          ⎝ℯ         + 1⎠          "
            ]
          },
          "metadata": {},
          "execution_count": 12
        }
      ]
    },
    {
      "cell_type": "code",
      "metadata": {
        "colab": {
          "base_uri": "https://localhost:8080/",
          "height": 64
        },
        "id": "GZaUc-deiOb8",
        "outputId": "46adb86b-5e53-4484-cacc-4ff96fceebb7"
      },
      "source": [
        "diff(f, b)"
      ],
      "execution_count": null,
      "outputs": [
        {
          "output_type": "execute_result",
          "data": {
            "image/png": "[encoded data removed]",
            "text/latex": "$\\displaystyle - \\frac{2 \\left(y - \\frac{1}{e^{- a x - b} + 1}\\right) e^{- a x - b}}{\\left(e^{- a x - b} + 1\\right)^{2}}$",
            "text/plain": [
              "   ⎛          1      ⎞  -a⋅x - b \n",
              "-2⋅⎜y - ─────────────⎟⋅ℯ         \n",
              "   ⎜     -a⋅x - b    ⎟           \n",
              "   ⎝    ℯ         + 1⎠           \n",
              "─────────────────────────────────\n",
              "                        2        \n",
              "         ⎛ -a⋅x - b    ⎞         \n",
              "         ⎝ℯ         + 1⎠         "
            ]
          },
          "metadata": {},
          "execution_count": 13
        }
      ]
    },
    {
      "cell_type": "markdown",
      "metadata": {
        "id": "8tx8xSUcAsow"
      },
      "source": [
        "Решить до конца не удалось. Что-то он считает, но выдаёт ошибку. Чаще всего ошибку переполнения. Что-то рисует. Пока я даже кода fsolve не могу понять. Также пока не совсем понимаю как работает код fsolve. (Не понимаю как мы на вход equations подаём 2 числа. При этом функция должна принимать одно. А затем x, y = p.). В общем, возможно именно тут я просто совсем неверно считаю."
      ]
    },
    {
      "cell_type": "code",
      "metadata": {
        "colab": {
          "base_uri": "https://localhost:8080/",
          "height": 354
        },
        "id": "aIVsuSjv6Vuk",
        "outputId": "d9e4646b-88fc-4f8d-859b-56c62ed40267"
      },
      "source": [
        "from scipy.optimize import fsolve\n",
        "import numpy as np\n",
        "import matplotlib.pyplot as plt\n",
        "\n",
        "xi = np.random.uniform(-8, 8, 200)\n",
        "yi = 1/(1+np.exp(-np.random.uniform(0.5, 1.5, 200)*xi-np.random.uniform(-1, 1, 200)))\n",
        "\n",
        "y_ = yi.sum()\n",
        "x_ = xi.sum()\n",
        "\n",
        "#f_a = (-2) * x_ * (y_ - (1/(1 + np.exp(-((a * x_) + b))))) * (np.exp(-(a*x_ + b)))/((np.exp(-(a*x_ + b)) + 1)**2)\n",
        "#f_b = (-2) * (y_ - (1/(1 + np.exp(-((a * x_) + b))))) * (np.exp(-(a*x_ + b)))/((np.exp(-(a*x_ + b)) + 1)**2)\n",
        "\n",
        "def equations(p):\n",
        "    a, b = p\n",
        "    # Запись системы уравнения вида x+y=2, x-y=0\n",
        "    return ((-2) * x_ * (y_ - (1/(1 + np.exp(-((a * x_) + b))))) * (np.exp(-(a*x_ + b)))/((np.exp(-(a*x_ + b)) + 1)**2),\n",
        "            (-2) * (y_ - (1/(1 + np.exp(-((a * x_) + b))))) * (np.exp(-(a*x_ + b)))/((np.exp(-(a*x_ + b)) + 1)**2))\n",
        "\n",
        "a, b =  fsolve(equations, (10, 10))\n",
        "print(a, b)\n",
        "\n",
        "\n",
        "\n",
        "# # Задаем рандомное распределение точек\n",
        "# xi = np.random.uniform(-8, 8, 200)\n",
        "# yi = 1/(1+np.exp(-np.random.uniform(0.5, 1.5, 200)*xi-np.random.uniform(-1, 1, 200)))\n",
        "# print(a)\n",
        "# print(b)\n",
        "x = np.linspace(-8, 8, 100)\n",
        "y = (1/(1+np.exp(-(a*x+b))))**2\n",
        "\n",
        "# plt.scatter(xi,yi, c='black')\n",
        "plt.plot(xi,yi, marker=\"o\", ls=\"\")\n",
        "plt.plot(x, y, c='r')\n",
        "plt.show()"
      ],
      "execution_count": null,
      "outputs": [
        {
          "output_type": "stream",
          "name": "stdout",
          "text": [
            "10.84539355982623 9.544479417654165\n"
          ]
        },
        {
          "output_type": "stream",
          "name": "stderr",
          "text": [
            "/usr/local/lib/python3.7/dist-packages/scipy/optimize/minpack.py:162: RuntimeWarning: The iteration is not making good progress, as measured by the \n",
            "  improvement from the last ten iterations.\n",
            "  warnings.warn(msg, RuntimeWarning)\n"
          ]
        },
        {
          "output_type": "display_data",
          "data": {
            "image/png": "[encoded data removed]",
            "text/plain": [
              "<Figure size 432x288 with 1 Axes>"
            ]
          },
          "metadata": {
            "needs_background": "light"
          }
        }
      ]
    }
  ]
}