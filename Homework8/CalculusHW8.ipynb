{
  "nbformat": 4,
  "nbformat_minor": 0,
  "metadata": {
    "colab": {
      "name": "CalculusHW8.ipynb",
      "provenance": [],
      "collapsed_sections": []
    },
    "kernelspec": {
      "name": "python3",
      "display_name": "Python 3"
    },
    "language_info": {
      "name": "python"
    }
  },
  "cells": [
    {
      "cell_type": "code",
      "metadata": {
        "colab": {
          "base_uri": "https://localhost:8080/"
        },
        "id": "z-9SdS4ldLYY",
        "outputId": "f5c6e676-5a01-40df-a5cf-12c2fa03bfba"
      },
      "source": [
        "!pip install numpy\n",
        "\n",
        "!pip install scipy\n",
        "\n",
        "!pip install math"
      ],
      "execution_count": 1,
      "outputs": [
        {
          "output_type": "stream",
          "name": "stdout",
          "text": [
            "Requirement already satisfied: numpy in /usr/local/lib/python3.7/dist-packages (1.19.5)\n",
            "Requirement already satisfied: scipy in /usr/local/lib/python3.7/dist-packages (1.4.1)\n",
            "Requirement already satisfied: numpy>=1.13.3 in /usr/local/lib/python3.7/dist-packages (from scipy) (1.19.5)\n",
            "\u001b[31mERROR: Could not find a version that satisfies the requirement math (from versions: none)\u001b[0m\n",
            "\u001b[31mERROR: No matching distribution found for math\u001b[0m\n"
          ]
        }
      ]
    },
    {
      "cell_type": "markdown",
      "metadata": {
        "id": "Y7VxyesnthVv"
      },
      "source": [
        "__1.__ Вычислить неопределенный интеграл\n",
        "\n",
        "### $$\\int \\frac{2x+3}{(x-2)(x+5)}\\,dx$$\n",
        "\n",
        "\n",
        "$$\\frac{2x+3}{(x-2)(x+5)}=\\frac{A}{x-2}+\\frac{B}{x+5}$$\n",
        "\n",
        "$$\\frac{A}{x-2}+\\frac{B}{x+5}=\\frac{A(x + 5)+ B(x - 2)}{(x-2)(x+5)}$$\n",
        "\n",
        "$$\\begin{cases}\n",
        "A+B=2 \\\\\n",
        "5A-2B=3 \\end{cases}\\Rightarrow$$\n",
        "\n",
        "$$\\begin{cases}\n",
        "A=1 \\\\\n",
        "B=1\n",
        "\\end{cases}$$\n",
        "\n",
        "Тогда:\n",
        "\n",
        "$$\\int\\frac{2x+3}{(x-2)(x+5)}\\,dx=\\int\\frac{1}{x-2}\\,dx+\\int\\frac{1}{x+5}\\,dx=\\ln|x-2|+\\ln|x+5|+C$$"
      ]
    },
    {
      "cell_type": "code",
      "metadata": {
        "colab": {
          "base_uri": "https://localhost:8080/",
          "height": 55
        },
        "id": "JpNw0c5kfifW",
        "outputId": "53b82ab7-3c29-43d2-9ca0-ee9f61a53dae"
      },
      "source": [
        "from sympy import *\n",
        "init_printing()\n",
        "x = Symbol('x')\n",
        "f = (2 * x + 3)/((x - 2)*(x + 5))\n",
        "f"
      ],
      "execution_count": 3,
      "outputs": [
        {
          "output_type": "execute_result",
          "data": {
            "image/png": "[encoded data removed]",
            "text/latex": "$\\displaystyle \\frac{2 x + 3}{\\left(x - 2\\right) \\left(x + 5\\right)}$",
            "text/plain": [
              "    2⋅x + 3    \n",
              "───────────────\n",
              "(x - 2)⋅(x + 5)"
            ]
          },
          "metadata": {},
          "execution_count": 3
        }
      ]
    },
    {
      "cell_type": "code",
      "metadata": {
        "colab": {
          "base_uri": "https://localhost:8080/",
          "height": 38
        },
        "id": "GXvOcgG2f5ww",
        "outputId": "60d02af8-c837-4f15-eb7d-f8bba07380e7"
      },
      "source": [
        "integrate(f, x)"
      ],
      "execution_count": 4,
      "outputs": [
        {
          "output_type": "execute_result",
          "data": {
            "image/png": "[encoded data removed]",
            "text/latex": "$\\displaystyle \\log{\\left(x^{2} + 3 x - 10 \\right)}$",
            "text/plain": [
              "   ⎛ 2           ⎞\n",
              "log⎝x  + 3⋅x - 10⎠"
            ]
          },
          "metadata": {},
          "execution_count": 4
        }
      ]
    },
    {
      "cell_type": "markdown",
      "metadata": {
        "id": "uhVGYolZthNX"
      },
      "source": [
        "__2.__ Вычислить неопределенный интеграл\n",
        "\n",
        "### $$\\int e^{2x}\\cos 3x\\,dx$$\n",
        "\n",
        "\n",
        "$$U=e^{2x}\\Rightarrow\\, dU=e^{2x}*2dx$$\n",
        "$$dV=\\cos 3xdx\\,\\,\\,\\,\\,\\Rightarrow\\,\\,\\,\\,\\, V=\\frac{1}{3}\\sin 3x$$\n",
        "\n",
        "$$$$\n",
        "$$\\int e^{2x}\\cos 3x\\,dx = e^{2x}\\frac{\\sin 3x}{3} - \\frac{2}{3}\\int e^{2x}\\cdot \\sin 3x\\,dx = *$$\n",
        "$$$$\n",
        "\n",
        "$$U=e^{2x}\\,\\Rightarrow\\, dU=2e^{2x}dx$$\n",
        "$$dV=\\sin 3xdx\\,\\,\\,\\,\\,\\Rightarrow\\,\\,\\,\\,\\, V=-\\frac{1}{3}\\cos 3x$$\n",
        "\n",
        "$$* = e^{2x}\\frac{\\sin 3x}{3} - \\frac{2}{3} \\Big( -\\frac{1}{3} \\cos 3x * e^{2x} - \\int -\\frac{1}{3} \\cos 3x * 2 * e^{2x} \\,dx = e^{2x}\\frac{\\sin 3x}{3} + \\frac{2}{9}\\cos 3x * e^{2x} - \\frac{4}{9} \\int \\cos 3x * e^{2x} \\,dx  $$\n",
        "\n",
        "$$$$\n",
        "Переносим интеграл в левую часть.\n",
        "$$$$\n",
        "$$\\int e^{2x}\\cos 3x\\,dx + \\frac{4}{9} \\int \\cos 3x * e^{2x} \\,dx = e^{2x}\\frac{\\sin 3x}{3} + \\frac{2}{9}\\cos 3x * e^{2x}$$\n",
        "$$$$\n",
        "$$ 9 \\int e^{2x}\\cos 3x\\,dx + 4 \\int  e^{2x} \\cos 3x \\,dx =  3 e^{2x}\\sin 3x + 2\\cos 3x * e^{2x}$$\n",
        "$$$$\n",
        "$$ \\int e^{2x}\\cos 3x\\,dx  = \\frac{3 e^{2x}\\sin 3x + 2\\cos 3x * e^{2x}}{13} +C$$"
      ]
    },
    {
      "cell_type": "code",
      "metadata": {
        "colab": {
          "base_uri": "https://localhost:8080/",
          "height": 38
        },
        "id": "-A2kzKs6gVZ8",
        "outputId": "fb117826-7c27-47a5-b80e-4ab80ebe55b6"
      },
      "source": [
        "from sympy import *\n",
        "init_printing()\n",
        "x = Symbol('x')\n",
        "f = exp(2 * x) * cos(3 * x)\n",
        "f"
      ],
      "execution_count": 7,
      "outputs": [
        {
          "output_type": "execute_result",
          "data": {
            "image/png": "[encoded data removed]",
            "text/latex": "$\\displaystyle e^{2 x} \\cos{\\left(3 x \\right)}$",
            "text/plain": [
              " 2⋅x         \n",
              "ℯ   ⋅cos(3⋅x)"
            ]
          },
          "metadata": {},
          "execution_count": 7
        }
      ]
    },
    {
      "cell_type": "code",
      "metadata": {
        "colab": {
          "base_uri": "https://localhost:8080/",
          "height": 54
        },
        "id": "xqZ7P1Uhgitg",
        "outputId": "b1ae278a-19cc-48ce-f62f-b8441d7ba6bb"
      },
      "source": [
        "integrate(f, x)"
      ],
      "execution_count": 8,
      "outputs": [
        {
          "output_type": "execute_result",
          "data": {
            "image/png": "[encoded data removed]",
            "text/latex": "$\\displaystyle \\frac{3 e^{2 x} \\sin{\\left(3 x \\right)}}{13} + \\frac{2 e^{2 x} \\cos{\\left(3 x \\right)}}{13}$",
            "text/plain": [
              "   2⋅x               2⋅x         \n",
              "3⋅ℯ   ⋅sin(3⋅x)   2⋅ℯ   ⋅cos(3⋅x)\n",
              "─────────────── + ───────────────\n",
              "       13                13      "
            ]
          },
          "metadata": {},
          "execution_count": 8
        }
      ]
    },
    {
      "cell_type": "markdown",
      "metadata": {
        "id": "x9eaveQltg4s"
      },
      "source": [
        "__3.__ Вычислить определенный интеграл\n",
        "\n",
        "### $$\\int\\limits_0^{\\ln2} xe^{-x}\\,dx$$\n",
        "\n",
        "\n",
        "$$\\int\\limits_0^{\\ln2} xe^{-x}\\,dx$$\n",
        "$$U=x\\,\\,\\,\\,\\,\\Rightarrow\\,\\,\\,\\,\\, dU=dx$$\n",
        "$$dV=e^{-x}dx\\,\\,\\,\\,\\,\\Rightarrow\\,\\,\\,\\,\\, V=-e^{-x}$$\n",
        "$$\\int xe^{-x}\\,dx = -xe^{-x} + \\int e^{-x}dx = -xe^{-x} + - e^{-x} + C$$\n",
        "$$\\int\\limits_0^{\\ln2} xe^{-x}\\,dx= (-xe^{-x} + - e^{-x}) \\bigg|_0^{ln2} = -ln2\\cdot e^{-ln2} - e^{-ln2} - (0 - 1) =\\\\= -\\frac{ln2}{2} - \\frac{1}{2} + 1 = \\frac{1 - ln2}{2}$$"
      ]
    },
    {
      "cell_type": "code",
      "metadata": {
        "colab": {
          "base_uri": "https://localhost:8080/",
          "height": 38
        },
        "id": "EBcLRSwhhqJF",
        "outputId": "98d016fb-96fe-4749-ed9b-672b1a506674"
      },
      "source": [
        "from sympy import *\n",
        "init_printing()\n",
        "x = Symbol('x')\n",
        "f = x * exp(-x)\n",
        "f"
      ],
      "execution_count": 9,
      "outputs": [
        {
          "output_type": "execute_result",
          "data": {
            "image/png": "[encoded data removed]",
            "text/latex": "$\\displaystyle x e^{- x}$",
            "text/plain": [
              "   -x\n",
              "x⋅ℯ  "
            ]
          },
          "metadata": {},
          "execution_count": 9
        }
      ]
    },
    {
      "cell_type": "code",
      "metadata": {
        "colab": {
          "base_uri": "https://localhost:8080/",
          "height": 53
        },
        "id": "t1k8sLcTh45m",
        "outputId": "05d319c2-73e9-498f-d1e0-73240ce92976"
      },
      "source": [
        "integrate(f,(x, 0, ln(2)))"
      ],
      "execution_count": 10,
      "outputs": [
        {
          "output_type": "execute_result",
          "data": {
            "image/png": "[encoded data removed]",
            "text/latex": "$\\displaystyle \\frac{1}{2} - \\frac{\\log{\\left(2 \\right)}}{2}$",
            "text/plain": [
              "1   log(2)\n",
              "─ - ──────\n",
              "2     2   "
            ]
          },
          "metadata": {},
          "execution_count": 10
        }
      ]
    },
    {
      "cell_type": "markdown",
      "metadata": {
        "id": "UViBQ4vYAGzv"
      },
      "source": [
        "__4.__ Вычислить несобственный интеграл\n",
        "\n",
        "### $$\\int\\limits_2^{+\\infty} \\frac{dx}{x^2+x-2}$$\n",
        "\n",
        "$$\\int\\limits_2^{+\\infty} \\frac{dx}{x^2+x-2}=\\int\\limits_2^{+\\infty} \\frac{dx}{(x - 1)(x + 2)}$$\n",
        "\n",
        "$$$$\n",
        "$$\\frac{1}{(x - 1)(x + 2)} = \\frac{A}{x - 1}+\\frac{B}{x + 2}=\\frac{A(x + 2)+B(x - 1)}{(x+2)(x-1)}$$\n",
        "$$$$\n",
        "$$\\begin{cases}\n",
        "A + B = 0 \\\\\n",
        "2A + B = 1\n",
        "\\end{cases}\\Rightarrow\n",
        "$$\n",
        "\n",
        "$$\\begin{cases}\n",
        "A = \\frac{1}{3} \\\\\n",
        "B = -\\frac{1}{3} \\\\\n",
        "\\end{cases}\n",
        "$$\n",
        "\n",
        "\n",
        "$$\\int \\limits_2^{+\\infty} \\frac{dx}{x^2 + x - 2} = \\frac {1}{3} \\int \\limits_2^{+\\infty} \\frac{dx}{x - 1} - \\frac {1}{3} \\int \\limits_2^{+\\infty} \\frac{dx}{x + 2} = \\frac{1}{3}\\lim_{a\\to +\\infty}\\int\\limits_{2}^{a}\\frac{dx}{x - 1} - \\frac{1}{3}\\lim_{a\\to +\\infty}\\int\\limits_{2}^{a}\\frac{dx}{x + 2} = \\frac{1}{3}\\lim_{a\\to +\\infty}\\ln|x - 1|\\bigg|_2^{a} -\\frac{1}{3}\\lim_{a\\to +\\infty}\\ln|x + 2|\\bigg|_2^{a} = \\frac{1}{3} (\\lim_{a\\to +\\infty}\\ln|a - 1| - \\lim_{a\\to +\\infty}\\ln|2 - 1|) -\\frac{1}{3}( \\lim_{a\\to +\\infty}\\ln|a + 2| - \\ln |2 + 2|) = \\frac{1}{3} (\\lim_{a\\to +\\infty}\\ln|a - 1| - \\lim_{a\\to +\\infty}\\ln 1) -\\frac{1}{3}( \\lim_{a\\to +\\infty}\\ln|a + 2| - \\ln 4) = \\frac{1}{3} ( \\lim_{a\\to +\\infty}\\ln|a - 1| - \\lim_{a\\to +\\infty}\\ln|a + 2|) = \\frac{1}{3} \\Big (\\lim_{a\\to +\\infty} \\ln \\frac{|a - 1|}{|a + 2|} - ln4 \\Big) = \\frac{1}{3}(\\ln1 - \\ln4) = \\frac{1}{3} \\ln 4$$\n",
        "\n",
        "\n",
        "\n"
      ]
    },
    {
      "cell_type": "code",
      "metadata": {
        "colab": {
          "base_uri": "https://localhost:8080/",
          "height": 53
        },
        "id": "ZHkKDWT4k2J4",
        "outputId": "dfaf58bf-47c1-426e-da8f-87edd7ddd1e6"
      },
      "source": [
        "x = Symbol('x')\n",
        "f = 1 / (x**2 + x - 2)\n",
        "f"
      ],
      "execution_count": 12,
      "outputs": [
        {
          "output_type": "execute_result",
          "data": {
            "image/png": "[encoded data removed]",
            "text/latex": "$\\displaystyle \\frac{1}{x^{2} + x - 2}$",
            "text/plain": [
              "    1     \n",
              "──────────\n",
              " 2        \n",
              "x  + x - 2"
            ]
          },
          "metadata": {},
          "execution_count": 12
        }
      ]
    },
    {
      "cell_type": "code",
      "metadata": {
        "colab": {
          "base_uri": "https://localhost:8080/",
          "height": 53
        },
        "id": "l1bbikhcl0sa",
        "outputId": "53814a96-04c8-4f99-ae0f-dc71312c751c"
      },
      "source": [
        "integrate(f,(x, 2, +oo))"
      ],
      "execution_count": 13,
      "outputs": [
        {
          "output_type": "execute_result",
          "data": {
            "image/png": "[encoded data removed]",
            "text/latex": "$\\displaystyle \\frac{\\log{\\left(4 \\right)}}{3}$",
            "text/plain": [
              "log(4)\n",
              "──────\n",
              "  3   "
            ]
          },
          "metadata": {},
          "execution_count": 13
        }
      ]
    },
    {
      "cell_type": "markdown",
      "metadata": {
        "id": "Fds-aMJF3u6M"
      },
      "source": [
        "__5*.__ Вычислить несобственный интеграл\n",
        "\n",
        "\n",
        "### $$\\int\\limits_0^{1} \\ln x\\,dx$$\n",
        "\n",
        "$$U = \\ln x$$\n",
        "$$dV = dx$$\n",
        "\n",
        "$$dU = d\\ln x = (\\ln x)'dx = \\frac{dx}{x}$$\n",
        "$$V = x$$\n",
        "\n",
        "$$$$\n",
        "\n",
        "$$\\int\\limits_0^{1} \\ln x\\,dx = \\lim_{\\varepsilon\\to 0} \\int\\limits_\\varepsilon^{1}lnx dx = \\lim_{\\varepsilon\\to 0} (xlnx - x)\\bigg|_\\varepsilon^{1} =\\\\= \\lim_{\\varepsilon\\to 0} \\Bigl(0-1-(\\varepsilon  ln \\varepsilon - \\varepsilon)\\Bigr) = -1 -\\lim_{\\varepsilon\\to 0} \\varepsilon ln \\varepsilon +  \\lim_{\\varepsilon\\to 0} \\varepsilon = -1$$\n"
      ]
    },
    {
      "cell_type": "code",
      "metadata": {
        "colab": {
          "base_uri": "https://localhost:8080/",
          "height": 38
        },
        "id": "ys7_jOOuKD4o",
        "outputId": "0a017da5-6b9b-4e4f-c8c4-32b700041b70"
      },
      "source": [
        "x = Symbol('x')\n",
        "f = ln(x)\n",
        "f"
      ],
      "execution_count": 14,
      "outputs": [
        {
          "output_type": "execute_result",
          "data": {
            "image/png": "[encoded data removed]",
            "text/latex": "$\\displaystyle \\log{\\left(x \\right)}$",
            "text/plain": [
              "log(x)"
            ]
          },
          "metadata": {},
          "execution_count": 14
        }
      ]
    },
    {
      "cell_type": "code",
      "metadata": {
        "id": "C_vWiBL-KJqw",
        "colab": {
          "base_uri": "https://localhost:8080/",
          "height": 37
        },
        "outputId": "e0bbcfcf-0e23-4bfe-aff1-5ca0ac5f5699"
      },
      "source": [
        "integrate(f,(x, 0, 1))"
      ],
      "execution_count": 15,
      "outputs": [
        {
          "output_type": "execute_result",
          "data": {
            "image/png": "[encoded data removed]",
            "text/latex": "$\\displaystyle -1$",
            "text/plain": [
              "-1"
            ]
          },
          "metadata": {},
          "execution_count": 15
        }
      ]
    }
  ]
}