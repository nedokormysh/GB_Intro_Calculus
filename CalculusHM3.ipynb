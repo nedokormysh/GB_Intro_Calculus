{
  "nbformat": 4,
  "nbformat_minor": 0,
  "metadata": {
    "colab": {
      "name": "CalculusHM3.ipynb",
      "provenance": [],
      "collapsed_sections": [],
      "authorship_tag": "ABX9TyOHDUjRVmWX3uvzXCs93bFP",
      "include_colab_link": true
    },
    "kernelspec": {
      "name": "python3",
      "display_name": "Python 3"
    },
    "language_info": {
      "name": "python"
    }
  },
  "cells": [
    {
      "cell_type": "markdown",
      "metadata": {
        "id": "view-in-github",
        "colab_type": "text"
      },
      "source": [
        "<a href=\"https://colab.research.google.com/github/nedokormysh/GB_Intro_Calculus/blob/lesson3/CalculusHM3.ipynb\" target=\"_parent\"><img src=\"https://colab.research.google.com/assets/colab-badge.svg\" alt=\"Open In Colab\"/></a>"
      ]
    },
    {
      "cell_type": "markdown",
      "metadata": {
        "id": "OUsqiYBDqPDC"
      },
      "source": [
        "1. Найти предел функции:"
      ]
    },
    {
      "cell_type": "markdown",
      "metadata": {
        "id": "YFvb7GmAqR5j"
      },
      "source": [
        "### $$а)\\,\\,\\,\\,\\lim_{x\\to 6} \\frac{x^2-36}{x^2-x-30}$$\n",
        "$$$$\n",
        "$$\\lim_{x \\to 6}\\frac{x^2-36}{x^2-x-30} = \\Big(\\frac{0}{0}\\Big) = \\lim_{x \\to 6}\n",
        "\\frac{(x-6)(x+6)}{(x-6)(x+5)}=\\lim_{x \\to 6}\\frac{(x+6)}{(x+5)}=\\lim_{x \\to 6}\\frac{(6+6)}{(6+5)} = \\frac{12}{11}$$\n",
        "$$$$\n",
        "$$ D = b^2 - 4ac = 1-120=121$$\n",
        "$$x_{1, 2}=\\frac{-b\\pm \\sqrt{D}}{2a}=\\frac{1\\pm 11}{2}$$\n"
      ]
    },
    {
      "cell_type": "code",
      "metadata": {
        "id": "BvLYNndv9uxG"
      },
      "source": [
        "from sympy import *\n",
        "init_printing()"
      ],
      "execution_count": null,
      "outputs": []
    },
    {
      "cell_type": "code",
      "metadata": {
        "colab": {
          "base_uri": "https://localhost:8080/",
          "height": 55
        },
        "id": "Y34vUpEI9wAH",
        "outputId": "3301cdd6-84bd-4fb1-a7af-2061fd65bfda"
      },
      "source": [
        "x = Symbol('x')\n",
        "a = (x**2 - 36) / (x**2-x-30)\n",
        "a"
      ],
      "execution_count": null,
      "outputs": [
        {
          "output_type": "execute_result",
          "data": {
            "image/png": "[encoded data removed]",
            "text/latex": "$\\displaystyle \\frac{x^{2} - 36}{x^{2} - x - 30}$",
            "text/plain": [
              "   2       \n",
              "  x  - 36  \n",
              "───────────\n",
              " 2         \n",
              "x  - x - 30"
            ]
          },
          "metadata": {},
          "execution_count": 18
        }
      ]
    },
    {
      "cell_type": "code",
      "metadata": {
        "colab": {
          "base_uri": "https://localhost:8080/",
          "height": 85
        },
        "id": "_lWN_lC0-MjP",
        "outputId": "09aa1249-915d-426d-fd4d-17529181a13d"
      },
      "source": [
        "print('Проверка через библиотеку sympy')\n",
        "print('')\n",
        "limit (a, x, 6)"
      ],
      "execution_count": null,
      "outputs": [
        {
          "output_type": "stream",
          "text": [
            "Проверка через библиотеку sympy\n",
            "\n"
          ],
          "name": "stdout"
        },
        {
          "output_type": "execute_result",
          "data": {
            "image/png": "[encoded data removed]",
            "text/latex": "$\\displaystyle \\frac{12}{11}$",
            "text/plain": [
              "12\n",
              "──\n",
              "11"
            ]
          },
          "metadata": {},
          "execution_count": 20
        }
      ]
    },
    {
      "cell_type": "markdown",
      "metadata": {
        "id": "qSiUzZZH9PlU"
      },
      "source": [
        "### $$б)\\,\\,\\,\\,\\lim_{x\\to 7} \\frac{x^2-49}{x^2-13x+42}$$\n",
        "\n",
        "$$$$\n",
        "$$\\lim_{x \\to 7}\\frac{x^2-49}{x^2-13x+42} = \\Big(\\frac{0}{0}\\Big) = \\lim_{x \\to 7}\n",
        "\\frac{(x-7)(x+7)}{(x-7)(x-6)}=\\lim_{x \\to 7}\\frac{(x+7)}{(x-6)}=\\lim_{x \\to 7}\\frac{(7+7)}{(7-6)} = 14$$\n",
        "$$$$\n",
        "$$ D = b^2 - 4ac = 169-168=121$$\n",
        "$$x_{1, 2}=\\frac{-b\\pm \\sqrt{D}}{2a}=\\frac{13\\pm 1}{2}$$"
      ]
    },
    {
      "cell_type": "code",
      "metadata": {
        "colab": {
          "base_uri": "https://localhost:8080/",
          "height": 55
        },
        "id": "CTq9UKZOE0TR",
        "outputId": "a948888b-7809-4cf8-e9f2-0e608816c2cb"
      },
      "source": [
        "x=Symbol('x')\n",
        "a = (x**2 - 49) / ((x**2)-(13*x)+42)\n",
        "a"
      ],
      "execution_count": null,
      "outputs": [
        {
          "output_type": "execute_result",
          "data": {
            "image/png": "[encoded data removed]",
            "text/latex": "$\\displaystyle \\frac{x^{2} - 49}{x^{2} - 13 x + 42}$",
            "text/plain": [
              "    2         \n",
              "   x  - 49    \n",
              "──────────────\n",
              " 2            \n",
              "x  - 13⋅x + 42"
            ]
          },
          "metadata": {},
          "execution_count": 22
        }
      ]
    },
    {
      "cell_type": "code",
      "metadata": {
        "colab": {
          "base_uri": "https://localhost:8080/",
          "height": 70
        },
        "id": "FyB9gUEaE2BN",
        "outputId": "6883fd4d-ccb4-4217-eefc-ef24255ab754"
      },
      "source": [
        "print('Проверка через библиотеку sympy\\n')\n",
        "limit (a, x, 7)"
      ],
      "execution_count": null,
      "outputs": [
        {
          "output_type": "stream",
          "text": [
            "Проверка через библиотеку sympy\n",
            "\n"
          ],
          "name": "stdout"
        },
        {
          "output_type": "execute_result",
          "data": {
            "image/png": "[encoded data removed]",
            "text/latex": "$\\displaystyle 14$",
            "text/plain": [
              "14"
            ]
          },
          "metadata": {},
          "execution_count": 23
        }
      ]
    },
    {
      "cell_type": "markdown",
      "metadata": {
        "id": "oETjYMcMZm7T"
      },
      "source": [
        "\n",
        "### $$в^*)\\,\\,\\,\\,\\lim_{x\\to 7} \\frac{\\sqrt{x+2}-\\sqrt[3]{x+20}}{\\sqrt[4]{x+9}-2}$$\n",
        "$$$$\n",
        "$$\\lim_{x\\to 7} \\frac{\\sqrt{x+2}-\\sqrt[3]{x+20}}{\\sqrt[4]{x+9}-2} = \\Big(\\frac{0}{0}\\Big)$$ \n",
        "\n",
        "$$\\sqsupset \\sqrt{x+2}-\\sqrt[3]{x+20} = A$$\n",
        "избавимся от корней в знаменателе\n",
        "\n",
        "$$ = \\lim_{x\\to 7} \\frac{A*(\\sqrt[4]{x+9}+2)*(\\sqrt{x+9}+4)}{x+9-16} = $$\n",
        "\n",
        "$$\\sqsupset (\\sqrt[4]{x+9}+2)*(\\sqrt{x+9}+4)= B$$\n",
        "\n",
        "$$ = \\lim_{x\\to 7} \\frac{(\\sqrt{x+2} - \\sqrt[3]{x+20})*(x+2+\\sqrt{x+2}*\\sqrt[3]{x+20}+\\sqrt[3]{(x+20)^2})*B}{(x-7)*(x+2+\\sqrt{x+2}*\\sqrt[3]{x+20}+\\sqrt[3]{(x+20)^2})} =\\lim_{x\\to 7} \\frac{(\\sqrt{(x+2)^3} - (x+20))*B*(\\sqrt{(x+2)^3} + (x + 20))}{(x-7)*(x + 2 + \\sqrt{x+2}*\\sqrt[3]{x + 20}+\\sqrt[3]{(x + 20)^2})*(\\sqrt{(x + 2)^3} + (x + 20))} =  \\lim_{x\\to 7} \\frac{({(x+2)^3} - (x + 20)^2)*B}{(x-7)*(x+2+\\sqrt{x+2}*\\sqrt[3]{x+20}+\\sqrt[3]{(x+20)^2})*(\\sqrt{(x+2)^3} + (x + 20))} =\n",
        "\\lim_{x\\to 7} \\frac{(x^3 +6x^2+12x+8-x^2-40x-400)*B}{(x-7)*(x+2+\\sqrt{x+2}*\\sqrt[3]{x+20}+\\sqrt[3]{(x+20)^2})*(\\sqrt{(x+2)^3} + (x + 20))}=\\lim_{x\\to 7} \\frac{(x^3 + 5x^2 - 28x - 392)*B}{(x-7)*(x+2+\\sqrt{x+2}*\\sqrt[3]{x + 20}+\\sqrt[3]{(x+20)^2})*(\\sqrt{(x+2)^3} + (x + 20))}=\\lim_{x\\to 7} \\frac{(x - 7)*(x^2 + 12x + 56)*(\\sqrt[4]{x+9}+2)*(\\sqrt{x+9}+4)}{(x-7)*(x+2+\\sqrt{x+2}*\\sqrt[3]{x+20}+\\sqrt[3]{(x+20)^2})*(\\sqrt{(x+2)^3} + (x+20))}=\\frac{(49+84+56)*(2+2)*(4+4)}{(7+2+9+9)*(27+27)}=\\frac{189*4*8}{(7+2+9+9)(27+27)}=\\frac{224}{54}=\\frac{112}{27}$$\n"
      ]
    },
    {
      "cell_type": "code",
      "metadata": {
        "colab": {
          "base_uri": "https://localhost:8080/",
          "height": 63
        },
        "id": "-Rp35PHajzBj",
        "outputId": "45c8db5d-ac14-4b7d-b5dd-211a2571545d"
      },
      "source": [
        "x=Symbol('x')\n",
        "a = (sqrt(x+2) - (x+20)**(1/3))/((x+9)**(1/4)-2)\n",
        "a"
      ],
      "execution_count": null,
      "outputs": [
        {
          "output_type": "execute_result",
          "data": {
            "image/png": "[encoded data removed]",
            "text/latex": "$\\displaystyle \\frac{\\sqrt{x + 2} - \\left(x + 20\\right)^{0.333333333333333}}{\\left(x + 9\\right)^{0.25} - 2}$",
            "text/plain": [
              "  _______           0.333333333333333\n",
              "╲╱ x + 2  - (x + 20)                 \n",
              "─────────────────────────────────────\n",
              "                  0.25               \n",
              "           (x + 9)     - 2           "
            ]
          },
          "metadata": {},
          "execution_count": 34
        }
      ]
    },
    {
      "cell_type": "code",
      "metadata": {
        "colab": {
          "base_uri": "https://localhost:8080/",
          "height": 70
        },
        "id": "b5adAV2bkkB8",
        "outputId": "7e4342e7-508c-4873-dfa0-db0cc86ffe4f"
      },
      "source": [
        "print('Проверка через библиотеку sympy\\n')\n",
        "limit (a, x, 7)"
      ],
      "execution_count": null,
      "outputs": [
        {
          "output_type": "stream",
          "text": [
            "Проверка через библиотеку sympy\n",
            "\n"
          ],
          "name": "stdout"
        },
        {
          "output_type": "execute_result",
          "data": {
            "image/png": "[encoded data removed]",
            "text/latex": "$\\displaystyle 4.14814814814815$",
            "text/plain": [
              "4.14814814814815"
            ]
          },
          "metadata": {},
          "execution_count": 38
        }
      ]
    },
    {
      "cell_type": "code",
      "metadata": {
        "colab": {
          "base_uri": "https://localhost:8080/"
        },
        "id": "C-8xpnsxknJv",
        "outputId": "15a81d7e-4c6f-45da-e8f6-1c20eebe2f3a"
      },
      "source": [
        "print(112/27)"
      ],
      "execution_count": null,
      "outputs": [
        {
          "output_type": "stream",
          "text": [
            "4.148148148148148\n"
          ],
          "name": "stdout"
        }
      ]
    },
    {
      "cell_type": "markdown",
      "metadata": {
        "id": "HAKe-RmEkyOU"
      },
      "source": [
        "### $$г)\\,\\,\\,\\,\\lim_{x\\to 0} \\frac{3x\\,\\mbox{tg}\\,4x}{1-\\cos4x}$$\n",
        "$$$$\n",
        "\n",
        "$$\\lim_{x\\to 0} \\frac{3x\\,\\mbox{tg}\\,4x}{1-\\cos4x}=\\frac{3}{2}\\lim_{x \\to 0}\\frac{x\\,\\mbox{tg}\\,4x}{\\sin2x\\sin2x}=\\frac{3}{2}\\lim_{x \\to 0}\\frac{x\\,\\mbox{tg}\\,4x}{4x}=\\frac{3}{2}$$"
      ]
    },
    {
      "cell_type": "code",
      "metadata": {
        "colab": {
          "base_uri": "https://localhost:8080/",
          "height": 57
        },
        "id": "gtcY61HomliD",
        "outputId": "a6b5fca2-7058-4534-d294-136818cc5b21"
      },
      "source": [
        "x=Symbol('x')\n",
        "a = (3*x*tan(4*x))/(1-cos(4*x))\n",
        "a"
      ],
      "execution_count": null,
      "outputs": [
        {
          "output_type": "execute_result",
          "data": {
            "image/png": "[encoded data removed]",
            "text/latex": "$\\displaystyle \\frac{3 x \\tan{\\left(4 x \\right)}}{1 - \\cos{\\left(4 x \\right)}}$",
            "text/plain": [
              "3⋅x⋅tan(4⋅x)\n",
              "────────────\n",
              "1 - cos(4⋅x)"
            ]
          },
          "metadata": {},
          "execution_count": 47
        }
      ]
    },
    {
      "cell_type": "code",
      "metadata": {
        "colab": {
          "base_uri": "https://localhost:8080/",
          "height": 85
        },
        "id": "0ivrS36snUXp",
        "outputId": "69534935-8ef6-475c-ac35-2fe46cad762f"
      },
      "source": [
        "print('Проверка через библиотеку sympy\\n')\n",
        "limit (a, x, 0)"
      ],
      "execution_count": null,
      "outputs": [
        {
          "output_type": "stream",
          "text": [
            "Проверка через библиотеку sympy\n",
            "\n"
          ],
          "name": "stdout"
        },
        {
          "output_type": "execute_result",
          "data": {
            "image/png": "[encoded data removed]",
            "text/latex": "$\\displaystyle \\frac{3}{2}$",
            "text/plain": [
              "3/2"
            ]
          },
          "metadata": {},
          "execution_count": 48
        }
      ]
    },
    {
      "cell_type": "markdown",
      "metadata": {
        "id": "eV4wqr1CnnFg"
      },
      "source": [
        "### $$д^{**})\\,\\,\\,\\,\\lim_{x\\to 0} \\frac{\\sqrt2x^2\\sin4x}{(1-\\cos2x)^{\\frac{3}{2}}}$$\n",
        "$$$$\n",
        "$$\\lim_{x\\to 0} \\frac{\\sqrt2x^2\\sin4x}{(1-\\cos2x)^{\\frac{3}{2}}}=\\Big(\\frac{0}{0}\\Big)=\\lim_{x\\to 0} \\frac{\\sqrt2x^2\\sin4x}{\\sqrt{8*\\sin^6 x}}=\\lim_{x\\to 0} \\frac{\\sqrt2x^2\\sin4x}{2\\sqrt{2}|\\sin^3 x|}=\\lim_{x\\to 0} \\frac{(x^2)*2*\\sin(2x)*\\cos(2x)}{2*|\\sin^3 x|} =\\lim_{x\\to 0} \\frac{x^2*\\sin(2x)}{|x^3|} = \\lim_{x\\to 0}\\frac{2x^3}{|x^3|}$$\n",
        "\n",
        "Насколько я понимаю, то предела в точке 0 не существует. Т.к. в определении предела, мы должны приближаться к одному числу. А здесь мы приближаемся справа к +2, а слева к -2."
      ]
    },
    {
      "cell_type": "markdown",
      "metadata": {
        "id": "Q9FX82VArV1k"
      },
      "source": [
        "### $$е)\\,\\,\\,\\,\\lim_{x\\to \\infty} \\Bigr(\\frac{4x}{4x+3}\\Bigl)^\\frac{5x^2}{7x-1}$$\n",
        "$$$$\n",
        "$$\\lim_{x\\to \\infty} \\Bigr(\\frac{4x}{4x+3}\\Bigl)^\\frac{5x^2}{7x-1}=(1)^{+\\infty}=\\lim_{x\\to \\infty} e^{\\Bigl(\\frac{-3}{4x+3}\\Bigr)\\frac{5x^2}{7x-1}}=\\lim_{x\\to \\infty} e^{\\Bigl(\\frac{-15x^2}{(4x+3)(7x-1)}\\Bigr)}=e^{\\frac{-15}{28}}=\\frac{1}{e^{\\frac{15}{28}}}$$"
      ]
    },
    {
      "cell_type": "markdown",
      "metadata": {
        "id": "N7ze2HwIuSN_"
      },
      "source": [
        "### $$ж^*)\\,\\,\\,\\,\\lim_{x\\to +0} \\frac{5^x-1}{x}$$\n",
        "\n",
        "$$$$\n",
        "\n",
        "$$\\lim_{x\\to +0} \\frac{5^x-1}{x}=\\Big(\\frac{0}{0}\\Big)$$\n",
        "$$$$\n",
        "$$5=e^{\\ln5}$$\n",
        "$$$$\n",
        "$$5^x=e^{x\\ln5}$$\n",
        "$$$$\n",
        "$$\\sqsupset n = x\\ln5$$\n",
        "$$$$\n",
        "$$=\\lim_{n\\to +0} \\Big(\\frac{e^{n}-1}{n}\\Big)\\ln5=\\ln5$$"
      ]
    },
    {
      "cell_type": "markdown",
      "metadata": {
        "id": "FdDeXekvxvn5"
      },
      "source": [
        "### $$з^*)\\,\\,\\,\\,\\lim_{x\\to +\\infty} \\frac{\\ln(x^2-x+1)}{\\ln(x^{10}+x+1)}$$\n",
        "\n",
        "$$$$\n",
        "$$\\lim_{x\\to +\\infty} \\frac{\\ln(x^2-x+1)}{\\ln(x^{10}+x+1)} =\\Big(\\frac{\\infty}{\\infty}\\Big)= \\lim_{x\\to +\\infty} \\frac{2\\ln(x) + \\ln(1-\\frac{1}{x}+\\frac{1}{x^2})}{10\\ln(x)+\\ln(1+\\frac{1}{x^9} + \\frac{1}{x^{10}})} =  \\lim_{x\\to +\\infty} \\frac{2 + \\frac{1}{\\ln{x}} \\ln(1-\\frac{1}{x}+\\frac{1}{x^2})}{10 + \\frac{1}{\\ln{x}}\\ln(1+\\frac{1}{x^9} + \\frac{1}{x^{10}})} = \\frac{1}{5} $$"
      ]
    },
    {
      "cell_type": "markdown",
      "metadata": {
        "id": "LAjBZt_54D03"
      },
      "source": [
        "__2*.__ На языке Python предложить алгоритм вычисляющий численно предел последовательности\n",
        "\n",
        "### $$\\lim_{n\\to +\\infty} \\frac{n}{\\sqrt[n]{n!}}$$"
      ]
    },
    {
      "cell_type": "markdown",
      "metadata": {
        "id": "g2MwpmORY3ib"
      },
      "source": [
        "$$\\forall\\varepsilon>0\\,\\,\\,\\exists \\delta(\\varepsilon), \\,\\,\\,\\forall x\\,\\,\\, |x-x_0|<\\delta:|f(x)-A|<\\varepsilon$$\n",
        "\n",
        "Из определения, нам надо сразу явно задавать А. Не совсем понятно как это делать. Поэтому будем смотреть на последовательность. И тут практически скопирован код, который был показан на занятии.\n",
        "Т.е. нам нужно вычислить такое значение f(x1)-f(x0), при котором эта разница будет неотличима от заданного эпсилон."
      ]
    },
    {
      "cell_type": "code",
      "metadata": {
        "colab": {
          "base_uri": "https://localhost:8080/"
        },
        "id": "ELBzQp6X6n4z",
        "outputId": "18ea94aa-b7b5-4158-8da1-169a006fd839"
      },
      "source": [
        "import math\n",
        "import sympy\n",
        "import numpy as np\n",
        "import scipy\n",
        "\n",
        "eps = 0.000001\n",
        "\n",
        "def limF(n):\n",
        "    b = sympy.factorial(n)\n",
        "    #print(type(b))\n",
        "    c = 1/n\n",
        "    return (n / pow(b, c))\n",
        "\n",
        "n = 1\n",
        "lim = 1\n",
        "x0 = limF(n)\n",
        "\n",
        "while lim > eps:\n",
        "    n += 1\n",
        "    x1 = limF(n)\n",
        "    lim = abs(x1 - x0)\n",
        "    x0 = x1\n",
        "\n",
        "print (f'Численное значение предела: {x1}\\n',f'Погрешность: {lim}\\n', f'Число шагов: {n-1}')"
      ],
      "execution_count": 62,
      "outputs": [
        {
          "output_type": "stream",
          "text": [
            "Численное значение предела: 2.71439695339699\n",
            " Погрешность: 9.99923936539915E-7\n",
            " Число шагов: 3494\n"
          ],
          "name": "stdout"
        }
      ]
    },
    {
      "cell_type": "markdown",
      "metadata": {
        "id": "zcf5OrqW8q4p"
      },
      "source": [
        "Правда сработало только в случае использования sympy. Иначе ошибка переполнения для хоть чуть больших значений эпсилон. Дальше я попытался написать свою функцию факториала. И этот код даже работает, но выдаёт не ошибку, а просто 0 при больших значениях эпсилон. Не понимаю пока в каком типе считает sympy. Вроде он возвращает некое значение 'sympy.core.numbers.Integer'. В общем, решения этой задачи у меня нет."
      ]
    },
    {
      "cell_type": "code",
      "metadata": {
        "colab": {
          "base_uri": "https://localhost:8080/"
        },
        "id": "Ga6EeVBA-leE",
        "outputId": "7da604a1-904b-414c-8e6a-19408041d5b4"
      },
      "source": [
        "eps = 0.001\n",
        "\n",
        "#n = int(input('n = '))\n",
        "def factorial(n):\n",
        "    temp = float(1)\n",
        "    if (n == 0):\n",
        "       return temp\n",
        "    else:\n",
        "        for i in range(1, n + 1):\n",
        "            temp = float(temp) * i\n",
        "        return temp\n",
        "\n",
        "def limF(n):\n",
        "    b = factorial(n)\n",
        "    c = 1/n\n",
        "    #print(type(b))\n",
        "    return (n / pow(b, c))\n",
        "\n",
        "n = 1\n",
        "lim = 1\n",
        "x0 = limF(n)\n",
        "i = 0\n",
        "\n",
        "while lim > eps:\n",
        "    n += 1\n",
        "    i += 1\n",
        "    x1 = limF(n)\n",
        "    lim = abs(x1 - x0)\n",
        "    x0 = x1\n",
        "    #print(i)\n",
        "\n",
        "print (f'Численное значение предела: {x1}\\n',f'Погрешность: {lim}\\n', f'Число шагов: {n-1}')"
      ],
      "execution_count": 60,
      "outputs": [
        {
          "output_type": "stream",
          "text": [
            "Численное значение предела: 2.618690898433316\n",
            " Погрешность: 0.0009888997601330551\n",
            " Число шагов: 83\n"
          ],
          "name": "stdout"
        }
      ]
    }
  ]
}