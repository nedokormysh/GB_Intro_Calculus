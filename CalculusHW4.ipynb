{
  "nbformat": 4,
  "nbformat_minor": 0,
  "metadata": {
    "colab": {
      "name": "CalculusHW4.ipynb",
      "provenance": [],
      "collapsed_sections": [],
      "authorship_tag": "ABX9TyNWskre/0QULFJCTWwqtwrz",
      "include_colab_link": true
    },
    "kernelspec": {
      "name": "python3",
      "display_name": "Python 3"
    },
    "language_info": {
      "name": "python"
    }
  },
  "cells": [
    {
      "cell_type": "markdown",
      "metadata": {
        "id": "view-in-github",
        "colab_type": "text"
      },
      "source": [
        "<a href=\"https://colab.research.google.com/github/nedokormysh/GB_Intro_Calculus/blob/lesson4/CalculusHW4.ipynb\" target=\"_parent\"><img src=\"https://colab.research.google.com/assets/colab-badge.svg\" alt=\"Open In Colab\"/></a>"
      ]
    },
    {
      "cell_type": "markdown",
      "metadata": {
        "id": "4xEU_C2HWZ0w"
      },
      "source": [
        "__1.__ Найти производную функции:\n",
        "\n",
        "### $$y=\\frac{1}{x}+\\frac{2}{x^2}-\\frac{5}{x^3}+\\sqrt x -\\sqrt[3]x+\\frac{3}{\\sqrt x}$$\n",
        "\n",
        "$$\\Big(\\frac{1}{x}\\Big)' = (x^{-1})'=-x^{-2}$$\n",
        "$$\\Big(\\frac{2}{x^2}\\Big)' = (2x^{-2})'=2(-2)x^{-3}=-4x^{-3}$$\n",
        "$$\\Big(-\\frac{5}{x^3}\\Big)' = (-5x^{-3})'=-5(-3)x^{-4}=15x^{-4}$$\n",
        "$$(\\sqrt x)' = (x^{\\frac{1}{2}})'=\\frac{1}{2}x^{-\\frac{1}{2}}=\\frac{1}{2}\\frac{1}{\\sqrt x}$$\n",
        "$$(-\\sqrt[3] x)' = (-x^{\\frac{1}{3}})'=-\\frac{1}{3}x^{-\\frac{2}{3}}=-\\frac{1}{3}\\frac{1}{\\sqrt[3] {x^2}}$$\n",
        "$$(\\frac{3}{\\sqrt x})' = (3x^{-\\frac{1}{2}})'=3(-\\frac{1}{2})x^{-\\frac{3}{2}}=(-\\frac{3}{2})x^{-\\frac{3}{2}}=-\\frac{3}{2}\\frac{1}{\\sqrt {x^3}}$$\n",
        "$$y'=-\\frac{1}{x^{2}}-\\frac{4}{x^3}+\\frac{15}{x^4}+\\frac{1}{2}\\frac{1}{\\sqrt x}-\\frac{1}{3}\\frac{1}{\\sqrt[3] {x^2}}-\\frac{3}{2}\\frac{1}{\\sqrt {x^3}}=-x^{-2}-4x^{-3}+15x^{-4}+\\frac{1}{2}x^{-\\frac{1}{2}} -\\frac{1}{3}x^{-\\frac{2}{3}}-\\frac{3}{2}x^{-\\frac{3}{2}}$$"
      ]
    },
    {
      "cell_type": "code",
      "metadata": {
        "colab": {
          "base_uri": "https://localhost:8080/",
          "height": 51
        },
        "id": "a4Nv2Kjq9Er-",
        "outputId": "ddc09305-d0a1-4928-d610-07e6fab19d00"
      },
      "source": [
        "from sympy import *\n",
        "init_printing()\n",
        "\n",
        "x = Symbol('x')\n",
        "#f = ((1/x)+(2/(x^2))-(5/(x^3))+(x^(1/2))-(x^(1/3))+(3/(x^(1/2))))\n",
        "f = (1/x)+(2/(x**2))-(5/(x**3))+(x**(1/2))-(x**(1/3))+(3/(x**(1/2)))\n",
        "diff(f, x)"
      ],
      "execution_count": null,
      "outputs": [
        {
          "output_type": "execute_result",
          "data": {
            "image/png": "[encoded data removed]",
            "text/latex": "$\\displaystyle - \\frac{1.5}{x^{1.5}} - \\frac{0.333333333333333}{x^{0.666666666666667}} + \\frac{0.5}{x^{0.5}} - \\frac{1}{x^{2}} - \\frac{4}{x^{3}} + \\frac{15}{x^{4}}$",
            "text/plain": [
              "       -1.5                      -0.666666666666667        -0.5   1    4    15\n",
              "- 1.5⋅x     - 0.333333333333333⋅x                   + 0.5⋅x     - ── - ── + ──\n",
              "                                                                   2    3    4\n",
              "                                                                  x    x    x "
            ]
          },
          "metadata": {},
          "execution_count": 3
        }
      ]
    },
    {
      "cell_type": "markdown",
      "metadata": {
        "id": "bKR2nqBIWZsw"
      },
      "source": [
        "__2.__ Найти производную функции:\n",
        "\n",
        "### $$y=x \\cdot \\sqrt {1+x^2}$$\n",
        "$$(x \\cdot \\sqrt {1+x^2})' = 1\\cdot\\sqrt {1+x^2}+x\\cdot(\\sqrt {1+x^2})'= \\sqrt {1+x^2}+x\\cdot\\frac{1}{2}\\Big(\\frac{1}{\\sqrt {1+x^2}}\\Big)\\cdot 2x = \\sqrt {1+x^2}+\\frac{x^2}{\\sqrt {1+x^2}} = \\frac{1+x^2+x^2}{\\sqrt {1+x^2}} = \\frac{2x^2+1}{\\sqrt {1+x^2}}$$"
      ]
    },
    {
      "cell_type": "code",
      "metadata": {
        "colab": {
          "base_uri": "https://localhost:8080/",
          "height": 58
        },
        "id": "wnsqEOQvRfpk",
        "outputId": "068c6e61-eaa9-412d-c4ee-d4c44ff20421"
      },
      "source": [
        "x = Symbol('x')\n",
        "#f = (x*((x**2+1)**(1/2)))\n",
        "f = x*sqrt(x**2 + 1)\n",
        "diff(f, x)"
      ],
      "execution_count": null,
      "outputs": [
        {
          "output_type": "execute_result",
          "data": {
            "image/png": "[encoded data removed]",
            "text/latex": "$\\displaystyle \\frac{x^{2}}{\\sqrt{x^{2} + 1}} + \\sqrt{x^{2} + 1}$",
            "text/plain": [
              "      2          ________\n",
              "     x          ╱  2     \n",
              "─────────── + ╲╱  x  + 1 \n",
              "   ________              \n",
              "  ╱  2                   \n",
              "╲╱  x  + 1               "
            ]
          },
          "metadata": {},
          "execution_count": 25
        }
      ]
    },
    {
      "cell_type": "markdown",
      "metadata": {
        "id": "1Vpcp9dgWZi4"
      },
      "source": [
        "__3.__ Найти производную функции:\n",
        "\n",
        "### $$y= \\frac{2x}{1-x^2}$$\n",
        "$$\\Big( \\frac{2x}{1-x^2}\\Big)'=\\frac{2\\cdot(1-x^2)-2x(-2x)}{(1-x^2)^2}=\\frac{2\\cdot(1-x^2)+4x^2}{(1-x^2)^2} = \\frac{2-2x^2+4x^2}{(1-x^2)^2} =\\frac{2x^2+2}{(1-x^2)^2}$$"
      ]
    },
    {
      "cell_type": "code",
      "metadata": {
        "colab": {
          "base_uri": "https://localhost:8080/",
          "height": 61
        },
        "id": "vYdnp41rlf_K",
        "outputId": "0bb649f5-0b37-4334-ad9d-d4cef4110149"
      },
      "source": [
        "x = Symbol('x')\n",
        "f = 2*x/(1-x**2)\n",
        "diff(f, x)"
      ],
      "execution_count": null,
      "outputs": [
        {
          "output_type": "execute_result",
          "data": {
            "image/png": "[encoded data removed]",
            "text/latex": "$\\displaystyle \\frac{4 x^{2}}{\\left(1 - x^{2}\\right)^{2}} + \\frac{2}{1 - x^{2}}$",
            "text/plain": [
              "      2           \n",
              "   4⋅x        2   \n",
              "───────── + ──────\n",
              "        2        2\n",
              "⎛     2⎞    1 - x \n",
              "⎝1 - x ⎠          "
            ]
          },
          "metadata": {},
          "execution_count": 29
        }
      ]
    },
    {
      "cell_type": "markdown",
      "metadata": {
        "id": "Zka3XH2NWZSr"
      },
      "source": [
        "__4*.__ Найти производную функции:\n",
        "\n",
        "### $$y=\\sqrt{x+ \\sqrt{x+\\sqrt x}}$$\n",
        "\n",
        "$$\\Big(\\sqrt{x+ \\sqrt{x+\\sqrt x}}\\Big)'=\\Big(\\Big(x+\\Big(x+x^{\\frac{1}{2}}\\Big)^{\\frac{1}{2}}\\Big)^{\\frac{1}{2}}\\Big)' = \\frac{1}{2}\\frac{1}{x + \\sqrt{x+\\sqrt{x}}}\\cdot\\Big(x+(x+x^{\\frac{1}{2}})^\\frac{1}{2}\\Big)'=\\frac{1}{2}\\frac{1}{x + \\sqrt{x+\\sqrt{x}}}\\cdot\\Big(1+\\Big((x+x^{\\frac{1}{2}})^\\frac{1}{2}\\Big)'\\Big)=\\frac{1}{2}\\frac{1}{x + \\sqrt{x+\\sqrt{x}}}\\cdot\\Big(1+\\frac{1}{2}\\frac{1}{\\sqrt{x+\\sqrt x}}\\Big(x+x^{\\frac{1}{2}}\\Big)'\\Big)=\\frac{1}{2}\\frac{1}{x + \\sqrt{x+\\sqrt{x}}}\\cdot\\Big(1+\\frac{1}{2}\\frac{1}{\\sqrt{x+\\sqrt x}}\\Big(1+\\frac{1}{2}x^{-\\frac{1}{2}}\\Big)\\Big)=\\frac{1}{2}\\frac{1}{x + \\sqrt{x+\\sqrt{x}}}\\cdot\\Big(1+\\frac{1}{2}\\frac{1}{\\sqrt{x+\\sqrt x}}\\Big(1+\\frac{1}{2}\\frac{1}{\\sqrt x}\\Big)\\Big)\\frac{1}{2}\\Big(x+\\Big(x+x^{\\frac{1}{2}}\\Big)^{\\frac{1}{2}}\\Big)^{-\\frac{1}{2}}\\cdot\\Big(1+\\frac{1}{2}\\Big(x+x^{\\frac{1}{2}}\\Big)^{-\\frac{1}{2}}\\cdot \\Big(1+\\frac{1}{2}x^{-\\frac{1}{2}}\\Big)\\Big)$$"
      ]
    },
    {
      "cell_type": "code",
      "metadata": {
        "colab": {
          "base_uri": "https://localhost:8080/",
          "height": 58
        },
        "id": "jyQJzUSKUevk",
        "outputId": "f4d9ab47-58e9-45be-8055-07bd0cf8ea3c"
      },
      "source": [
        "x = Symbol('x')\n",
        "#f = (x+(x+x**(1/2))**(1/2))**(1/2)\n",
        "f = sqrt(x+sqrt(x+sqrt(x)))\n",
        "f"
      ],
      "execution_count": null,
      "outputs": [
        {
          "output_type": "execute_result",
          "data": {
            "image/png": "[encoded data removed]",
            "text/latex": "$\\displaystyle \\sqrt{x + \\sqrt{\\sqrt{x} + x}}$",
            "text/plain": [
              "   ________________\n",
              "  ╱       ________ \n",
              "╲╱  x + ╲╱ √x + x  "
            ]
          },
          "metadata": {},
          "execution_count": 13
        }
      ]
    },
    {
      "cell_type": "code",
      "metadata": {
        "colab": {
          "base_uri": "https://localhost:8080/",
          "height": 89
        },
        "id": "zfjoq7yXWmtT",
        "outputId": "24c42d94-f76a-460a-d2ce-0fb2942861cb"
      },
      "source": [
        "diff(f, x)"
      ],
      "execution_count": null,
      "outputs": [
        {
          "output_type": "execute_result",
          "data": {
            "image/png": "[encoded data removed]",
            "text/latex": "$\\displaystyle \\frac{\\frac{\\frac{1}{2} + \\frac{1}{4 \\sqrt{x}}}{2 \\sqrt{\\sqrt{x} + x}} + \\frac{1}{2}}{\\sqrt{x + \\sqrt{\\sqrt{x} + x}}}$",
            "text/plain": [
              "    1    1         \n",
              "    ─ + ────       \n",
              "    2   4⋅√x     1 \n",
              "  ──────────── + ─ \n",
              "      ________   2 \n",
              "  2⋅╲╱ √x + x      \n",
              "───────────────────\n",
              "   ________________\n",
              "  ╱       ________ \n",
              "╲╱  x + ╲╱ √x + x  "
            ]
          },
          "metadata": {},
          "execution_count": 14
        }
      ]
    },
    {
      "cell_type": "markdown",
      "metadata": {
        "id": "cKhtKkQKnuzG"
      },
      "source": [
        "__5.__ Найти производную функции:\n",
        "\n",
        "### $$y= \\ln(x+\\sqrt{x^2+1})$$\n",
        "\n",
        "$$(\\ln(x+\\sqrt{x^2+1}))'=\\frac{1}{x+\\sqrt{x^2+1}}\\cdot \\Big(x+\\sqrt{x^2+1} \\Big)'=\\frac{1}{x+\\sqrt{x^2+1}}\\cdot \\Big(1+\\frac{1}{2}\\frac{2x}{\\sqrt{x^2+1}} \\Big)=\\frac{1}{x+\\sqrt{x^2+1}}\\cdot \\Big(1+\\frac{x}{\\sqrt{x^2+1}} \\Big)=\\frac{1}{x+\\sqrt{x^2+1}}\\cdot \\frac{x+\\sqrt{x^2+1}}{\\sqrt{x^2+1}}=\\frac{1}{\\sqrt{x^2+1}}$$"
      ]
    },
    {
      "cell_type": "code",
      "metadata": {
        "colab": {
          "base_uri": "https://localhost:8080/",
          "height": 47
        },
        "id": "PMe8nRr8ZyPF",
        "outputId": "d4973782-06b2-4192-e678-2f3b38d8ab57"
      },
      "source": [
        "x = Symbol('x')\n",
        "#f = (x+(x+x**(1/2))**(1/2))**(1/2)\n",
        "f = ln(x+sqrt(x**2+1))\n",
        "f"
      ],
      "execution_count": null,
      "outputs": [
        {
          "output_type": "execute_result",
          "data": {
            "image/png": "[encoded data removed]",
            "text/latex": "$\\displaystyle \\log{\\left(x + \\sqrt{x^{2} + 1} \\right)}$",
            "text/plain": [
              "   ⎛       ________⎞\n",
              "   ⎜      ╱  2     ⎟\n",
              "log⎝x + ╲╱  x  + 1 ⎠"
            ]
          },
          "metadata": {},
          "execution_count": 17
        }
      ]
    },
    {
      "cell_type": "code",
      "metadata": {
        "colab": {
          "base_uri": "https://localhost:8080/",
          "height": 60
        },
        "id": "SfrMJiLbaGGu",
        "outputId": "6e74ab8b-76dc-4d02-bb8f-a8b23a1b9808"
      },
      "source": [
        "diff(f, x)"
      ],
      "execution_count": null,
      "outputs": [
        {
          "output_type": "execute_result",
          "data": {
            "image/png": "[encoded data removed]",
            "text/latex": "$\\displaystyle \\frac{\\frac{x}{\\sqrt{x^{2} + 1}} + 1}{x + \\sqrt{x^{2} + 1}}$",
            "text/plain": [
              "     x         \n",
              "─────────── + 1\n",
              "   ________    \n",
              "  ╱  2         \n",
              "╲╱  x  + 1     \n",
              "───────────────\n",
              "       ________\n",
              "      ╱  2     \n",
              "x + ╲╱  x  + 1 "
            ]
          },
          "metadata": {},
          "execution_count": 18
        }
      ]
    },
    {
      "cell_type": "markdown",
      "metadata": {
        "id": "l7wpNK66aN7C"
      },
      "source": [
        "__6.__ Найти производную функции:\n",
        "\n",
        "### $$y=x \\cdot \\ln(x+\\sqrt{x^2+1})-\\sqrt{x^2+1}$$\n",
        "\n",
        "$$(x\\cdot\\ln(x+\\sqrt{x^2+1}))' = \\ln(x+\\sqrt{x^2+1})+x\\cdot(\\ln(x+\\sqrt{x^2+1}))')= \\ln(x+\\sqrt{x^2+1})+x\\frac{1}{x+\\sqrt{x^2+1}}\\cdot(x+\\sqrt{x^2+1})')= \\ln(x+\\sqrt{x^2+1})+\\frac{x}{x+\\sqrt{x^2+1}}\\cdot\\Big(1+\\frac{1}{2}\\frac{1}{\\sqrt{x^2+1}}\\cdot(x^2+1)'\\Big)= \\ln(x+\\sqrt{x^2+1})+\\frac{x}{x+\\sqrt{x^2+1}}\\cdot\\Big(1+\\frac{1}{2}\\frac{1}{\\sqrt{x^2+1}}\\cdot2x\\Big)=\\ln(x+\\sqrt{x^2+1})+\\frac{x}{x+\\sqrt{x^2+1}}\\cdot\\Big(1+\\frac{x}{\\sqrt{x^2+1}}\\Big)=\\ln(x+\\sqrt{x^2+1})+\\frac{x}{x+\\sqrt{x^2+1}}\\cdot\\Big(\\frac{\\sqrt{x^2+1}+x}{\\sqrt{x^2+1}}\\Big)=\\ln(x+\\sqrt{x^2+1})+\\frac{x}{\\sqrt{x^2+1}}$$\n",
        "$$(\\sqrt{x^2+1})'=\\frac{1}{2}\\frac{2x}{\\sqrt{x^2+1}}=\\frac{x}{\\sqrt{x^2+1}}$$\n",
        "\n",
        " $$ (x\\ln(x+\\sqrt{x^2+1})-\\sqrt{x^2+1})' = \\ln(x+\\sqrt{x^2+1})+\\frac{x}{\\sqrt{x^2+1}} - \\frac{x}{\\sqrt{x^2+1}} = \\ln(x+\\sqrt{x^2+1})$$"
      ]
    },
    {
      "cell_type": "code",
      "metadata": {
        "colab": {
          "base_uri": "https://localhost:8080/",
          "height": 47
        },
        "id": "5bRmzB6yrTqb",
        "outputId": "a33a2425-e42e-4341-9997-3b10d5fa07b1"
      },
      "source": [
        "x = Symbol('x')\n",
        "#f = (x+(x+x**(1/2))**(1/2))**(1/2)\n",
        "f = x*ln(x+sqrt(x**2+1))-sqrt(x**2+1)\n",
        "f"
      ],
      "execution_count": null,
      "outputs": [
        {
          "output_type": "execute_result",
          "data": {
            "image/png": "[encoded data removed]",
            "text/latex": "$\\displaystyle x \\log{\\left(x + \\sqrt{x^{2} + 1} \\right)} - \\sqrt{x^{2} + 1}$",
            "text/plain": [
              "     ⎛       ________⎞      ________\n",
              "     ⎜      ╱  2     ⎟     ╱  2     \n",
              "x⋅log⎝x + ╲╱  x  + 1 ⎠ - ╲╱  x  + 1 "
            ]
          },
          "metadata": {},
          "execution_count": 20
        }
      ]
    },
    {
      "cell_type": "code",
      "metadata": {
        "colab": {
          "base_uri": "https://localhost:8080/",
          "height": 70
        },
        "id": "M5ltHo-4re0k",
        "outputId": "9c5567b3-e97c-42a2-db36-9bb269e476b9"
      },
      "source": [
        "diff(f, x)"
      ],
      "execution_count": null,
      "outputs": [
        {
          "output_type": "execute_result",
          "data": {
            "image/png": "[encoded data removed]",
            "text/latex": "$\\displaystyle - \\frac{x}{\\sqrt{x^{2} + 1}} + \\frac{x \\left(\\frac{x}{\\sqrt{x^{2} + 1}} + 1\\right)}{x + \\sqrt{x^{2} + 1}} + \\log{\\left(x + \\sqrt{x^{2} + 1} \\right)}$",
            "text/plain": [
              "                  ⎛     x         ⎞                       \n",
              "                x⋅⎜─────────── + 1⎟                       \n",
              "                  ⎜   ________    ⎟                       \n",
              "                  ⎜  ╱  2         ⎟      ⎛       ________⎞\n",
              "       x          ⎝╲╱  x  + 1     ⎠      ⎜      ╱  2     ⎟\n",
              "- ─────────── + ─────────────────── + log⎝x + ╲╱  x  + 1 ⎠\n",
              "     ________            ________                         \n",
              "    ╱  2                ╱  2                              \n",
              "  ╲╱  x  + 1      x + ╲╱  x  + 1                          "
            ]
          },
          "metadata": {},
          "execution_count": 21
        }
      ]
    },
    {
      "cell_type": "markdown",
      "metadata": {
        "id": "Wg0MfOD1qWmb"
      },
      "source": [
        "__7*.__ Найти производную функции:\n",
        "\n",
        "### $$y=\\arcsin (\\sin x)$$\n",
        "\n",
        "$$y=\\arcsin (\\sin x) = \\arcsin (\\sin x)'*(\\sin x)'= \\frac{1}{\\sqrt{{1-(\\sin x)^2}}}*(\\cos x) = \\frac{\\cos x}{|\\cos x|}$$\n",
        "\n",
        "Производная неопределена при cos(x) = 0. Т.е. при $x = \\pi/2+k*\\pi$. Это будут экстремумы графика arcsin."
      ]
    },
    {
      "cell_type": "markdown",
      "metadata": {
        "id": "F0cy8RQH3-AD"
      },
      "source": [
        "8*. Вычислить приближенное значение:\n",
        "\n",
        "$\\sin(1^0)=\\sin(\\frac{\\pi}{180})$\n",
        "\n",
        "\n",
        "\n",
        "$$f(x+\\Delta x) \\approx f(x)+f'(x) \\cdot \\Delta x$$\n",
        "$$$$\n",
        "$$\\sin (1^0)= \\sin(0^0 + 1^0)$$\n",
        "$$$$\n",
        "$$x = 1^0, x_0=0^0$$\n",
        "$$$$\n",
        "$$\\Delta x = 1^0 - 0^0 = 1^0=\\frac{\\pi}{180^0}$$\n",
        "$$$$\n",
        "$$\\sin(1^0) \\approx \\sin(0^0)+\\cos(0^0)\\cdot\\Big(\\frac{\\pi}{180^0}\\Big)=1*\\Big(\\frac{3.14}{180}\\Big)=0,017(4)$$"
      ]
    },
    {
      "cell_type": "markdown",
      "metadata": {
        "id": "_f2lSca8rt_N"
      },
      "source": [
        "$\\sin(0.1^0)=\\sin(0^0+0.1^0)$\n",
        "$$\\Delta x = 0.1^0 - 0^0 = 0.1^0=0.1*\\frac{\\pi}{180}=0.00174533$$\n",
        "$$$$\n",
        "$$\\sin(1^0) \\approx \\sin(0^0)+\\cos(0^0)\\cdot\\Big(\\frac{\\pi}{180^0}\\Big)=\\Big(\\frac{0.1*3.14}{180}\\Big)=0.0017(4)$$"
      ]
    },
    {
      "cell_type": "markdown",
      "metadata": {
        "id": "vgZ4cvT9YyUv"
      },
      "source": [
        "\n",
        "__9**.__ Написать на python алгоритм, по вычислению значений $\\sin(x)$ для $х \\in[0, 30^0]$\n",
        "\n",
        "Для проверки подойдут данные из таблицы Брадиса"
      ]
    },
    {
      "cell_type": "code",
      "metadata": {
        "colab": {
          "base_uri": "https://localhost:8080/"
        },
        "id": "0yksifmCGjH-",
        "outputId": "a7cd7f18-6f8e-4164-fbf5-dff877a92e28"
      },
      "source": [
        "import numpy as np\n",
        "\n",
        "sinuses = np.zeros((31,11))\n",
        "x = np.arange(11)*0.1\n",
        "\n",
        "for i in range(0, 31):\n",
        "  for j in range(0, 11):\n",
        "    sinuses[i][j] = round((i + x[j])*3.1415/180, 4)\n",
        "\n",
        "print(sinuses)"
      ],
      "execution_count": null,
      "outputs": [
        {
          "output_type": "stream",
          "text": [
            "[[0.     0.0017 0.0035 0.0052 0.007  0.0087 0.0105 0.0122 0.014  0.0157\n",
            "  0.0175]\n",
            " [0.0175 0.0192 0.0209 0.0227 0.0244 0.0262 0.0279 0.0297 0.0314 0.0332\n",
            "  0.0349]\n",
            " [0.0349 0.0367 0.0384 0.0401 0.0419 0.0436 0.0454 0.0471 0.0489 0.0506\n",
            "  0.0524]\n",
            " [0.0524 0.0541 0.0558 0.0576 0.0593 0.0611 0.0628 0.0646 0.0663 0.0681\n",
            "  0.0698]\n",
            " [0.0698 0.0716 0.0733 0.075  0.0768 0.0785 0.0803 0.082  0.0838 0.0855\n",
            "  0.0873]\n",
            " [0.0873 0.089  0.0908 0.0925 0.0942 0.096  0.0977 0.0995 0.1012 0.103\n",
            "  0.1047]\n",
            " [0.1047 0.1065 0.1082 0.11   0.1117 0.1134 0.1152 0.1169 0.1187 0.1204\n",
            "  0.1222]\n",
            " [0.1222 0.1239 0.1257 0.1274 0.1292 0.1309 0.1326 0.1344 0.1361 0.1379\n",
            "  0.1396]\n",
            " [0.1396 0.1414 0.1431 0.1449 0.1466 0.1483 0.1501 0.1518 0.1536 0.1553\n",
            "  0.1571]\n",
            " [0.1571 0.1588 0.1606 0.1623 0.1641 0.1658 0.1675 0.1693 0.171  0.1728\n",
            "  0.1745]\n",
            " [0.1745 0.1763 0.178  0.1798 0.1815 0.1833 0.185  0.1867 0.1885 0.1902\n",
            "  0.192 ]\n",
            " [0.192  0.1937 0.1955 0.1972 0.199  0.2007 0.2025 0.2042 0.2059 0.2077\n",
            "  0.2094]\n",
            " [0.2094 0.2112 0.2129 0.2147 0.2164 0.2182 0.2199 0.2217 0.2234 0.2251\n",
            "  0.2269]\n",
            " [0.2269 0.2286 0.2304 0.2321 0.2339 0.2356 0.2374 0.2391 0.2408 0.2426\n",
            "  0.2443]\n",
            " [0.2443 0.2461 0.2478 0.2496 0.2513 0.2531 0.2548 0.2566 0.2583 0.26\n",
            "  0.2618]\n",
            " [0.2618 0.2635 0.2653 0.267  0.2688 0.2705 0.2723 0.274  0.2758 0.2775\n",
            "  0.2792]\n",
            " [0.2792 0.281  0.2827 0.2845 0.2862 0.288  0.2897 0.2915 0.2932 0.295\n",
            "  0.2967]\n",
            " [0.2967 0.2984 0.3002 0.3019 0.3037 0.3054 0.3072 0.3089 0.3107 0.3124\n",
            "  0.3142]\n",
            " [0.3142 0.3159 0.3176 0.3194 0.3211 0.3229 0.3246 0.3264 0.3281 0.3299\n",
            "  0.3316]\n",
            " [0.3316 0.3333 0.3351 0.3368 0.3386 0.3403 0.3421 0.3438 0.3456 0.3473\n",
            "  0.3491]\n",
            " [0.3491 0.3508 0.3525 0.3543 0.356  0.3578 0.3595 0.3613 0.363  0.3648\n",
            "  0.3665]\n",
            " [0.3665 0.3683 0.37   0.3717 0.3735 0.3752 0.377  0.3787 0.3805 0.3822\n",
            "  0.384 ]\n",
            " [0.384  0.3857 0.3875 0.3892 0.3909 0.3927 0.3944 0.3962 0.3979 0.3997\n",
            "  0.4014]\n",
            " [0.4014 0.4032 0.4049 0.4066 0.4084 0.4101 0.4119 0.4136 0.4154 0.4171\n",
            "  0.4189]\n",
            " [0.4189 0.4206 0.4224 0.4241 0.4258 0.4276 0.4293 0.4311 0.4328 0.4346\n",
            "  0.4363]\n",
            " [0.4363 0.4381 0.4398 0.4416 0.4433 0.445  0.4468 0.4485 0.4503 0.452\n",
            "  0.4538]\n",
            " [0.4538 0.4555 0.4573 0.459  0.4608 0.4625 0.4642 0.466  0.4677 0.4695\n",
            "  0.4712]\n",
            " [0.4712 0.473  0.4747 0.4765 0.4782 0.48   0.4817 0.4834 0.4852 0.4869\n",
            "  0.4887]\n",
            " [0.4887 0.4904 0.4922 0.4939 0.4957 0.4974 0.4991 0.5009 0.5026 0.5044\n",
            "  0.5061]\n",
            " [0.5061 0.5079 0.5096 0.5114 0.5131 0.5149 0.5166 0.5183 0.5201 0.5218\n",
            "  0.5236]\n",
            " [0.5236 0.5253 0.5271 0.5288 0.5306 0.5323 0.5341 0.5358 0.5375 0.5393\n",
            "  0.541 ]]\n"
          ],
          "name": "stdout"
        }
      ]
    },
    {
      "cell_type": "markdown",
      "metadata": {
        "id": "UItm3kGPqyk7"
      },
      "source": [
        "Таблица Брадиса"
      ]
    },
    {
      "cell_type": "code",
      "metadata": {
        "id": "s6_l0TG6dGfo"
      },
      "source": [
        "bradis = np.array([[0.0000, 0.0017, 0.0035, 0.0052, 0.0070, 0.0087, 0.0105, 0.0122, 0.0140, 0.0157, 0.0175]])\n",
        "str1 = [0.0175, 0.0192, 0.0209, 0.0227, 0.0244, 0.0262, 0.0279, 0.0297, 0.0314, 0.0332, 0.0349]\n",
        "str2 = [0.0349, 0.0366, 0.0384, 0.0401, 0.0419, 0.0436, 0.0454, 0.0471, 0.0488, 0.0506, 0.0523]\n",
        "str3 = [0.0523, 0.0541, 0.0558, 0.0576, 0.0593, 0.0610, 0.0628, 0.0645, 0.0663, 0.0680, 0.0698]\n",
        "str4 = [0.0698, 0.0715, 0.0732, 0.0750, 0.0767, 0.0785, 0.0802, 0.0819, 0.0837, 0.0854, 0.0872]\n",
        "str5 = [0.0872, 0.0889, 0.0906, 0.0924, 0.0941, 0.0958, 0.0976, 0.0993, 0.1011, 0.1028, 0.1045]\n",
        "str6 = [0.1045, 0.1063, 0.1080, 0.1097, 0.1115, 0.1132, 0.1149, 0.1167, 0.1184, 0.1201, 0.1219]\n",
        "str7 = [0.1219,\t0.1236,\t0.1253,\t0.1271,\t0.1288,\t0.1305,\t0.1323,\t0.1340,\t0.1357,\t0.1374,\t0.1392]\n",
        "str8 = [0.1392,\t0.1409,\t0.1426,\t0.1444,\t0.1461,\t0.1478,\t0.1495,\t0.1513,\t0.1530,\t0.1547,\t0.1564]\n",
        "str9 = [0.1564,\t0.1582,\t0.1599,\t0.1616,\t0.1633,\t0.1650,\t0.1668,\t0.1685,\t0.1702,\t0.1719,\t0.1736]\n",
        "str10 =\t[0.1736,\t0.1754,\t0.1771,\t0.1788,\t0.1805,\t0.1822,\t0.1840,\t0.1857,\t0.1874,\t0.1891,\t0.1908]\n",
        "str11 =\t[0.1908,\t0.1925,\t0.1942,\t0.1959,\t0.1977,\t0.1994,\t0.2011,\t0.2028,\t0.2045,\t0.2062,\t0.2079]\n",
        "str12 =\t[0.2079,\t0.2096,\t0.2113,\t0.2130,\t0.2147,\t0.2164,\t0.2181,\t0.2198,\t0.2215,\t0.2233,\t0.2250]\n",
        "str13 =\t[0.2250,\t0.2267,\t0.2284,\t0.2300,\t0.2317,\t0.2334,\t0.2351,\t0.2368,\t0.2385,\t0.2402,\t0.2419]\n",
        "str14\t= [0.2419,\t0.2436,\t0.2453,\t0.2470,\t0.2487,\t0.2504,\t0.2521,\t0.2538,\t0.2554,\t0.2571,\t0.2588]\n",
        "str15\t= [0.2588,\t0.2605,\t0.2622,\t0.2639,\t0.2656,\t0.2672,\t0.2689,\t0.2706,\t0.2723,\t0.2740,\t0.2756]\n",
        "str16\t= [0.2756,\t0.2773,\t0.2790,\t0.2807,\t0.2823,\t0.2840,\t0.2857,\t0.2874,\t0.2890,\t0.2907,\t0.2924]\n",
        "str17\t= [0.2942,\t0.2940,\t0.2957,\t0.2974,\t0.2990,\t0.3007,\t0.3024,\t0.3040,\t0.3057,\t0.3074,\t0.3090]\n",
        "str18\t= [0.3090,\t0.3107,\t0.3123,\t0.3140,\t0.3156,\t0.3173,\t0.3190,\t0.3206,\t0.3223,\t0.3239,\t0.3256]\n",
        "str19\t= [0.3256,\t0.3272,\t0.3289,\t0.3305,\t0.3322,\t0.3338,\t0.3355,\t0.3371,\t0.3387,\t0.3404,\t0.3420]\n",
        "str20\t= [0.3420,\t0.3437,\t0.3453,\t0.3469,\t0.3486,\t0.3502,\t0.3518,\t0.3535,\t0.3551,\t0.3567,\t0.3584]\n",
        "str21\t= [0.3584,\t0.3600,\t0.3616,\t0.3633,\t0.3649,\t0.3665,\t0.3681,\t0.3697,\t0.3714,\t0.3730,\t0.3746]\n",
        "str22\t= [0.3746,\t0.3762,\t0.3778,\t0.3795,\t0.3811,\t0.3827,\t0.3843,\t0.3859,\t0.3875,\t0.3891,\t0.3907]\n",
        "str23\t= [0.3097,\t0.3923,\t0.3939,\t0.3955,\t0.3971,\t0.3987,\t0.4003,\t0.4019,\t0.4035,\t0.4051,\t0.4067]\n",
        "str24\t= [0.4067,\t0.4083,\t0.4099,\t0.4115,\t0.4131,\t0.4147,\t0.4163,\t0.4179,\t0.4195,\t0.4210,\t0.4226]\n",
        "str25\t= [0.4226,\t0.4242,\t0.4258,\t0.4274,\t0.4289,\t0.4305,\t0.4321,\t0.4337,\t0.4352,\t0.4368,\t0.4384]\n",
        "str26\t= [0.4384,\t0.4399,\t0.4415,\t0.4431,\t0.4446,\t0.4462,\t0.4478,\t0.4493,\t0.4509,\t0.4524,\t0.4540]\n",
        "str27\t= [0.4540,\t0.4555,\t0.4571,\t0.4586,\t0.4602,\t0.4617,\t0.4633,\t0.4648,\t0.4664,\t0.4679,\t0.4695]\n",
        "str28\t= [0.4695,\t0.4710,\t0.4726,\t0.4741,\t0.4756,\t0.4772,\t0.4787,\t0.4802,\t0.4818,\t0.4833,\t0.4848]\n",
        "str29\t= [0.4848,\t0.4863,\t0.4879,\t0.4894,\t0.4909,\t0.4924,\t0.4939,\t0.4955,\t0.4970,\t0.4985,\t0.5000]\n",
        "str30\t= [0.5000,\t0.5015,\t0.5030,\t0.5045,\t0.5060,\t0.5075,\t0.5090,\t0.5105,\t0.5120,\t0.5135,\t0.5150]\n",
        "\n",
        "\n",
        "bradis = np.vstack([bradis, str1])\n",
        "bradis = np.vstack([bradis, str2])\n",
        "bradis = np.vstack([bradis, str3])\n",
        "bradis = np.vstack([bradis, str4])\n",
        "bradis = np.vstack([bradis, str5])\n",
        "bradis = np.vstack([bradis, str6])\n",
        "bradis = np.vstack([bradis, str7])\n",
        "bradis = np.vstack([bradis, str8])\n",
        "bradis = np.vstack([bradis, str9])\n",
        "bradis = np.vstack([bradis, str10])\n",
        "bradis = np.vstack([bradis, str11])\n",
        "bradis = np.vstack([bradis, str12])\n",
        "bradis = np.vstack([bradis, str13])\n",
        "bradis = np.vstack([bradis, str14])\n",
        "bradis = np.vstack([bradis, str15])\n",
        "bradis = np.vstack([bradis, str16])\n",
        "bradis = np.vstack([bradis, str17])\n",
        "bradis = np.vstack([bradis, str18])\n",
        "bradis = np.vstack([bradis, str19])\n",
        "bradis = np.vstack([bradis, str20])\n",
        "bradis = np.vstack([bradis, str21])\n",
        "bradis = np.vstack([bradis, str22])\n",
        "bradis = np.vstack([bradis, str23])\n",
        "bradis = np.vstack([bradis, str24])\n",
        "bradis = np.vstack([bradis, str25])\n",
        "bradis = np.vstack([bradis, str26])\n",
        "bradis = np.vstack([bradis, str27])\n",
        "bradis = np.vstack([bradis, str28])\n",
        "bradis = np.vstack([bradis, str29])\n",
        "bradis = np.vstack([bradis, str30])\n",
        "\n",
        "#print(bradis)"
      ],
      "execution_count": null,
      "outputs": []
    },
    {
      "cell_type": "code",
      "metadata": {
        "colab": {
          "base_uri": "https://localhost:8080/"
        },
        "id": "WC1cLX0X3Xm6",
        "outputId": "8c155a5f-be55-4e73-b4da-60a98f07b46e"
      },
      "source": [
        "print(sinuses-bradis)"
      ],
      "execution_count": null,
      "outputs": [
        {
          "output_type": "stream",
          "text": [
            "[[0.00e+00 0.00e+00 0.00e+00 0.00e+00 0.00e+00 0.00e+00 0.00e+00 0.00e+00\n",
            "  0.00e+00 0.00e+00 0.00e+00]\n",
            " [0.00e+00 0.00e+00 0.00e+00 0.00e+00 0.00e+00 0.00e+00 0.00e+00 0.00e+00\n",
            "  0.00e+00 0.00e+00 0.00e+00]\n",
            " [0.00e+00 1.00e-04 0.00e+00 0.00e+00 0.00e+00 0.00e+00 0.00e+00 0.00e+00\n",
            "  1.00e-04 0.00e+00 1.00e-04]\n",
            " [1.00e-04 0.00e+00 0.00e+00 0.00e+00 0.00e+00 1.00e-04 0.00e+00 1.00e-04\n",
            "  0.00e+00 1.00e-04 0.00e+00]\n",
            " [0.00e+00 1.00e-04 1.00e-04 0.00e+00 1.00e-04 0.00e+00 1.00e-04 1.00e-04\n",
            "  1.00e-04 1.00e-04 1.00e-04]\n",
            " [1.00e-04 1.00e-04 2.00e-04 1.00e-04 1.00e-04 2.00e-04 1.00e-04 2.00e-04\n",
            "  1.00e-04 2.00e-04 2.00e-04]\n",
            " [2.00e-04 2.00e-04 2.00e-04 3.00e-04 2.00e-04 2.00e-04 3.00e-04 2.00e-04\n",
            "  3.00e-04 3.00e-04 3.00e-04]\n",
            " [3.00e-04 3.00e-04 4.00e-04 3.00e-04 4.00e-04 4.00e-04 3.00e-04 4.00e-04\n",
            "  4.00e-04 5.00e-04 4.00e-04]\n",
            " [4.00e-04 5.00e-04 5.00e-04 5.00e-04 5.00e-04 5.00e-04 6.00e-04 5.00e-04\n",
            "  6.00e-04 6.00e-04 7.00e-04]\n",
            " [7.00e-04 6.00e-04 7.00e-04 7.00e-04 8.00e-04 8.00e-04 7.00e-04 8.00e-04\n",
            "  8.00e-04 9.00e-04 9.00e-04]\n",
            " [9.00e-04 9.00e-04 9.00e-04 1.00e-03 1.00e-03 1.10e-03 1.00e-03 1.00e-03\n",
            "  1.10e-03 1.10e-03 1.20e-03]\n",
            " [1.20e-03 1.20e-03 1.30e-03 1.30e-03 1.30e-03 1.30e-03 1.40e-03 1.40e-03\n",
            "  1.40e-03 1.50e-03 1.50e-03]\n",
            " [1.50e-03 1.60e-03 1.60e-03 1.70e-03 1.70e-03 1.80e-03 1.80e-03 1.90e-03\n",
            "  1.90e-03 1.80e-03 1.90e-03]\n",
            " [1.90e-03 1.90e-03 2.00e-03 2.10e-03 2.20e-03 2.20e-03 2.30e-03 2.30e-03\n",
            "  2.30e-03 2.40e-03 2.40e-03]\n",
            " [2.40e-03 2.50e-03 2.50e-03 2.60e-03 2.60e-03 2.70e-03 2.70e-03 2.80e-03\n",
            "  2.90e-03 2.90e-03 3.00e-03]\n",
            " [3.00e-03 3.00e-03 3.10e-03 3.10e-03 3.20e-03 3.30e-03 3.40e-03 3.40e-03\n",
            "  3.50e-03 3.50e-03 3.60e-03]\n",
            " [3.60e-03 3.70e-03 3.70e-03 3.80e-03 3.90e-03 4.00e-03 4.00e-03 4.10e-03\n",
            "  4.20e-03 4.30e-03 4.30e-03]\n",
            " [2.50e-03 4.40e-03 4.50e-03 4.50e-03 4.70e-03 4.70e-03 4.80e-03 4.90e-03\n",
            "  5.00e-03 5.00e-03 5.20e-03]\n",
            " [5.20e-03 5.20e-03 5.30e-03 5.40e-03 5.50e-03 5.60e-03 5.60e-03 5.80e-03\n",
            "  5.80e-03 6.00e-03 6.00e-03]\n",
            " [6.00e-03 6.10e-03 6.20e-03 6.30e-03 6.40e-03 6.50e-03 6.60e-03 6.70e-03\n",
            "  6.90e-03 6.90e-03 7.10e-03]\n",
            " [7.10e-03 7.10e-03 7.20e-03 7.40e-03 7.40e-03 7.60e-03 7.70e-03 7.80e-03\n",
            "  7.90e-03 8.10e-03 8.10e-03]\n",
            " [8.10e-03 8.30e-03 8.40e-03 8.40e-03 8.60e-03 8.70e-03 8.90e-03 9.00e-03\n",
            "  9.10e-03 9.20e-03 9.40e-03]\n",
            " [9.40e-03 9.50e-03 9.70e-03 9.70e-03 9.80e-03 1.00e-02 1.01e-02 1.03e-02\n",
            "  1.04e-02 1.06e-02 1.07e-02]\n",
            " [9.17e-02 1.09e-02 1.10e-02 1.11e-02 1.13e-02 1.14e-02 1.16e-02 1.17e-02\n",
            "  1.19e-02 1.20e-02 1.22e-02]\n",
            " [1.22e-02 1.23e-02 1.25e-02 1.26e-02 1.27e-02 1.29e-02 1.30e-02 1.32e-02\n",
            "  1.33e-02 1.36e-02 1.37e-02]\n",
            " [1.37e-02 1.39e-02 1.40e-02 1.42e-02 1.44e-02 1.45e-02 1.47e-02 1.48e-02\n",
            "  1.51e-02 1.52e-02 1.54e-02]\n",
            " [1.54e-02 1.56e-02 1.58e-02 1.59e-02 1.62e-02 1.63e-02 1.64e-02 1.67e-02\n",
            "  1.68e-02 1.71e-02 1.72e-02]\n",
            " [1.72e-02 1.75e-02 1.76e-02 1.79e-02 1.80e-02 1.83e-02 1.84e-02 1.86e-02\n",
            "  1.88e-02 1.90e-02 1.92e-02]\n",
            " [1.92e-02 1.94e-02 1.96e-02 1.98e-02 2.01e-02 2.02e-02 2.04e-02 2.07e-02\n",
            "  2.08e-02 2.11e-02 2.13e-02]\n",
            " [2.13e-02 2.16e-02 2.17e-02 2.20e-02 2.22e-02 2.25e-02 2.27e-02 2.28e-02\n",
            "  2.31e-02 2.33e-02 2.36e-02]\n",
            " [2.36e-02 2.38e-02 2.41e-02 2.43e-02 2.46e-02 2.48e-02 2.51e-02 2.53e-02\n",
            "  2.55e-02 2.58e-02 2.60e-02]]\n"
          ],
          "name": "stdout"
        }
      ]
    },
    {
      "cell_type": "markdown",
      "metadata": {
        "id": "dOcNaqzP3d73"
      },
      "source": [
        "Видно, что ошибка начинает возрастать при больших углах."
      ]
    },
    {
      "cell_type": "markdown",
      "metadata": {
        "id": "zIr-PblnquQH"
      },
      "source": [
        "Либо короткий вариант."
      ]
    },
    {
      "cell_type": "code",
      "metadata": {
        "colab": {
          "base_uri": "https://localhost:8080/"
        },
        "id": "4XdZ3payj-Yk",
        "outputId": "a0c92bd5-5d2e-4c71-bed4-0899965208ca"
      },
      "source": [
        "import math \n",
        "\n",
        "for i in range(0,31,1):\n",
        "     x = math.radians(i) \n",
        "     y = math.sin(x)\n",
        "     z = i*3.1415/180\n",
        "     print(\"PC sin\", i ,\":\", y, 'Derivative sin:', i, z, 'Разность', z - y)"
      ],
      "execution_count": null,
      "outputs": [
        {
          "output_type": "stream",
          "text": [
            "PC sin 0 : 0.0 Derivative sin: 0 0.0 Разность 0.0\n",
            "PC sin 1 : 0.01745240643728351 Derivative sin: 1 0.01745277777777778 Разность 3.713404942672083e-07\n",
            "PC sin 2 : 0.03489949670250097 Derivative sin: 2 0.03490555555555556 Разность 6.058853054588531e-06\n",
            "PC sin 3 : 0.052335956242943835 Derivative sin: 3 0.05235833333333333 Разность 2.2377090389498477e-05\n",
            "PC sin 4 : 0.0697564737441253 Derivative sin: 4 0.06981111111111112 Разность 5.463736698581301e-05\n",
            "PC sin 5 : 0.08715574274765817 Derivative sin: 5 0.08726388888888889 Разность 0.00010814614123072497\n",
            "PC sin 6 : 0.10452846326765347 Derivative sin: 6 0.10471666666666667 Разность 0.00018820339901319538\n",
            "PC sin 7 : 0.12186934340514748 Derivative sin: 7 0.12216944444444446 Разность 0.0003001010392969794\n",
            "PC sin 8 : 0.13917310096006544 Derivative sin: 8 0.13962222222222223 Разность 0.00044912126215679304\n",
            "PC sin 9 : 0.15643446504023087 Derivative sin: 9 0.15707500000000002 Разность 0.0006405349597691512\n",
            "PC sin 10 : 0.17364817766693033 Derivative sin: 10 0.17452777777777778 Разность 0.0008796001108474505\n",
            "PC sin 11 : 0.1908089953765448 Derivative sin: 11 0.19198055555555554 Разность 0.0011715601790107388\n",
            "PC sin 12 : 0.20791169081775934 Derivative sin: 12 0.20943333333333333 Разность 0.0015216425155739899\n",
            "PC sin 13 : 0.224951054343865 Derivative sin: 13 0.22688611111111112 Разность 0.0019350567672461183\n",
            "PC sin 14 : 0.24192189559966773 Derivative sin: 14 0.2443388888888889 Разность 0.002416993289221181\n",
            "PC sin 15 : 0.25881904510252074 Derivative sin: 15 0.2617916666666667 Разность 0.002972621564145961\n",
            "PC sin 16 : 0.27563735581699916 Derivative sin: 16 0.27924444444444446 Разность 0.0036070886274452985\n",
            "PC sin 17 : 0.29237170472273677 Derivative sin: 17 0.2966972222222222 Разность 0.004325517499485454\n",
            "PC sin 18 : 0.3090169943749474 Derivative sin: 18 0.31415000000000004 Разность 0.005133005625052645\n",
            "PC sin 19 : 0.3255681544571567 Derivative sin: 19 0.3316027777777778 Разность 0.006034623320621102\n",
            "PC sin 20 : 0.3420201433256687 Derivative sin: 20 0.34905555555555556 Разность 0.0070354122298868504\n",
            "PC sin 21 : 0.35836794954530027 Derivative sin: 21 0.3665083333333334 Разность 0.008140383788033112\n",
            "PC sin 22 : 0.374606593415912 Derivative sin: 22 0.3839611111111111 Разность 0.009354517695199072\n",
            "PC sin 23 : 0.39073112848927377 Derivative sin: 23 0.4014138888888889 Разность 0.010682760399615132\n",
            "PC sin 24 : 0.4067366430758002 Derivative sin: 24 0.41886666666666666 Разность 0.012130023590866457\n",
            "PC sin 25 : 0.42261826174069944 Derivative sin: 25 0.4363194444444445 Разность 0.01370118270374504\n",
            "PC sin 26 : 0.4383711467890774 Derivative sin: 26 0.45377222222222224 Разность 0.01540107543314484\n",
            "PC sin 27 : 0.45399049973954675 Derivative sin: 27 0.47122500000000006 Разность 0.01723450026045331\n",
            "PC sin 28 : 0.4694715627858908 Derivative sin: 28 0.4886777777777778 Разность 0.019206214991887016\n",
            "PC sin 29 : 0.48480962024633706 Derivative sin: 29 0.5061305555555556 Разность 0.02132093530921858\n",
            "PC sin 30 : 0.49999999999999994 Derivative sin: 30 0.5235833333333334 Разность 0.023583333333333456\n"
          ],
          "name": "stdout"
        }
      ]
    }
  ]
}