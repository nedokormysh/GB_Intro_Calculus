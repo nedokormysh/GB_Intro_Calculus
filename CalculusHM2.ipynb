{
  "nbformat": 4,
  "nbformat_minor": 0,
  "metadata": {
    "colab": {
      "name": "CalculusHM2.ipynb",
      "provenance": [],
      "collapsed_sections": [],
      "authorship_tag": "ABX9TyPV1WcEy2wCy5aS8XaHRQhy",
      "include_colab_link": true
    },
    "kernelspec": {
      "name": "python3",
      "display_name": "Python 3"
    },
    "language_info": {
      "name": "python"
    }
  },
  "cells": [
    {
      "cell_type": "markdown",
      "metadata": {
        "id": "view-in-github",
        "colab_type": "text"
      },
      "source": [
        "<a href=\"https://colab.research.google.com/github/nedokormysh/GB_Intro_Calculus/blob/lesson2/CalculusHM2.ipynb\" target=\"_parent\"><img src=\"https://colab.research.google.com/assets/colab-badge.svg\" alt=\"Open In Colab\"/></a>"
      ]
    },
    {
      "cell_type": "markdown",
      "metadata": {
        "id": "SmdURZ_OkVqQ"
      },
      "source": [
        "__1.__ Найти предел последовательности:\n",
        "\n",
        "### $$а)\\,\\,\\,\\,\\lim_{n\\to \\infty} \\frac{(23-2n^2)(3n^2+17)^2}{4n^6+n-1}$$\n",
        "\n",
        "### $$б)\\,\\,\\,\\,\\lim_{n\\to \\infty} \\frac{(97-2n)^3}{2n(3n^2+15)+8n}$$\n",
        "\n",
        "### $$в)\\,\\,\\,\\,\\lim_{n\\to \\infty} \\frac{2n^3+13n(n+18)}{(27-n)(2n+19)^2}$$\n",
        "\n",
        "### $$г)\\,\\,\\,\\,\\lim_{n\\to \\infty} (\\sqrt{n^2+1}-n)$$\n",
        "\n",
        "### $$д)\\,\\,\\,\\,\\lim_{n\\to \\infty} \\frac{(-4)^n+5\\cdot7^n}{(-4)^{n-1}+7^{n+2}}$$\n",
        "\n",
        "### $$e)^*\\,\\,\\,\\,\\lim_{n\\to \\infty} \\Bigl(\\frac{1}{1\\cdot2}+\\frac{1}{2\\cdot3}+\\frac{1}{3\\cdot4}+...+\\frac{1}{(n-1)\\cdot n}\\Bigr)$$"
      ]
    },
    {
      "cell_type": "code",
      "metadata": {
        "id": "fZibqCv5jfIx"
      },
      "source": [
        "from sympy import *\n",
        "init_printing()"
      ],
      "execution_count": null,
      "outputs": []
    },
    {
      "cell_type": "markdown",
      "metadata": {
        "id": "tPJGnJgjhvSu"
      },
      "source": [
        "### $а)$\n",
        "$$\\lim_{n\\to \\infty} \\frac{(23-2n^2)(3n^2+17)^2}{4n^6+n-1}=\\Bigl(\\frac{\\infty}{\\infty}\\Bigr)=\\frac{-2\\cdot3^2}{4}=-\\frac{9}{2}$$\n",
        "\n"
      ]
    },
    {
      "cell_type": "code",
      "metadata": {
        "colab": {
          "base_uri": "https://localhost:8080/",
          "height": 60
        },
        "id": "HbC1sowp-42K",
        "outputId": "c2fa69a5-f3a6-4641-a425-74c89f891a81"
      },
      "source": [
        "n=Symbol('n')\n",
        "a = (23 - 2 * n**2) * (3 * n**2 + 17)**2/( 4 * n**6 + n + 1)\n",
        "a"
      ],
      "execution_count": null,
      "outputs": [
        {
          "output_type": "execute_result",
          "data": {
            "image/png": "[encoded data removed]",
            "text/latex": "$\\displaystyle \\frac{\\left(23 - 2 n^{2}\\right) \\left(3 n^{2} + 17\\right)^{2}}{4 n^{6} + n + 1}$",
            "text/plain": [
              "                       2\n",
              "⎛        2⎞ ⎛   2     ⎞ \n",
              "⎝23 - 2⋅n ⎠⋅⎝3⋅n  + 17⎠ \n",
              "────────────────────────\n",
              "         6              \n",
              "      4⋅n  + n + 1      "
            ]
          },
          "metadata": {
            "tags": []
          },
          "execution_count": 18
        }
      ]
    },
    {
      "cell_type": "code",
      "metadata": {
        "colab": {
          "base_uri": "https://localhost:8080/",
          "height": 68
        },
        "id": "vJ90MEblgsKs",
        "outputId": "5d457522-a886-4a4a-be89-fc72d30a29f3"
      },
      "source": [
        "print('Проверка через библиотеку sympy')\n",
        "limit (a, n, oo)"
      ],
      "execution_count": null,
      "outputs": [
        {
          "output_type": "stream",
          "text": [
            "Проверка через библиотеку sympy\n"
          ],
          "name": "stdout"
        },
        {
          "output_type": "execute_result",
          "data": {
            "image/png": "[encoded data removed]",
            "text/latex": "$\\displaystyle - \\frac{4}{3}$",
            "text/plain": [
              "-4/3"
            ]
          },
          "metadata": {
            "tags": []
          },
          "execution_count": 26
        }
      ]
    },
    {
      "cell_type": "markdown",
      "metadata": {
        "id": "br0AuG4XqXwu"
      },
      "source": [
        "### $б)$\n",
        "$$\\lim_{n\\to \\infty} \\frac{(97-2n)^3}{2n(3n^2+15)+8n}=\\Bigl(\\frac{\\infty}{\\infty}\\Bigr)=\\frac{(-2)^3}{2\\cdot3}=-\\frac{4}{3}$$"
      ]
    },
    {
      "cell_type": "code",
      "metadata": {
        "colab": {
          "base_uri": "https://localhost:8080/",
          "height": 60
        },
        "id": "0JeIP1n7-LMB",
        "outputId": "92dcf7aa-dc6a-455d-82e1-066d4b389c9f"
      },
      "source": [
        "n = Symbol('n')\n",
        "a = (97 - 2 * n)**3 / (2 * n * (3 * n**2 + 15) + 8 * n)\n",
        "a"
      ],
      "execution_count": null,
      "outputs": [
        {
          "output_type": "execute_result",
          "data": {
            "image/png": "[encoded data removed]",
            "text/latex": "$\\displaystyle \\frac{\\left(97 - 2 n\\right)^{3}}{2 n \\left(3 n^{2} + 15\\right) + 8 n}$",
            "text/plain": [
              "               3     \n",
              "     (97 - 2⋅n)      \n",
              "─────────────────────\n",
              "    ⎛   2     ⎞      \n",
              "2⋅n⋅⎝3⋅n  + 15⎠ + 8⋅n"
            ]
          },
          "metadata": {
            "tags": []
          },
          "execution_count": 39
        }
      ]
    },
    {
      "cell_type": "code",
      "metadata": {
        "colab": {
          "base_uri": "https://localhost:8080/",
          "height": 68
        },
        "id": "Ff7QbcI0AQe7",
        "outputId": "e2886999-712f-460f-8e65-0a83b15fdf4f"
      },
      "source": [
        "print('Проверка через библиотеку sympy')\n",
        "limit (a, n, oo)"
      ],
      "execution_count": null,
      "outputs": [
        {
          "output_type": "stream",
          "text": [
            "Проверка через библиотеку sympy\n"
          ],
          "name": "stdout"
        },
        {
          "output_type": "execute_result",
          "data": {
            "image/png": "[encoded data removed]",
            "text/latex": "$\\displaystyle - \\frac{4}{3}$",
            "text/plain": [
              "-4/3"
            ]
          },
          "metadata": {
            "tags": []
          },
          "execution_count": 31
        }
      ]
    },
    {
      "cell_type": "markdown",
      "metadata": {
        "id": "m9AzucYi-m2L"
      },
      "source": [
        "### $в)$\n",
        "\n",
        "$$\\lim_{n\\to \\infty} \\frac{2n^3+13n(n+18)}{(27-n)(2n+19)^2}=\\Bigl(\\frac{\\infty}{\\infty}\\Bigr)=\\frac{2}{-1\\cdot2^2}=-\\frac{1}{2}$$"
      ]
    },
    {
      "cell_type": "code",
      "metadata": {
        "colab": {
          "base_uri": "https://localhost:8080/",
          "height": 61
        },
        "id": "T7CstSwzAIRx",
        "outputId": "d851bcd4-93db-49e3-c12b-29f9b6fea4e2"
      },
      "source": [
        "n = Symbol('n')\n",
        "a = (2 * n**3 + 13 * n * (n + 18)) / ((27 - n) * ( 2 * n + 19)**2)\n",
        "a"
      ],
      "execution_count": null,
      "outputs": [
        {
          "output_type": "execute_result",
          "data": {
            "image/png": "[encoded data removed]",
            "text/latex": "$\\displaystyle \\frac{2 n^{3} + 13 n \\left(n + 18\\right)}{\\left(27 - n\\right) \\left(2 n + 19\\right)^{2}}$",
            "text/plain": [
              "   3                \n",
              "2⋅n  + 13⋅n⋅(n + 18)\n",
              "────────────────────\n",
              "                   2\n",
              "(27 - n)⋅(2⋅n + 19) "
            ]
          },
          "metadata": {
            "tags": []
          },
          "execution_count": 40
        }
      ]
    },
    {
      "cell_type": "code",
      "metadata": {
        "colab": {
          "base_uri": "https://localhost:8080/",
          "height": 68
        },
        "id": "_Nhn4ESeAWIp",
        "outputId": "7458fc13-2fdf-4376-eda6-8b2dd9ed3aa9"
      },
      "source": [
        "print('Проверка через библиотеку sympy')\n",
        "limit (a, n, oo)"
      ],
      "execution_count": null,
      "outputs": [
        {
          "output_type": "stream",
          "text": [
            "Проверка через библиотеку sympy\n"
          ],
          "name": "stdout"
        },
        {
          "output_type": "execute_result",
          "data": {
            "image/png": "[encoded data removed]",
            "text/latex": "$\\displaystyle - \\frac{1}{2}$",
            "text/plain": [
              "-1/2"
            ]
          },
          "metadata": {
            "tags": []
          },
          "execution_count": 36
        }
      ]
    },
    {
      "cell_type": "markdown",
      "metadata": {
        "id": "v3xuAf0XBDwi"
      },
      "source": [
        "### $г)$\n",
        "$$\\lim_{n\\to \\infty} (\\sqrt{n^2+1}-n)=\\Bigl(\\infty-\\infty\\Bigr)=\\lim_{n\\to \\infty} (\\sqrt{n^2+1}-n)\\cdot\\frac{\\sqrt{n^2+1}+n}{\\sqrt{n^2+1}+n}=\\lim_{n\\to \\infty} \\frac{n^2+1-n^2}{\\sqrt{n^2+1}+n}=\\lim_{n\\to \\infty} \\frac{1}{\\sqrt{n^2+1}+n}=0$$"
      ]
    },
    {
      "cell_type": "code",
      "metadata": {
        "colab": {
          "base_uri": "https://localhost:8080/",
          "height": 41
        },
        "id": "KRD-17msB1DB",
        "outputId": "6dc4cee1-0c2a-4d8b-ee51-21e359bcb383"
      },
      "source": [
        "n = Symbol('n')\n",
        "a = (n**2 + 1)**(1/2) - n\n",
        "a"
      ],
      "execution_count": null,
      "outputs": [
        {
          "output_type": "execute_result",
          "data": {
            "image/png": "[encoded data removed]",
            "text/latex": "$\\displaystyle - n + \\left(n^{2} + 1\\right)^{0.5}$",
            "text/plain": [
              "             0.5\n",
              "     ⎛ 2    ⎞   \n",
              "-n + ⎝n  + 1⎠   "
            ]
          },
          "metadata": {
            "tags": []
          },
          "execution_count": 37
        }
      ]
    },
    {
      "cell_type": "code",
      "metadata": {
        "colab": {
          "base_uri": "https://localhost:8080/",
          "height": 54
        },
        "id": "l__A9G5XCM95",
        "outputId": "4a57b611-b2bf-41d1-afb2-120d5ca8677e"
      },
      "source": [
        "print('Проверка через библиотеку sympy')\n",
        "limit (a, n, oo)"
      ],
      "execution_count": null,
      "outputs": [
        {
          "output_type": "stream",
          "text": [
            "Проверка через библиотеку sympy\n"
          ],
          "name": "stdout"
        },
        {
          "output_type": "execute_result",
          "data": {
            "image/png": "[encoded data removed]",
            "text/latex": "$\\displaystyle 0$",
            "text/plain": [
              "0"
            ]
          },
          "metadata": {
            "tags": []
          },
          "execution_count": 38
        }
      ]
    },
    {
      "cell_type": "markdown",
      "metadata": {
        "id": "FPkIt9ANCYgy"
      },
      "source": [
        "###$д)$\n",
        "\n",
        "$$\\lim_{n\\to \\infty} \\frac{(-4)^n+5\\cdot7^n}{(-4)^{n-1}+7^{n+2}}=\\Bigl(\\frac{\\infty}{\\infty}\\Bigr)=\\lim_{n\\to \\infty} \\frac{(-4)^n+5\\cdot7^n}{\\Bigl(-\\frac{1}{4}\\Bigr)\\cdot(-4)^n+49\\cdot7^n}=\\lim_{n\\to \\infty} \\frac{7^n\\cdot\\Bigl(\\Bigl(-\\frac{4}{7}\\Bigr)^n+5\\Bigr)}{7^n\\cdot\\Bigl(\\Bigl(-\\frac{1}{4}\\Bigr)\\cdot\\Bigl(-\\frac{4}{7}\\Bigr)^n+49\\Bigr)}=\\frac{5}{49}$$"
      ]
    },
    {
      "cell_type": "code",
      "metadata": {
        "colab": {
          "base_uri": "https://localhost:8080/",
          "height": 61
        },
        "id": "VgxzjCCYCkoh",
        "outputId": "f8d30c04-c460-43f8-9b58-2f76d73afcd7"
      },
      "source": [
        "n = Symbol('n')\n",
        "a = ((-4)**n + 5 * 7**n) / ((-4)**(n-1) + 7**(n+2))\n",
        "a"
      ],
      "execution_count": null,
      "outputs": [
        {
          "output_type": "execute_result",
          "data": {
            "image/png": "[encoded data removed]",
            "text/latex": "$\\displaystyle \\frac{\\left(-4\\right)^{n} + 5 \\cdot 7^{n}}{\\left(-4\\right)^{n - 1} + 7^{n + 2}}$",
            "text/plain": [
              "       n      n   \n",
              "   (-4)  + 5⋅7    \n",
              "──────────────────\n",
              "    n - 1    n + 2\n",
              "(-4)      + 7     "
            ]
          },
          "metadata": {
            "tags": []
          },
          "execution_count": 43
        }
      ]
    },
    {
      "cell_type": "code",
      "metadata": {
        "colab": {
          "base_uri": "https://localhost:8080/"
        },
        "id": "3d77FjjDDLYy",
        "outputId": "4275f17c-a8c8-48ef-fb7b-9fc328daaef6"
      },
      "source": [
        "print('Проверка через библиотеку sympy даёт ошибку')\n",
        "#limit (a, n, oo)"
      ],
      "execution_count": null,
      "outputs": [
        {
          "output_type": "stream",
          "text": [
            "Проверка через библиотеку sympy даёт ошибку\n"
          ],
          "name": "stdout"
        }
      ]
    },
    {
      "cell_type": "markdown",
      "metadata": {
        "id": "UoHdA-99DVrM"
      },
      "source": [
        "###$е)$\n",
        "\n",
        "$$e)^*\\,\\,\\,\\,\\lim_{n\\to \\infty} \\Bigl(\\frac{1}{1\\cdot2}+\\frac{1}{2\\cdot3}+\\frac{1}{3\\cdot4}+...+\\frac{1}{(n-1)\\cdot n}\\Bigr)$$\n",
        "\n",
        "аликвотные дроби\n",
        "\n",
        "$$\\frac{1}{n\\cdot(n+1)}=\\frac{1}{n}-\\frac{1}{n+1}$$\n",
        "$$$$\n",
        "$$\\frac{1}{1\\cdot2}=\\frac{1}{1}-\\frac{1}{2}$$\n",
        "$$$$\n",
        "$$\\frac{1}{2\\cdot3}=\\frac{1}{2}-\\frac{1}{3}$$\n",
        "$$$$\n",
        "$$\\frac{1}{3\\cdot4}=\\frac{1}{3}-\\frac{1}{4}$$\n",
        "$$$$\n",
        "$$\\frac{1}{4\\cdot5}=\\frac{1}{4}-\\frac{1}{5}$$\n",
        "$$$$\n",
        "\n",
        "$$\\lim_{n\\to \\infty} \\Bigl(\\frac{1}{1}-\\frac{1}{2}+\\frac{1}{2}-\\frac{1}{3}+...+\\frac{1}{n-1}-\\frac{1}{n}\\Bigr)=\\lim_{n\\to \\infty} \\Bigl(1-\\frac{1}{n}\\Bigr)=1$$"
      ]
    },
    {
      "cell_type": "markdown",
      "metadata": {
        "id": "it6ufPmPFGOd"
      },
      "source": [
        " 2. Представьте  1  в виде суммы трех рациональных дробей с разными знаменателями и числителем равным  1.\n",
        "\n",
        "$$\\frac{1}{n}=\\frac{1}{n + 1}+\\frac{1}{n\\cdot(n+1)}$$\n",
        "\n",
        "$$ 1 = \\frac{1}{2} + \\frac{1}{2} = \\frac{1}{2} + \\frac{1}{3} + \\frac{1}{6}$$"
      ]
    },
    {
      "cell_type": "markdown",
      "metadata": {
        "id": "MOy79SNkJPrm"
      },
      "source": [
        "3 ∗ . Тоже задание, только в виде суммы шести дробей.\n",
        "$$ 1 = \\frac{1}{2} + \\frac{1}{2} = \\frac{1}{2} + \\frac{1}{3} + \\frac{1}{6} = \\frac{1}{2} + \\frac{1}{4} + \\frac{1}{12} + \\frac{1}{7} + \\frac{1}{42} = \\frac{1}{2} + \\frac{1}{4} + \\frac{1}{12} + \\frac{1}{8} + \\frac{1}{56} + \\frac{1}{42} $$"
      ]
    },
    {
      "cell_type": "markdown",
      "metadata": {
        "id": "pEfEDllGMFDO"
      },
      "source": [
        "__4.__ Пользуясь критерием Коши, докажите сходимость последовательности:\n",
        "\n",
        "### $$a_n=\\frac{\\sin1}{2}+\\frac{\\sin2}{2^2}+\\frac{\\sin3}{2^3}+..\\frac{\\sin n}{2^n}\\,\\,\\,\\,\\,\\Rightarrow$$\n",
        "\n",
        "### $$\\Bigl\\{a_n\\Bigr\\}_{n=1}^\\infty=\\Bigl\\{\\frac{\\sin1}{2}, \\frac{\\sin1}{2}+\\frac{\\sin2}{2^2}, ..., a_n,...\\Bigr\\}$$\n",
        "$$$$\n",
        "\n",
        "$$a_n = \\Bigr|\\frac{sin(1)}{2} + \\frac{sin(2)}{2^2} + ... + \\frac{sin(n)}{2^n}\\Bigl|$$\n",
        "$$$$\n",
        "$$a_{n+k} = \\Bigr|\\frac{sin(1)}{2} + \\frac{sin(2)}{2^2} + ... + \\frac{sin(n+k)}{2^{n+k}}\\Bigl|$$\n",
        "$$$$\n",
        "$$|a_n - a_{n+k}|=\\Big|-\\Big(\\frac{sin(n + 1)}{2^{n + 1}} + \\frac{sin(n + 2)}{2^{n +2}} + ... + \\frac{sin(n+k)}{2^{n+k}}\\Big)\\Big|\\leq$$\n",
        "$$$$\n",
        "$$\\leq\\frac{|sin(n + 1)|}{2^{n + 1}} + \\frac{|sin(n + 2)|}{2^{n + 2}} + ... + \\frac{|sin(n + k)|}{2^{n + k}}\\leq\\frac{1}{2^{n + 1}} + \\frac{1}{2^{n + 2}} + ... + \\frac{1}{2^{n + k}}<$$\n",
        "$$$$\n",
        "$$<\\frac{1}{2^{n + 1}} + \\frac{1}{2^{n + 2}} + ... + \\frac{1}{2^{n + k}}+...=$$\n",
        "$$$$\n",
        "$$ = \\frac{\\frac{1}{2^{n+1}}}{1-\\frac{1}{2}} = \\frac{2}{2^{n+1}}= \\frac{1}{2^n}<\\frac{1}{2^{N(\\varepsilon)}}=\\varepsilon$$\n"
      ]
    },
    {
      "cell_type": "markdown",
      "metadata": {
        "id": "u9rwZrIkaO8c"
      },
      "source": [
        "$^*$ Какой член последовательности можно взять в качестве предела с точностью $\\varepsilon=10^{-7}$?\n",
        "\n",
        "$$\\frac{1}{2^{N(\\varepsilon)}}=\\varepsilon \\,\\,\\,\\Rightarrow\\,\\,\\, 2^{N(\\varepsilon)}=\\frac{1}{\\varepsilon}\\,\\,\\,\\Rightarrow\\,\\,\\, N(\\varepsilon)=-\\log_2 \\varepsilon$$"
      ]
    },
    {
      "cell_type": "code",
      "metadata": {
        "colab": {
          "base_uri": "https://localhost:8080/"
        },
        "id": "uURvG-w_RqiI",
        "outputId": "58c9bb09-dcf8-44bb-aef1-62590ad725fd"
      },
      "source": [
        "import math\n",
        "eps = 0.0000001\n",
        "N = -math.log(eps,2)\n",
        "\n",
        "print (f'eps={eps}', f'N={N}')\n",
        "\n",
        "n = int(N+1)\n",
        "\n",
        "print (f'Потребуется взять элемент с номером a_{n} = {1/2**n}')"
      ],
      "execution_count": 5,
      "outputs": [
        {
          "output_type": "stream",
          "text": [
            "eps=1e-07 N=23.25349666421154\n",
            "a_24 = 5.960464477539063e-08\n"
          ],
          "name": "stdout"
        }
      ]
    },
    {
      "cell_type": "markdown",
      "metadata": {
        "id": "stalZkyARgkB"
      },
      "source": [
        "__5$^*$.__  Пользуясь критерием Коши, докажите расходимость последовательности:\n",
        "\n",
        "### $$b_n=1+\\frac{1}{2}+\\frac{1}{3}+...+\\frac{1}{n}\\,\\,\\,\\,\\,\\Rightarrow$$\n",
        "\n",
        "### $$\\Bigl\\{b_n\\Bigr\\}_{n=1}^\\infty=\\Bigl\\{1, 1+\\frac{1}{2},1+\\frac{1}{2}+\\frac{1}{3}, ..., b_n,...\\Bigr\\}$$\n",
        "\n",
        "Будем доказывать от противного, т.е. рассмотрим критерий расходимости.\n",
        "### $$\\exists\\varepsilon>0\\,\\,\\,\\forall N(\\varepsilon), \\,\\,\\,\\exists n>N(\\varepsilon)\\,\\,\\,\\exists k\\geq1:|b_n-b_{n+k}|\\geq\\varepsilon$$\n",
        "\n",
        "$$b_n = 1+\\frac{1}{2}+\\frac{1}{3}+...+\\frac{1}{n}$$\n",
        "$$b_n = 1+\\frac{1}{2}+\\frac{1}{3}+...+\\frac{1}{n} + ... + \\frac{1}{n + k}$$\n",
        "$$|b_n-b_{n+k}|=\\Big|\\frac{1}{n+1}+...+\\frac{1}{n+k}\\Big|\\geq\\frac{k}{n+k}\\geq\\varepsilon$$\n",
        "\n",
        "Вроде бы всё, если я правильно понял, что необходимо сделать. Т.е. у нас осталось k элементов, каждый из которых больше либо равен 1/(n+k). И мы можем предъявить такие n, k и эпсилон, что неравенство выполняется."
      ]
    }
  ]
}