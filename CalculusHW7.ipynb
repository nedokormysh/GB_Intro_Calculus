{
  "nbformat": 4,
  "nbformat_minor": 0,
  "metadata": {
    "colab": {
      "name": "CalculusHW7.ipynb",
      "provenance": [],
      "collapsed_sections": [],
      "authorship_tag": "ABX9TyMpFSnqENezkDrOxK1MTPhJ",
      "include_colab_link": true
    },
    "kernelspec": {
      "name": "python3",
      "display_name": "Python 3"
    },
    "language_info": {
      "name": "python"
    }
  },
  "cells": [
    {
      "cell_type": "markdown",
      "metadata": {
        "id": "view-in-github",
        "colab_type": "text"
      },
      "source": [
        "<a href=\"https://colab.research.google.com/github/nedokormysh/GB_Intro_Calculus/blob/lesson7/CalculusHW7.ipynb\" target=\"_parent\"><img src=\"https://colab.research.google.com/assets/colab-badge.svg\" alt=\"Open In Colab\"/></a>"
      ]
    },
    {
      "cell_type": "markdown",
      "metadata": {
        "id": "Lmnem9sspJx0"
      },
      "source": [
        "__1.__ Исследовать на условный экстремум функцию\n",
        "\n",
        "### $$U=3-8x+6y,$$\n",
        "\n",
        "если\n",
        "\n",
        "### $$x^2+y^2=36$$\n",
        "$$$$\n",
        "$$L(x,y,\\lambda)=3-8x+6y +\\lambda \\cdot (x^2+y^2-36)$$\n",
        "$$$$\n",
        "$$\\begin{cases}\n",
        "L'{x}=-8+\\lambda \\cdot2x=0,\\\\\n",
        "L'{y}=6+\\lambda \\cdot2y=0,\\\\ \n",
        "L'_{\\lambda}=x^2 + y^2-36=0 \n",
        "\\end{cases}$$\n",
        "\n",
        "$$\\begin{cases}\n",
        "x=\\frac{4}{\\lambda},\\\\\n",
        "y=-\\frac{3}{\\lambda}, \\\\\n",
        "\\Big(\\frac{4}{\\lambda}\\Big)^2+\\Big(-\\frac{3}{\\lambda}\\Big)^2=36 \n",
        "\\end{cases}\n",
        "$$\n",
        "\n",
        "$$\\begin{cases}\n",
        "x=\\frac{4}{\\lambda},\\\\\n",
        "y=-\\frac{3}{\\lambda}, \\\\\n",
        "{\\lambda}^2=\\frac{25}{36} \n",
        "\\end{cases}\n",
        "$$\n",
        "\n",
        "Две точки: \n",
        "$$\\Big(\\frac{24}{5},-\\frac{18}{5},\\frac{5}{6}\\Big)$$ и $$\\Big(-\\frac{24}{5},\\frac{18}{5},-\\frac{5}{6}\\Big)$$\n",
        "\n",
        "$$$$\n",
        "$$L_{xx}'' = 2\\lambda$$\n",
        "$$L_{xy}'' = 0$$\n",
        "$$L_{x\\lambda}'' = 2x$$\n",
        "$$$$\n",
        "\n",
        "$$L_{yy}'' = 2\\lambda$$\n",
        "$$L_{yx}'' = 0$$\n",
        "$$L_{y\\lambda}'' = 2y$$\n",
        "$$$$\n",
        "\n",
        "$$L_{\\lambda\\lambda}'' = 0$$\n",
        "$$L_{\\lambda x}'' = 2x$$\n",
        "$$L_{\\lambda y}'' = 2y$$\n",
        "$$$$\n",
        "$$\\begin{pmatrix}\n",
        "L''_{\\lambda \\lambda} & L''_{\\lambda x} & L''_{\\lambda y}\\\\ \n",
        "L''_{x \\lambda} & L''_{xx} & L''_{xy}\\\\\n",
        "L''_{y \\lambda} & L''_{yx} & L''_{yy}\\\\\n",
        "\\end{pmatrix}\\Rightarrow\n",
        "\\begin{pmatrix}\n",
        "0 & 2x & 2y\\\\ \n",
        "2x & 2\\lambda & 0\\\\\n",
        "2y & 0 & 2\\lambda\\\\\n",
        "\\end{pmatrix}$$\n",
        "$$$$\n",
        "$$\\Delta=\\begin{vmatrix}\n",
        "0 & 2x & 2y\\\\ \n",
        "2x & 2\\lambda & 0\\\\\n",
        "2y & 0 & 2\\lambda\\\\\n",
        "\\end{vmatrix}=\n",
        "0\\cdot\n",
        "\\begin{vmatrix}\n",
        "2\\lambda & 0\\\\\n",
        "0 & 2y\\\\\n",
        "\\end{vmatrix}-2x\\cdot\n",
        "\\begin{vmatrix}\n",
        "2x & 0\\\\\n",
        "2y & 2\\lambda\\\\\n",
        "\\end{vmatrix}+2y\\cdot\n",
        "\\begin{vmatrix}\n",
        "2x & 2\\lambda\\\\\n",
        "2y & 0\\\\\n",
        "\\end{vmatrix} = -2x(2x2\\lambda)+2y(-2y2\\lambda) = -8x^2\\lambda-8y^2\\lambda = -8\\lambda(x^2+y^2)=-288\\lambda$$\n",
        "\n",
        "а) $$\\Big(\\frac{24}{5},-\\frac{18}{5},\\frac{5}{6}\\Big)$$\n",
        "$$$$\n",
        "$$\\Delta<0$$\n",
        "минимум\n",
        "$$$$\n",
        "б) $$\\Big(-\\frac{24}{5},\\frac{18}{5},-\\frac{5}{6}\\Big)$$\n",
        "$$$$\n",
        "$$\\Delta>0$$\n",
        "максимум"
      ]
    },
    {
      "cell_type": "markdown",
      "metadata": {
        "id": "DKElhvk1R1Kv"
      },
      "source": [
        "__2.__ Исследовать на условный экстремум функцию\n",
        "\n",
        "### $$U=2x^2+12xy+32y^2+15,$$\n",
        "\n",
        "если\n",
        "\n",
        "### $$x^2+16y^2=64$$\n",
        "\n",
        "$$$$\n",
        "$$L(x,y,\\lambda)=2x^2+12xy+32y^2+15 +\\lambda \\cdot (x^2+16y^2-64)$$\n",
        "$$$$\n",
        "\n",
        "$$\\begin{cases}\n",
        "L'{x} = 4x + 12y +2x\\lambda = 0,\\\\\n",
        "L'{y} = 12x + 64y + 32y\\lambda= 0,\\\\ \n",
        "L'_{\\lambda} = x^2+16y^2-64 = 0 \n",
        "\\end{cases}$$\n",
        "\n",
        "Корни найдены с помощью wolfram alpha.\n",
        "Четыре точки: \n",
        "$$(-4\\sqrt2;-\\sqrt{2};-\\frac{7}{2}), (4\\sqrt2;\\sqrt{2};-\\frac{7}{2}) (-4\\sqrt2;\\sqrt{2};-\\frac{1}{2}), (4\\sqrt2;-\\sqrt{2};-\\frac{1}{2})$$\n",
        "\n",
        "$$\\lambda = \\frac{-4x-12y}{2x}=\\frac{-2x-6y}{x}$$\n",
        "$$\\lambda = \\frac{-12x-64y}{32y}$$\n",
        "$$$$\n",
        "$$\\frac{-2x-6y}{x} = \\frac{-12x-64y}{32y}$$\n",
        "$$$$\n",
        "$$\n",
        "\\begin{cases}\n",
        "\\lambda = \\frac{-4x-12y}{2x}=\\frac{-2x-6y}{x}\\\\\n",
        "\\lambda = \\frac{-12x-64y}{32y}\\\\\n",
        "x^2+16y^2-64 = 0\n",
        "\\end{cases}$$\n",
        "$$$$\n",
        "$$\n",
        "\\begin{cases}\n",
        "\\lambda = \\frac{-2x-6y}{x}\\\\\n",
        "\\frac{-2x-6y}{x} = \\frac{-12x-64y}{32y}\\\\\n",
        "x^2+16y^2-64 = 0\n",
        "\\end{cases}$$\n",
        "$$$$\n",
        "$$\n",
        "\\begin{cases}\n",
        "\\lambda = \\frac{-2x-6y}{x}\\\\\n",
        "32y(-2x-6y) = x(-12x-64y)\\\\\n",
        "x^2+16y^2-64 = 0\n",
        "\\end{cases}$$\n",
        "$$$$\n",
        "$$\n",
        "\\begin{cases}\n",
        "\\lambda = \\frac{-2x-6y}{x}\\\\\n",
        "-64yx-192y^2 = -12x^2-64yx\\\\\n",
        "x^2+16y^2-64 = 0\n",
        "\\end{cases}$$\n",
        "$$$$\n",
        "$$\n",
        "\\begin{cases}\n",
        "\\lambda = \\frac{-2x-6y}{x}\\\\\n",
        "16y^2 = x^2\\\\\n",
        "x^2 + x^2-64 = 0\n",
        "\\end{cases}$$\n",
        "$$$$\n",
        "$$\n",
        "\\begin{cases}\n",
        "\\lambda = \\frac{-2x-6y}{x}\\\\\n",
        "16y^2 = x^2\\\\\n",
        "x^2 = 32\n",
        "\\end{cases}$$\n",
        "\n",
        "Четыре точки: \n",
        "$$(-4\\sqrt2;-\\sqrt{2};-\\frac{7}{2}), (4\\sqrt2;\\sqrt{2};-\\frac{7}{2}) (-4\\sqrt2;\\sqrt{2};-\\frac{1}{2}), (4\\sqrt2;-\\sqrt{2};-\\frac{1}{2})$$\n",
        "\n",
        "$$$$\n",
        "$$L_{xx}'' = 4 + 2\\lambda$$\n",
        "$$L_{xy}'' = 12$$\n",
        "$$L_{x\\lambda}'' = 2x$$\n",
        "\n",
        "$$$$\n",
        "$$L_{yy}'' = 64 + 32\\lambda$$\n",
        "$$L_{yx}'' = 12$$\n",
        "$$L_{y\\lambda}'' = 32y$$\n",
        "\n",
        "$$$$\n",
        "$$L_{\\lambda\\lambda}'' = 0$$\n",
        "$$L_{\\lambda x}'' = 2x$$\n",
        "$$L_{\\lambda y}'' = 32y$$\n",
        "\n",
        "$$$$\n",
        "$$\\begin{pmatrix}\n",
        "L''_{\\lambda \\lambda} & L''_{\\lambda x} & L''_{\\lambda y}\\\\ \n",
        "L''_{x \\lambda} & L''_{xx} & L''_{xy}\\\\\n",
        "L''_{y \\lambda} & L''_{yx} & L''_{yy}\\\\\n",
        "\\end{pmatrix}\\Rightarrow\n",
        "\\begin{pmatrix}\n",
        "0 & 2x & 32y\\\\ \n",
        "2x & 4 + 2\\lambda & 12\\\\\n",
        "32y & 12 & 64 + 32\\lambda\\\\\n",
        "\\end{pmatrix}$$\n",
        "$$$$\n",
        "$$\\Delta=\\begin{vmatrix}\n",
        "0 & 2x & 32y\\\\ \n",
        "2x & 4 + 2\\lambda & 12\\\\\n",
        "32y & 12 & 64 + 32\\lambda\\\\\n",
        "\\end{vmatrix}=\n",
        "0\\cdot\n",
        "\\begin{vmatrix}\n",
        "4+ 2\\lambda & 12\\\\\n",
        "12 & 64 + 32\\lambda\\\\\n",
        "\\end{vmatrix}-2x\\cdot\n",
        "\\begin{vmatrix}\n",
        "2x & 12\\\\\n",
        "32y & 64 + 32\\lambda\\\\\n",
        "\\end{vmatrix}+32y\\cdot\n",
        "\\begin{vmatrix}\n",
        "2x & 4 + 2\\lambda\\\\\n",
        "32y & 12\\\\\n",
        "\\end{vmatrix} = -2x(128x + 64\\lambda - 384y) + 32y(24x-128y-64y\\lambda) = -256x^2 - 128x^2\\lambda + 768xy + 768xy - 4096y^2-2048y^2\\lambda = -256x^2 - 128x\\lambda + 1536xy - 4096y^2-2048y^2\\lambda = -256(x^2 + 16y^2) - 128\\lambda(x^2 + 16y^2) + 1536xy = -256\\cdot64 - 128\\lambda\\cdot64 +  1536xy = -16384 - 8192\\lambda + 1536xy$$\n",
        "a) $$(-4\\sqrt2;-\\sqrt{2};-\\frac{7}{2})$$\n",
        "$$\\Delta = -16384 + 28672 + 12288 > 0$$\n",
        "максимум\n",
        "\n",
        "б) $$(4\\sqrt2;\\sqrt{2};-\\frac{7}{2})$$\n",
        "$$\\Delta = -16384 + 28672 + 12288 > 0$$\n",
        "максимум\n",
        "\n",
        "в) $$(-4\\sqrt2;\\sqrt{2};-\\frac{1}{2})$$\n",
        "$$\\Delta = -16384 + 4096 - 12288 < 0$$\n",
        "минимум\n",
        "\n",
        "г) $$(4\\sqrt2;-\\sqrt{2};-\\frac{1}{2})$$\n",
        "$$\\Delta = -16384 + 4096 - 12288 < 0$$\n",
        "минимум"
      ]
    },
    {
      "cell_type": "markdown",
      "metadata": {
        "id": "zV-mXNlG7H79"
      },
      "source": [
        "__3.__ Численно найти хотя бы один действительный корень системы нелинейных уравнений:\n",
        "### $$\\begin{cases}\n",
        "   x^2-y^2+3xy^3-2x^2y^2+2x-3y-5=0 \\\\\n",
        "   3y^3-2x^2+2x^3y-5x^2y^2+5=0\n",
        " \\end{cases}$$"
      ]
    },
    {
      "cell_type": "code",
      "metadata": {
        "colab": {
          "base_uri": "https://localhost:8080/"
        },
        "id": "FKguSURR7JVa",
        "outputId": "cf79120a-ce11-492a-fe72-7ddbb9c1d306"
      },
      "source": [
        "from scipy.optimize import fsolve, broyden2\n",
        "import math\n",
        "\n",
        "def equations(p):\n",
        "    x, y = p\n",
        "\n",
        "    return ((x**2-y**2+3*x*(y**3) - 2*(x**2)*(y**2) + 2*x - 3*y - 5), (3*(y**3) - 2*(x**2) + 2*(x**3)*y - 5*(x**2)*(y**2) + 5))\n",
        " \n",
        "# Численное решение системы уравнений\n",
        "x, y =  fsolve(equations, (10, 10))\n",
        "print (x, y)\n",
        "x, y =  fsolve(equations, (1, 1))\n",
        "print (x, y)\n",
        "x, y =  fsolve(equations, (100, 100))\n",
        "print (x, y)"
      ],
      "execution_count": null,
      "outputs": [
        {
          "output_type": "stream",
          "name": "stdout",
          "text": [
            "1.273302064528599 1.6620391224277693\n",
            "1.375687140388597 -0.17475798540737905\n",
            "2.2177536388154793 0.6101939797526498\n"
          ]
        }
      ]
    },
    {
      "cell_type": "markdown",
      "metadata": {
        "id": "3KFcU8yvBO1R"
      },
      "source": [
        "__4*.__ Численно найти все $5$ действительных корней."
      ]
    },
    {
      "cell_type": "code",
      "metadata": {
        "colab": {
          "base_uri": "https://localhost:8080/"
        },
        "id": "SuRKLV0XBXmc",
        "outputId": "ad9ac583-7338-448c-c85e-1de01cde2f2b"
      },
      "source": [
        "# import numpy as np\n",
        "# from scipy.optimize import fsolve, broyden2\n",
        "# import math\n",
        "def equations(p):\n",
        "    x, y = p\n",
        "\n",
        "    return ((x**2-y**2+3*x*(y**3) - 2*(x**2)*(y**2) + 2*x - 3*y - 5), (3*(y**3) - 2*(x**2) + 2*(x**3)*y - 5*(x**2)*(y**2) + 5))\n",
        "\n",
        "solv = set()\n",
        "for x in range(-20, 20, 3):\n",
        "  for y in range(-20, 20, 3):\n",
        "    (x,y), info, ier, mesg =  fsolve(equations, (x, y), full_output=True)\n",
        "    # x, y = fsolve(equations, (x, y))\n",
        "    # if (ier == 1): \n",
        "    #   solv.add((int(x*10**8)/10**8, int(y*10**8)/10**8))\n",
        "    if (ier == 1):\n",
        "      solv.add((round(x, 4), round(y, 4)) )\n",
        "      \n",
        "\n",
        "print(solv)"
      ],
      "execution_count": null,
      "outputs": [
        {
          "output_type": "stream",
          "name": "stdout",
          "text": [
            "{(-3.6531, -0.2748), (2.2178, 0.6102), (2.4944, 0.7083), (1.3757, -0.1748), (1.2733, 1.662)}\n"
          ]
        }
      ]
    },
    {
      "cell_type": "markdown",
      "metadata": {
        "id": "5CuReb6uLq4A"
      },
      "source": [
        "__5*.__ Даны две функции $y_{1}=f(x)$ и $y_{2}=g(x)$. Известно, что:\n",
        "\n",
        "### $$f'(x)=\\frac{1}{2}g(x)$$\n",
        "\n",
        "### $$g'(x)=2-2f(x)$$\n",
        "\n",
        "### $$f(0)=0$$\n",
        "\n",
        "### $$g(0)=1$$\n",
        "\n",
        "Восстановить функции $y_{1}=f(x)$ и $y_{2}=g(x)$ с помощью формулы:\n",
        "\n",
        "### $$f(x+\\Delta x) \\approx f(x)+f'(x) \\cdot \\Delta x$$\n",
        "\n",
        "на участке $[0, 20]$\n",
        "\n",
        "В качестве решения построить график этих функций в одной системе координат."
      ]
    },
    {
      "cell_type": "code",
      "metadata": {
        "id": "oC8BcCMgLv2_",
        "colab": {
          "base_uri": "https://localhost:8080/"
        },
        "outputId": "dc91bbf0-d287-4d04-a65f-3cdc351e18f7"
      },
      "source": [
        "import numpy as np\n",
        "from scipy.interpolate import splev, splrep\n",
        "\n",
        "\n",
        "n = 50\n",
        "l = 20\n",
        "h = l/n\n",
        "\n",
        "x = np.arange (0, l, h)\n",
        "# print(x)\n",
        "# print(x[2])\n",
        "\n",
        "x = np.append(x, l)\n",
        "# print(x)\n",
        "# print(len(x))\n",
        "\n",
        "f = np.array([0])\n",
        "# print(f)\n",
        "g = np.array([1])\n",
        "# print(g)\n",
        "\n",
        "while(n != 0):\n",
        "    # считаем синус по формуле. Дословно. Равен синусу на предыдущем шаге + косинус на шаг.\n",
        "\n",
        "    f = np.append(f, f[-1] + 0.5 * g[-1] * h)\n",
        "    # print(sin_d)\n",
        "    # cos_d = np.sqrt(1 - (sin_d[-1])**2)\n",
        "    g = np.append(g, g[-1] + (2-2 * f[-1]))\n",
        "    n -= 1\n",
        "\n",
        "print(f)\n",
        "print(g)"
      ],
      "execution_count": null,
      "outputs": [
        {
          "output_type": "stream",
          "name": "stdout",
          "text": [
            "[0.00000000e+00 2.00000000e-01 7.20000000e-01 1.35200000e+00\n",
            " 1.84320000e+00 1.99712000e+00 1.75219200e+00 1.20638720e+00\n",
            " 5.78027520e-01 1.18456832e-01 1.15034112e-02 2.99948626e-01\n",
            " 8.68414390e-01 1.48951440e+00 1.91480865e+00 1.97417944e+00\n",
            " 1.64387845e+00 1.05602609e+00 4.45763286e-01 5.71951711e-02\n",
            " 4.57489879e-02 4.16003209e-01 1.01985615e+00 1.61576663e+00\n",
            " 1.96537045e+00 1.92882610e+00 1.52075131e+00 9.04375990e-01\n",
            " 3.26250277e-01 1.76244535e-02 1.01948848e-01 5.45493703e-01\n",
            " 1.17084108e+00 1.72785202e+00 1.99372216e+00 1.86210343e+00\n",
            " 1.38564333e+00 7.54925899e-01 2.22238109e-01 6.55075554e-04\n",
            " 1.78810012e-01 6.85440943e-01 1.31789550e+00 1.82319185e+00\n",
            " 1.99921147e+00 1.77554649e+00 1.24166292e+00 6.11114184e-01\n",
            " 1.36119771e-01 6.67744884e-03 2.74564147e-01]\n",
            "[ 1.          2.6         3.16        2.456       0.7696     -1.22464\n",
            " -2.729024   -3.1417984  -2.29785344 -0.5347671   1.44222607  2.84232882\n",
            "  3.10550004  2.12647124  0.29685395 -1.65150493 -2.93926183 -3.051314\n",
            " -1.94284057 -0.05723092  1.85127111  3.01926469  2.97955239  1.74801914\n",
            " -0.18272177 -2.04037397 -3.08187658 -2.89062857 -1.54312912  0.42162197\n",
            "  2.21772428  3.12673687  2.78505472  1.32935067 -0.65809364 -2.38230049\n",
            " -3.15358715 -2.66343895 -1.10791517  0.89077468  2.53315466  3.16227277\n",
            "  2.52648178  0.88009807 -1.11832486 -2.66941785 -3.1527437  -2.37497207\n",
            " -0.64721161  1.33943349  2.7903052 ]\n"
          ]
        }
      ]
    },
    {
      "cell_type": "code",
      "metadata": {
        "colab": {
          "base_uri": "https://localhost:8080/",
          "height": 395
        },
        "id": "g9_vIH3IIiQN",
        "outputId": "6a5d8fcd-dfda-4b4b-83bc-362ae8b2b135"
      },
      "source": [
        "from matplotlib import pylab as plt\n",
        "\n",
        "plt.figure(figsize = (15, 6))\n",
        "plt.axis([0, 20, -6, 8])\n",
        "\n",
        "# plt.plot(x, f, c = 'b')\n",
        "plt.plot(x, f, marker=\"x\", label=\"f\", ls=\"\", c = 'b')\n",
        "# plt.plot(x, g, c = 'g')\n",
        "plt.plot(x, g, marker=\"o\", ls=\"\", label=\"g\", c = 'r')\n",
        "# plt.show()\n",
        "\n",
        "splf = splrep(x, f)\n",
        "# print(splf)\n",
        "splg = splrep(x, g)\n",
        "\n",
        "x2 = np.linspace(0, l, 200)\n",
        "y2 = splev(x2, splf)\n",
        "plt.plot(x2, y2, label=\"Кубический сплайн f\", c = 'y')\n",
        "\n",
        "x3 = np.linspace(0, l, 200)\n",
        "y3 = splev(x3, splg)\n",
        "plt.plot(x3, y3, label=\"Кубический сплайн g\", c = 'g')\n",
        "plt.legend()"
      ],
      "execution_count": null,
      "outputs": [
        {
          "output_type": "execute_result",
          "data": {
            "text/plain": [
              "<matplotlib.legend.Legend at 0x7f03f5ae2b10>"
            ]
          },
          "metadata": {},
          "execution_count": 42
        },
        {
          "output_type": "display_data",
          "data": {
            "image/png": "[encoded data removed]",
            "text/plain": [
              "<Figure size 1080x432 with 1 Axes>"
            ]
          },
          "metadata": {
            "needs_background": "light"
          }
        }
      ]
    },
    {
      "cell_type": "markdown",
      "metadata": {
        "id": "G_qCtcGXiGFY"
      },
      "source": [
        "__6**.__ Найти все корни уравнения:\n",
        "    \n",
        "### $$f(x)=g(x)$$\n",
        "\n",
        "на участке $[0, 20]$\n",
        "\n",
        "Где $y_{1}=f(x)$ и $y_{2}=g(x)$ - функции из предыдущего решения."
      ]
    },
    {
      "cell_type": "code",
      "metadata": {
        "colab": {
          "base_uri": "https://localhost:8080/"
        },
        "id": "yBsKp9iuiHE2",
        "outputId": "0cea9261-b0d1-4722-cd71-23b2d1aad676"
      },
      "source": [
        "# import numpy as np\n",
        "# from scipy.optimize import fsolve, broyden2\n",
        "# import math\n",
        "\n",
        "\n",
        "\n",
        "def equations(p):\n",
        "    x = p\n",
        "    return (splev(x, splf)-splev(x, splg))\n",
        "\n",
        "solv = set()\n",
        "solvx = set()\n",
        "\n",
        "for x in np.arange (0, l, h):\n",
        "    x, info, ier, mesg =  fsolve(equations, x, full_output = True)\n",
        "    if (ier == 1):\n",
        "      solv.add(round(float(x), 9))\n",
        "      solvx.add(int(x*10**8)/10**8)\n",
        "    \n",
        "print(solv)\n",
        "print(solvx)"
      ],
      "execution_count": 88,
      "outputs": [
        {
          "output_type": "stream",
          "name": "stdout",
          "text": [
            "{-0.174325082, 1.412465269, 3.714929897, 5.31823879, 7.620462585, 9.223888359, 11.526040987, 13.129410996, 15.431746984, 17.035006895, 19.337840246, 20.686134698}\n",
            "{-0.17432508, 1.41246526, 3.71492989, 5.31823878, 7.62046258, 9.22388835, 11.52604098, 13.12941099, 15.43174698, 17.03500689, 19.33784024, 20.68613469}\n"
          ]
        }
      ]
    }
  ]
}