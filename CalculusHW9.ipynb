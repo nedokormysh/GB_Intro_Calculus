{
  "nbformat": 4,
  "nbformat_minor": 0,
  "metadata": {
    "colab": {
      "name": "CalculusHW9.ipynb",
      "provenance": [],
      "collapsed_sections": [],
      "authorship_tag": "ABX9TyO4BuFVcWUF33f23IdJ+zxL",
      "include_colab_link": true
    },
    "kernelspec": {
      "name": "python3",
      "display_name": "Python 3"
    },
    "language_info": {
      "name": "python"
    }
  },
  "cells": [
    {
      "cell_type": "markdown",
      "metadata": {
        "id": "view-in-github",
        "colab_type": "text"
      },
      "source": [
        "<a href=\"https://colab.research.google.com/github/nedokormysh/GB_Intro_Calculus/blob/lesson9/CalculusHW9.ipynb\" target=\"_parent\"><img src=\"https://colab.research.google.com/assets/colab-badge.svg\" alt=\"Open In Colab\"/></a>"
      ]
    },
    {
      "cell_type": "markdown",
      "metadata": {
        "id": "LHs0nNhHsdjI"
      },
      "source": [
        "__1.__ Исследовать сходимость ряда. \n",
        "\n",
        "\n",
        "### $$\\frac{1}{2\\sqrt2}+\\frac{1}{3\\sqrt3}+\\,...\\,+\\frac{1}{(n+1)\\sqrt{n+1}}+\\,...\\,=\\sum\\limits_{n=1}^{+\\infty}\\frac{1}{(n+1)\\sqrt{n+1}}$$\n",
        "\n",
        "(*) Двумя различными признаками.\n",
        "\n",
        "1) Второй признак сравнения.\n",
        "$$\\sum\\limits_{n=1}^{+\\infty}\\frac{1}{(n+1)\\sqrt{n+1}}=\\sum\\limits_{n=1}^{+\\infty}\\frac{1}{(n+1)^{\\frac{3}{2}}}$$\n",
        "Небходимое условие:\n",
        "$$\\lim_{n\\to +\\infty}\\frac{1}{(n+1)^{\\frac{3}{2}}}=0$$\n",
        "Достаточное условие:\n",
        "$$\\sum\\limits_{n=1}^{+\\infty}\\frac{1}{(n+1)^{\\frac{3}{2}}}\\sim O\\Big(\\frac{1}{n^{\\frac{3}{2}}}\\Big)$$\n",
        "2) Интегральный признак Коши.\n",
        "$$\\int\\limits_{1}^{+\\infty}a_{x}\\,dx=\\int\\limits_{1}^{+\\infty}\\frac{1}{(n+1)\\sqrt{n+1}} = \\int\\limits_{1}^{+\\infty}(n+1)^{-\\frac{3}{2}} = -2(n+1)^{-\\frac{1}{2}}\\bigg|_1^{+ \\infty} = 0 + \\frac{2}{\\sqrt 2} =\\sqrt 2$$\n",
        "Интеграл существует, следовательно ряд сходится."
      ]
    },
    {
      "cell_type": "markdown",
      "metadata": {
        "id": "k7YIhleUywZA"
      },
      "source": [
        "\n",
        "2. Исследовать сходимость ряда\n",
        "$$\\frac{1000}{1!}+\\frac{1000^2}{2!}+\\,...\\,+\\frac{1000^n}{n!}+\\,...\\,=\\sum\\limits_{n=1}^{+\\infty}\\frac{1000^n}{n!}$$\n",
        "\n",
        "Признак д’Аламбера.\n",
        "\n",
        "\n",
        "$$\\lim_{n\\to +\\infty}\\frac{a_{n+1}}{a_{n}}=\n",
        "\\lim_{n\\to +\\infty}\\frac{\\frac{1000^{n+1}}{n+1!}}{\\frac{1000^n}{n!}}=\\lim_{n\\to +\\infty}\\frac{1000}{n+1} = 0 $$ \n",
        "$$0<1\\ значит\\ ряд\\ сходится$$"
      ]
    },
    {
      "cell_type": "markdown",
      "metadata": {
        "id": "FDB6FKlz74aE"
      },
      "source": [
        "__3*.__ Исследовать сходимость ряда\n",
        "\n",
        "### $$\\frac{2\\cdot1!}{1}+\\frac{2^2\\cdot2!}{2^2}+\\,...\\,+\\frac{2^n\\cdot n!}{n^n}+\\,...\\,=\\sum\\limits_{n=1}^{+\\infty}\\frac{2^n\\cdot n!}{n^n}$$\n",
        "\n",
        "\n",
        "$$\\lim_{n\\to +\\infty}\\frac{a_{n + 1}}{a_{n}} = \\lim_{n\\to +\\infty}\\frac{\\frac{2^{n+1}\\cdot (n + 1)!}{(n + 1)^{n + 1}}}{\\frac{2^n\\cdot n!}{n^n}} = \\lim_{n\\to +\\infty}\\frac{2\\cdot n^n}{(n + 1)^n} = 2\\cdot\\lim_{n\\to +\\infty}\\frac{n^n}{(n+1)^n} = 2\\cdot\\lim_{n\\to +\\infty}\\Big(\\frac{n + 1 - 1}{n + 1}\\Big)^n = 2\\cdot\\lim_{n\\to +\\infty} \\Big(1 - \\frac{1}{n + 1} \\Big)^n = 2\\cdot\\lim_{n\\to +\\infty} \\Big(1 + \\frac{1}{-(n + 1)} \\Big)^n = 2\\cdot\\lim_{n\\to +\\infty} \\Big(1 + \\frac{1}{-(n + 1)} \\Big)^{\\frac{n(-(n + 1))}{-(n + 1)}} = 2 \\cdot e^{\\lim_{n\\to +\\infty}\\frac{n}{-(n + 1)}} = 2e^{-1} = \\frac{2}{e} < 1$$\n",
        "\n",
        "Ряд сходится"
      ]
    },
    {
      "cell_type": "markdown",
      "metadata": {
        "id": "ECmJC317AQxr"
      },
      "source": [
        "__4*.__ Исследовать сходимость ряда\n",
        "\n",
        "### $$\\frac{3\\cdot1!}{1}+\\frac{3^2\\cdot2!}{2^2}+\\,...\\,+\\frac{3^n\\cdot n!}{n^n}+\\,...\\,=\\sum\\limits_{n=1}^{+\\infty}\\frac{3^n\\cdot n!}{n^n}$$\n",
        "\n",
        "\n",
        "Найдем предел:\n",
        "\n",
        "$$\\lim_{n\\to +\\infty}\\frac{a_{n + 1}}{a_{n}} = \\lim_{n\\to +\\infty}\\frac{\\frac{3^{n+1}\\cdot (n + 1)!}{(n + 1)^{n + 1}}}{\\frac{3^n\\cdot n!}{n^n}} = \\lim_{n\\to +\\infty}\\frac{3\\cdot n^n}{(n + 1)^n} = 3\\cdot\\lim_{n\\to +\\infty}\\frac{n^n}{(n+1)^n} = 2\\cdot\\lim_{n\\to +\\infty}\\Big(\\frac{n + 1 - 1}{n + 1}\\Big)^n = 3\\cdot\\lim_{n\\to +\\infty} \\Big(1 - \\frac{1}{n + 1} \\Big)^n = 3\\cdot\\lim_{n\\to +\\infty} \\Big(1 + \\frac{1}{-(n + 1)} \\Big)^n = 3\\cdot\\lim_{n\\to +\\infty} \\Big(1 + \\frac{1}{-(n + 1)} \\Big)^{\\frac{n(-(n + 1))}{-(n + 1)}} = 3 \\cdot e^{\\lim_{n\\to +\\infty}\\frac{n}{-(n + 1)}} = 3e^{-1} = \\frac{3}{e} > 1$$\n",
        "\n",
        "Ряд расходится"
      ]
    },
    {
      "cell_type": "markdown",
      "metadata": {
        "id": "IEdyCXxNC5io"
      },
      "source": [
        "__5*.__ Исследовать сходимость ряда\n",
        "\n",
        "### $$-\\frac{\\sqrt1}{2}+\\frac{\\sqrt2}{3}-\\,...\\,+\\frac{(-1)^n\\sqrt n}{n+1}+\\,...\\,=\\sum\\limits_{n=1}^{+\\infty}\\frac{(-1)^n\\sqrt n}{n+1}$$\n",
        "$$$$\n",
        "Знакочередующийся ряд. Признак Лейбница.\n",
        "\n",
        "1)\n",
        "$$\\lim_{n\\to +\\infty}a_n = \\lim_{n\\to +\\infty} \\frac{(-1)^n\\sqrt n}{n + 1}  = \\Big(\\frac{\\infty}{\\infty}\\Big) = 0 $$\n",
        "\n",
        "Старшая степень числителя меньше старшей степени знаменателя, следовательно предел будет равен нулю. \n",
        "\n",
        "2) $$\\Big|\\frac{(-1)^{n + 1}\\sqrt {n + 1}}{(n + 1) + 1}\\Big| < \\Big|\\frac{(-1)^n\\sqrt n}{n+1}\\Big|$$\n",
        "\n",
        "Возьмём производную от функции.\n",
        "\n",
        "$$\\Big(\\frac{\\sqrt n}{n + 1}\\Big)' = \\frac{\\frac{1}{2}\\cdot\\frac{1}{\\sqrt n}(n+1) - \\sqrt n}{(n + 1)^2} = \\frac{-n + 1}{2\\sqrt n \\cdot(n + 1)^2}$$\n",
        "\n",
        "Корнем является n = 1. Подставим 4. Получаем, что производная меньше нуля. Функция убывает. Итого: условие монотонности выполняется.\n",
        "\n",
        "\n",
        "3) $$\\int\\limits_{1}^{+\\infty}a_{x}\\,dx = \\int\\limits_{1}^{+\\infty} \\frac {\\sqrt n}{n+1}= *$$\n",
        "$$$$\n",
        "$$t = \\sqrt n$$\n",
        "\n",
        "$$dt=\\frac{1}{2}\\frac{1}{\\sqrt n}dn$$\n",
        "$$dn = 2\\sqrt n\\cdot dt$$ \n",
        "\n",
        "$$* = \\int\\limits_{1}^{+\\infty} \\frac{t^2}{t^2 + 1}\\cdot dt = \\int\\limits_{1}^{+\\infty} \\frac{t^2 + 1 - 1}{t^2 + 1}\\cdot dt = \\int\\limits_{1}^{+\\infty} \\Big( 1 - \\frac{1}{t^2 + 1}\\Big) dt =  (t + \\arctan t )\\Bigg|_1^{\\infty} = \\infty$$\n",
        "\n",
        "Без обратной замены видно, что получаем бесконечность. Итого, ряд не сходится.\n",
        "\n",
        "Ответ для всего решения: ряд сходится условно.\n"
      ]
    },
    {
      "cell_type": "markdown",
      "metadata": {
        "id": "xgLj-Ij5Yp3x"
      },
      "source": [
        "Разное. Проверим через д'Аламбера: Если предел по модулю меньше единицы, то следующий член меньше предыдущего.\n",
        "\n",
        "$$\\lim_{n\\to +\\infty}\\frac{a_{n+1}}{a_{n}}=\n",
        "\\lim_{n\\to +\\infty} \\frac{\\sqrt {n+1}}{n + 2}\\cdot\\frac{n + 1}{\\sqrt n} = 1$$ \n",
        "\n",
        "Если я понимаю, то предел будет равен 1. А потому д'Аламбера не работает. Но тогда неверно решение, что монотонность выполняется.\n"
      ]
    },
    {
      "cell_type": "code",
      "metadata": {
        "colab": {
          "base_uri": "https://localhost:8080/",
          "height": 63
        },
        "id": "TD-hD0QUdU-Q",
        "outputId": "807dfd3c-dc56-4938-d074-38d9ed6ad407"
      },
      "source": [
        "from sympy import *\n",
        "init_printing()\n",
        "n = Symbol('n')\n",
        "f = (sqrt(n + 1)/(n + 2))/((sqrt(n)/(n + 1)))\n",
        "f"
      ],
      "execution_count": null,
      "outputs": [
        {
          "output_type": "execute_result",
          "data": {
            "image/png": "[encoded data removed]",
            "text/latex": "$\\displaystyle \\frac{\\left(n + 1\\right)^{\\frac{3}{2}}}{\\sqrt{n} \\left(n + 2\\right)}$",
            "text/plain": [
              "       3/2\n",
              "(n + 1)   \n",
              "──────────\n",
              "√n⋅(n + 2)"
            ]
          },
          "metadata": {},
          "execution_count": 110
        }
      ]
    },
    {
      "cell_type": "code",
      "metadata": {
        "colab": {
          "base_uri": "https://localhost:8080/",
          "height": 37
        },
        "id": "MTat4xaJdj82",
        "outputId": "5d47c78a-b675-4dcc-dfb5-70dfed4123fb"
      },
      "source": [
        "limit (f, n, +oo)"
      ],
      "execution_count": null,
      "outputs": [
        {
          "output_type": "execute_result",
          "data": {
            "image/png": "[encoded data removed]",
            "text/latex": "$\\displaystyle 1$",
            "text/plain": [
              "1"
            ]
          },
          "metadata": {},
          "execution_count": 111
        }
      ]
    },
    {
      "cell_type": "code",
      "metadata": {
        "colab": {
          "base_uri": "https://localhost:8080/",
          "height": 55
        },
        "id": "-lSOAHQZQM0l",
        "outputId": "546d285a-6ed9-4323-b513-237994dddbab"
      },
      "source": [
        "from sympy import *\n",
        "init_printing()\n",
        "n = Symbol('n')\n",
        "f = sqrt(n)/(n + 1)\n",
        "f"
      ],
      "execution_count": null,
      "outputs": [
        {
          "output_type": "execute_result",
          "data": {
            "image/png": "[encoded data removed]",
            "text/latex": "$\\displaystyle \\frac{\\sqrt{n}}{n + 1}$",
            "text/plain": [
              "  √n \n",
              "─────\n",
              "n + 1"
            ]
          },
          "metadata": {},
          "execution_count": 100
        }
      ]
    },
    {
      "cell_type": "code",
      "metadata": {
        "colab": {
          "base_uri": "https://localhost:8080/",
          "height": 37
        },
        "id": "fdpUGZH_Qdhs",
        "outputId": "b38d2138-d565-4ee5-d6f2-896fd28d3e16"
      },
      "source": [
        "integrate(f,(n, 1, +oo)) "
      ],
      "execution_count": null,
      "outputs": [
        {
          "output_type": "execute_result",
          "data": {
            "image/png": "[encoded data removed]",
            "text/latex": "$\\displaystyle \\infty$",
            "text/plain": [
              "∞"
            ]
          },
          "metadata": {},
          "execution_count": 101
        }
      ]
    },
    {
      "cell_type": "code",
      "metadata": {
        "colab": {
          "base_uri": "https://localhost:8080/",
          "height": 38
        },
        "id": "93P7jzXEQlPm",
        "outputId": "dc9ad2c5-fb9f-4d1b-c9d1-4280452d088c"
      },
      "source": [
        "integrate(f, n) "
      ],
      "execution_count": null,
      "outputs": [
        {
          "output_type": "execute_result",
          "data": {
            "image/png": "[encoded data removed]",
            "text/latex": "$\\displaystyle 2 \\sqrt{n} - 2 \\operatorname{atan}{\\left(\\sqrt{n} \\right)}$",
            "text/plain": [
              "2⋅√n - 2⋅atan(√n)"
            ]
          },
          "metadata": {},
          "execution_count": 4
        }
      ]
    },
    {
      "cell_type": "code",
      "metadata": {
        "colab": {
          "base_uri": "https://localhost:8080/",
          "height": 61
        },
        "id": "kianZLCMn7-J",
        "outputId": "ac11f1a0-588e-4401-a259-c544433ac748"
      },
      "source": [
        "diff(f, n)"
      ],
      "execution_count": null,
      "outputs": [
        {
          "output_type": "execute_result",
          "data": {
            "image/png": "[encoded data removed]",
            "text/latex": "$\\displaystyle - \\frac{\\sqrt{n}}{\\left(n + 1\\right)^{2}} + \\frac{1}{2 \\sqrt{n} \\left(n + 1\\right)}$",
            "text/plain": [
              "     √n           1      \n",
              "- ──────── + ────────────\n",
              "         2   2⋅√n⋅(n + 1)\n",
              "  (n + 1)                "
            ]
          },
          "metadata": {},
          "execution_count": 10
        }
      ]
    },
    {
      "cell_type": "code",
      "metadata": {
        "colab": {
          "base_uri": "https://localhost:8080/"
        },
        "id": "gYrKVTxsqJOm",
        "outputId": "06292e78-d5cd-4716-da80-0a4df46602a5"
      },
      "source": [
        "from scipy.optimize import fsolve\n",
        "import sys\n",
        "\n",
        "def equations(p):\n",
        "  n = p\n",
        "  - (n**(1/2)) / ((n + 1)**2) + 1 / (2 * n**(1/2)*(n + 1))\n",
        "  # - n**(1/2)\n",
        "  return n\n",
        "\n",
        "n = fsolve(equations, 4)\n",
        "print(n)"
      ],
      "execution_count": null,
      "outputs": [
        {
          "output_type": "stream",
          "name": "stdout",
          "text": [
            "[0.]\n"
          ]
        },
        {
          "output_type": "stream",
          "name": "stderr",
          "text": [
            "/usr/local/lib/python3.7/dist-packages/ipykernel_launcher.py:6: RuntimeWarning: invalid value encountered in sqrt\n",
            "  \n",
            "/usr/local/lib/python3.7/dist-packages/ipykernel_launcher.py:6: RuntimeWarning: divide by zero encountered in true_divide\n",
            "  \n"
          ]
        }
      ]
    },
    {
      "cell_type": "markdown",
      "metadata": {
        "id": "m4EIxX9nVrQr"
      },
      "source": [
        "Так и не получилось у меня заставить fsolve найти корни производной. Поэтому в sympy"
      ]
    },
    {
      "cell_type": "code",
      "metadata": {
        "colab": {
          "base_uri": "https://localhost:8080/",
          "height": 37
        },
        "id": "EnVDi5sfQNA4",
        "outputId": "e6f90178-700f-4abb-dc2e-0db9d0f916f0"
      },
      "source": [
        "from sympy.solvers import solve\n",
        "from sympy import Symbol\n",
        "n = Symbol('n')\n",
        "solve(- (n**(1/2)) / ((n + 1)**2) + 1 / (2 * n**(1/2)*(n + 1)), n)"
      ],
      "execution_count": null,
      "outputs": [
        {
          "output_type": "execute_result",
          "data": {
            "image/png": "[encoded data removed]",
            "text/latex": "$\\displaystyle \\left[ 1.0\\right]$",
            "text/plain": [
              "[1.0]"
            ]
          },
          "metadata": {},
          "execution_count": 105
        }
      ]
    },
    {
      "cell_type": "markdown",
      "metadata": {
        "id": "eH2XAfTOz5RT"
      },
      "source": [
        "__6*.__ Разложить функцию $y=e^x$ в ряд Маклорена, а так же в ряд Фурье на отрезке $[-\\pi, \\pi]$. Построить график функции и разложений.\n",
        "\n",
        "1) ряд Маклорена\n",
        "\n",
        "$$f(x)=\\sum\\limits_{n=0}^{+\\infty}\\frac{f^{(n)}(0)}{n!}x^n$$\n",
        "$$$$\n",
        "$$f^{(n)}=e^x,\\ f^{(n)}(0) = 1$$\n",
        "$$$$\n",
        "$$e^x=1+\\frac{1\\cdot x}{1!}+\\frac{1\\cdot x^2}{2!}+\\frac{1\\cdot x^3}{3!}+ ... + \\frac{1\\cdot x^n}{n!}=\\sum\\limits_{n=0}^{+\\infty}\\frac{x^n}{n!}$$\n",
        "\n",
        "\n",
        "2) ряд Фурье\n",
        "\n",
        "$$f(x)=a_{0}+\\sum\\limits_{n=1}^{+\\infty}(a_n\\cos nx+b_n\\sin nx)$$\n",
        "\n",
        "где\n",
        "\n",
        "### $$a_0=\\frac{1}{2\\pi}\\int\\limits_{-\\pi}^\\pi f(x)\\,dx$$\n",
        "\n",
        "\n",
        "$$\\int\\limits_{-\\pi}^\\pi$$\n",
        "\n",
        "$$a_0 = \\frac{1}{2\\pi}\\int\\limits_{-\\pi}^\\pi f(x)\\,dx = \\frac{1}{2\\pi}\\int\\limits_{-\\pi}^\\pi e^x\\,dx = \\frac{1}{2\\pi} e^x \\Bigr|_{-\\pi}^\\pi = \\frac{e^{\\pi} - e^{-\\pi}}{2\\pi}$$\n",
        "\n"
      ]
    },
    {
      "cell_type": "markdown",
      "metadata": {
        "id": "s6DDPX9oT2Sz"
      },
      "source": [
        "### $$a_n = \\frac{1}{\\pi}\\int\\limits_{-\\pi}^\\pi f(x)\\cos nx\\,dx = \\frac{1}{\\pi}\\int\\limits_{-\\pi}^\\pi e^x \\cos nx\\,dx$$\n",
        "\n",
        "$$\\int\\limits_{-\\pi}^\\pi e^x \\cos nx\\,dx = (*)$$\n",
        "\n",
        "$$U = e^x \\Rightarrow dU=e^x\\,dx$$ \n",
        "$$dV = \\cos nx\\,dx \\Rightarrow V=\\frac{1}{n}\\sin nx$$ \n",
        "\n",
        "$$ (*) = \\frac{1}{n} \\sin nx \\cdot e^x \\Bigr|_{-\\pi}^\\pi - \\int\\limits_{-\\pi}^\\pi \\frac{1}{n} \\sin nx \\cdot e^x \\,dx = \\frac{1}{n} \\sin nx \\cdot e^x \\Bigr|_{-\\pi}^\\pi - \\frac{1}{n} \\int\\limits_{-\\pi}^\\pi \\sin nx \\cdot e^x \\,dx = (*)$$\n",
        "\n",
        "$$ U = e^x \\Rightarrow dU=e^x\\,dx$$\n",
        "$$ dV = \\sin nx \\,dx \\Rightarrow V = - \\frac{1}{n} \\cos nx$$\n",
        "\n",
        "$$ (*) = \\frac{1}{n} \\sin nx \\cdot e^x \\Bigr|_{-\\pi}^\\pi - \\frac{1}{n} \\Big(-\\frac{1}{n} \\cos nx \\cdot e^x \\Bigr|_{-\\pi}^\\pi - \\int\\limits_{-\\pi}^\\pi - \\frac{1}{n} \\cos nx \\cdot e^x \\,dx \\Big) = \\frac{1}{n} \\sin nx \\cdot e^x \\Bigr|_{-\\pi}^\\pi + \\frac{1}{n^2} \\cos nx \\cdot e^x \\Bigr|_{-\\pi}^\\pi - \\frac{1}{n^2}\\int\\limits_{-\\pi}^\\pi \\cos nx \\cdot e^x \\,dx$$\n",
        "\n",
        "переносим интеграл в левую часть\n",
        "\n",
        "$$\\int\\limits_{-\\pi}^\\pi \\cos nx \\cdot e^x \\,dx + \\frac{1}{n^2}\\int\\limits_{-\\pi}^\\pi \\cos nx \\cdot e^x \\,dx = \\frac{1}{n} \\sin nx \\cdot e^x \\Bigr|_{-\\pi}^\\pi + \\frac{1}{n^2} \\cos nx \\cdot e^x \\Bigr|_{-\\pi}^\\pi$$\n",
        "\n",
        "$$\\Big(1 + \\frac{1}{n^2}\\Big)\\int\\limits_{-\\pi}^\\pi \\cos nx \\cdot e^x \\,dx = \\frac{e^{\\pi}}{n} \\sin {\\pi}n - \\frac{e^{-\\pi}}{n} \\sin ({-\\pi}n) + \\frac{e^{\\pi}}{n^2} \\cos {\\pi}n - \\frac{e^{-\\pi}}{n^2} \\cos ({-\\pi}n)$$\n",
        "\n",
        "$$\\Big(1 + \\frac{1}{n^2}\\Big)\\int\\limits_{-\\pi}^\\pi \\cos nx \\cdot e^x \\,dx = \\frac{e^{\\pi}}{n^2} \\cos {\\pi}n - \\frac{e^{-\\pi}}{n^2} \\cos ({\\pi}n)$$\n",
        "\n",
        "$$\\int\\limits_{-\\pi}^\\pi \\cos nx \\cdot e^x \\,dx =  \\cos {\\pi}n \\Big(\\frac{e^{\\pi}}{n^2}- \\frac{e^{-\\pi}}{n^2} \\Big) \\cdot \\Big(\\frac{n^2}{n^2 + 1} \\Big)$$\n",
        "\n",
        "$$\\int\\limits_{-\\pi}^\\pi \\cos nx \\cdot e^x \\,dx =  (-1)^n\\Big(\\frac{e^{\\pi} - e^{-\\pi}}{n^2 + 1} \\Big)$$\n",
        "\n",
        "$$a_n = \\frac{1}{\\pi}\\int\\limits_{-\\pi}^\\pi f(x)\\cos nx\\,dx = \\frac{1}{\\pi}\\int\\limits_{-\\pi}^\\pi e^x \\cos nx\\,dx = \\frac{1}{\\pi} (-1)^n\\Big(\\frac{e^{\\pi} - e^{-\\pi}}{n^2 + 1} \\Big)$$"
      ]
    },
    {
      "cell_type": "markdown",
      "metadata": {
        "id": "BsS52KgYd4r8"
      },
      "source": [
        "### $$b_n = \\frac{1}{\\pi}\\int\\limits_{-\\pi}^\\pi f(x)\\sin nx\\,dx = \\frac{1}{\\pi}\\int\\limits_{-\\pi}^\\pi e^x \\sin nx\\,dx$$\n",
        "\n",
        "$$\\int\\limits_{-\\pi}^\\pi e^x \\sin nx\\,dx = (*)$$\n",
        "\n",
        "$$U = e^x \\Rightarrow dU=e^x\\,dx$$ \n",
        "$$dV = \\sin nx\\,dx \\Rightarrow V = -\\frac{1}{n}\\cos nx$$\n",
        "\n",
        "$$(*) = -\\frac{e^x}{n}\\cos nx \\Bigr|_{-\\pi}^\\pi - \\int\\limits_{-\\pi}^\\pi -\\frac{1}{n}\\cos nx \\cdot e^x \\,dx = -\\frac{e^x}{n}\\cos nx \\Bigr|_{-\\pi}^\\pi + \\int\\limits_{-\\pi}^\\pi -\\frac{1}{n}\\cos nx \\cdot e^x \\,dx = (*)$$\n",
        "\n",
        "$$U = e^x \\Rightarrow dU=e^x\\,dx$$\n",
        "$$dV = \\cos nx\\,dx \\Rightarrow V = \\frac{1}{n}\\sin nx$$\n",
        "\n",
        "$$(*) = -\\frac{e^x}{n}\\cos nx \\Bigr|_{-\\pi}^\\pi + \\frac{1}{n}\\Big( e^x \\cdot \\frac{1}{n}\\sin nx \\Bigr|_{-\\pi}^\\pi - \\int\\limits_{-\\pi}^\\pi \\frac{1}{n} \\sin nx \\cdot e^x \\,dx \\Big) = -\\frac{e^x}{n}\\cos nx \\Bigr|_{-\\pi}^\\pi + \\frac{1}{n^2} e^x \\sin nx \\Bigr|_{-\\pi}^\\pi - \\frac{1}{n^2} \\int\\limits_{-\\pi}^\\pi \\sin nx \\cdot e^x \\,dx$$\n",
        "\n",
        "переносим интегралы в левую часть\n",
        "\n",
        "$$\\int\\limits_{-\\pi}^\\pi e^x \\sin nx\\,dx  + \\frac{1}{n^2} \\int\\limits_{-\\pi}^\\pi \\sin nx \\cdot e^x \\,dx = \\frac{1}{n^2} e^x \\sin nx \\Bigr|_{-\\pi}^\\pi - -\\frac{e^x}{n}\\cos nx \\Bigr|_{-\\pi}^\\pi$$\n",
        "\n",
        "$$\\int\\limits_{-\\pi}^\\pi e^x \\sin nx\\,dx \\Big( \\frac{n^2 + 1}{n^2}\\Big) = \\frac{1}{n^2} e^{\\pi} \\sin \\pi n - \\frac{1}{n^2} e^{-\\pi} \\sin (-\\pi n) - \\Big(\\frac{e^{\\pi}}{n}\\cos \\pi n - \\frac{e^{-\\pi}}{n}\\cos (-\\pi n)\\Big) $$\n",
        "\n",
        "$$\\int\\limits_{-\\pi}^\\pi e^x \\sin nx\\,dx \\Big( \\frac{n^2 + 1}{n^2}\\Big) = \\frac{e^{-\\pi}}{n}\\cos (-\\pi n) - \\frac{e^{\\pi}}{n}\\cos \\pi n$$\n",
        "\n",
        "$$\\int\\limits_{-\\pi}^\\pi e^x \\sin nx\\,dx = \\Big( \\frac{n^2}{n(n^2 + 1)}\\Big)(-1)^n(e^{-\\pi} - e^{\\pi})$$\n",
        "\n",
        "$$\\int\\limits_{-\\pi}^\\pi e^x \\sin nx\\,dx = \\frac{(-1)^n(e^{-\\pi} - e^{\\pi})n}{n^2 + 1}$$\n",
        "\n",
        "$$b_n = \\frac{1}{\\pi} \\frac{(-1)^n(e^{-\\pi} - e^{\\pi})n}{n^2 + 1}$$"
      ]
    },
    {
      "cell_type": "markdown",
      "metadata": {
        "id": "m2NoJ9PypSTe"
      },
      "source": [
        "$$f(x)=a_{0}+\\sum\\limits_{n=1}^{+\\infty}(a_n\\cos nx+b_n\\sin nx) = \\frac{e^{\\pi} - e^{-\\pi}}{2\\pi} + \\sum\\limits_{n=1}^{+\\infty}\\Big( \\frac{(-1)^n}{\\pi} \\frac{e^{\\pi} - e^{-\\pi}}{n^2 + 1}  \\cos nx + \\frac{(-1)^n}{\\pi} \\frac{(e^{-\\pi} - e^{\\pi})n}{n^2 + 1} \\sin nx \\Big)$$ "
      ]
    },
    {
      "cell_type": "code",
      "metadata": {
        "colab": {
          "base_uri": "https://localhost:8080/",
          "height": 378
        },
        "id": "BkmmP0NBrd4Z",
        "outputId": "8e52df4d-552d-4f3f-d911-97319b0043a6"
      },
      "source": [
        "import numpy as np\n",
        "import matplotlib.pyplot as plt\n",
        "\n",
        "plt.figure(figsize = (6, 6))\n",
        "plt.axis([-2, 5, -6, 20])\n",
        "\n",
        "\n",
        "x = np.arange(-5, 20, 0.5)\n",
        "\n",
        "y = np.exp(x)\n",
        "\n",
        "k = 6\n",
        "# tay = []\n",
        "def taylor():\n",
        "    n = 0\n",
        "    res_t = 0\n",
        "    while n <= k:\n",
        "        \n",
        "        res_t = res_t + (x**n)/(np.math.factorial(n))\n",
        "        # tay.append(res_t)\n",
        "        n += 1\n",
        "    return res_t\n",
        "\n",
        "# print(taylor())\n",
        "\n",
        "def fourier():\n",
        "    n = 0\n",
        "    res_f = 0\n",
        "    # a_0 = ((np.exp(np.pi) - np.exp(-np.pi))/2*np.pi\n",
        "    while n <= k:\n",
        "        res_f = res_f + ((1 / np.pi) * ((-1) ** (n+1)) * (np.exp(np.pi) - np.exp(-np.pi)) / ((n ** 2) + 1)) * np.cos(x * n) + (n * (1 / np.pi) * ((-1) ** n) * (np.exp(-np.pi) - np.exp(np.pi)) / ((n ** 2) + 1)) * np.sin(x * n)\n",
        "        \n",
        "        n += 1\n",
        "    # return res_f + ((np.exp(np.pi) - np.exp(-np.pi))/2*np.pi\n",
        "\n",
        "plt.plot(x, y, marker = \"o\", label = \"f\", ls=\"\", c = 'b')\n",
        "plt.plot(x, taylor(), c = 'r', label = \"taylor\")\n",
        "# plt.plot(x, fourier(), marker = \"o\", label=\"fourier\", ls=\"\", c = 'b')\n",
        "plt.grid(True)\n",
        "plt.legend()\n",
        "plt.show()"
      ],
      "execution_count": 44,
      "outputs": [
        {
          "output_type": "display_data",
          "data": {
            "image/png": "[encoded data removed]",
            "text/plain": [
              "<Figure size 432x432 with 1 Axes>"
            ]
          },
          "metadata": {
            "needs_background": "light"
          }
        }
      ]
    },
    {
      "cell_type": "markdown",
      "metadata": {
        "id": "wUw5pcT9LE1g"
      },
      "source": [
        "Честно говоря, не уверен насчёт построения Фурье(хотя и Тейлора тоже). Поэтому демонстрирую 2 варианта. Первый тот, что получился изначально. Но что-то он совсем не то рисует при малом количестве итераций."
      ]
    },
    {
      "cell_type": "code",
      "metadata": {
        "colab": {
          "base_uri": "https://localhost:8080/",
          "height": 378
        },
        "id": "kbPcVvmMKV1G",
        "outputId": "4ea8c155-bf89-448f-e188-edc92e1856ff"
      },
      "source": [
        "import numpy as np\n",
        "import matplotlib.pyplot as plt\n",
        "\n",
        "plt.figure(figsize = (6, 6))\n",
        "plt.axis([-5, 5, -5, 20])\n",
        "\n",
        "\n",
        "# x = np.arange(0, 4, 0.5)\n",
        "x = np.arange(-np.pi, np.pi, 0.25)\n",
        "# x = np.linspace(-np.pi, np.pi, 20)\n",
        "\n",
        "y = np.exp(x)\n",
        "\n",
        "k = 40\n",
        "\n",
        "# print((np.exp(np.pi) - np.exp(-np.pi))/(2*np.pi))\n",
        "# print(x)\n",
        "\n",
        "def fourier():\n",
        "    n = 1\n",
        "    res_f = 0\n",
        "    # a_0 = ((np.exp(np.pi) - np.exp(-np.pi))/2*np.pi\n",
        "    while n <= k:\n",
        "        res_f = res_f + ((1 / np.pi) * ((-1) ** (n)) * np.cos(x * n) * (np.exp(np.pi) - np.exp(-np.pi)) / ((n ** 2) + 1))  + (n * (1 / np.pi) * ((-1) ** n) * np.sin(x * n) * (np.exp(-np.pi) - np.exp(np.pi)) / ((n ** 2) + 1))\n",
        "        # res_f = res_f + (((-1) ** (n)) / np.pi) * ((np.exp(np.pi) - np.exp(-np.pi)) * np.cos(x * n) / ((n ** 2) + 1)  + (np.exp(-np.pi) - np.exp(np.pi)) * np.sin(x * n) / ((n ** 2) + 1)) \n",
        "        # res_f = res_f + (((-1) ** (n)) / ((np.pi) * ((n ** 2) + 1))) * ((np.exp(np.pi) - np.exp(-np.pi)) * np.cos(x * n) + n * (np.exp(-np.pi) - np.exp(np.pi)) * np.sin(x * n)) \n",
        "        # print('cos', np.cos(x * n))\n",
        "        # print('sin', np.sin(x * n))\n",
        "        n += 1\n",
        "    # res_f = res_f + ((np.exp(np.pi) - np.exp(-np.pi))/(2*np.pi)\n",
        "\n",
        "    return res_f + (np.exp(np.pi) - np.exp(-np.pi))/(2 * np.pi)\n",
        "\n",
        "# print('res_f', fourier())\n",
        "\n",
        "plt.plot(x, y, marker = \"d\", label = \"f\", ls=\"\", c = 'g')\n",
        "plt.plot(x, fourier())\n",
        "plt.grid(True)\n",
        "plt.legend()\n",
        "plt.show()"
      ],
      "execution_count": 55,
      "outputs": [
        {
          "output_type": "display_data",
          "data": {
            "image/png": "[encoded data removed]",
            "text/plain": [
              "<Figure size 432x432 with 1 Axes>"
            ]
          },
          "metadata": {
            "needs_background": "light"
          }
        }
      ]
    },
    {
      "cell_type": "markdown",
      "metadata": {
        "id": "xqUfsNhGLWl0"
      },
      "source": [
        "И второй код. Из примера на хабре."
      ]
    },
    {
      "cell_type": "code",
      "metadata": {
        "colab": {
          "base_uri": "https://localhost:8080/",
          "height": 513
        },
        "id": "oKrA4Tsb3eXp",
        "outputId": "1f6cf28e-09a2-4515-cb92-e96bfb7d34c0"
      },
      "source": [
        "import matplotlib.pyplot as plt # модуль для графиков\n",
        "import numpy as np # модуль для операций со списками и массивами\n",
        "\n",
        "def func(n):# анализируемая функция\n",
        "         return np.exp(n)\n",
        "def func_1(n):# функция для расчёта коэффициента a[k]\n",
        "         return ((-1) ** n) * (1 / np.pi) * (np.exp(np.pi) - np.exp(-np.pi)) / ((n ** 2) + 1)\n",
        "def func_2(n):#функция для расчёта коэффициента b[k]\n",
        "         return ((-1) ** n) * (n * (1 / np.pi)) * (np.exp(-np.pi) - np.exp(np.pi)) / ((n ** 2) + 1)\n",
        "\n",
        "a_0 = (np.exp(np.pi) - np.exp(-np.pi)) / (2*np.pi)\n",
        "\n",
        "c = 40 #количество членов\n",
        "\n",
        "a = []; b = []; k = np.arange(0, c, 1); q = np.arange(-np.pi, np.pi, 0.05)\n",
        "\n",
        "a = [func_1(n) for n in k]\n",
        "# print(a)\n",
        "b = [func_2(n) for n in k]\n",
        "# print(b)\n",
        "# print(k)\n",
        "# print('a_0', a_0)\n",
        "# print('a[0]', a[0])\n",
        "\n",
        "F1 = a_0 + [a[1] * np.math.cos(k[1] * x) + b[1] * np.math.sin(k[1] * x) for x in q]\n",
        "# print(F1)\n",
        "F2 = a_0 + [a[2] * np.math.cos(k[2] * x) + b[2] * np.math.sin(k[2] * x) for x in q]\n",
        "F3 = a_0 + [a[3] * np.math.cos(k[3] * x) + b[3] * np.math.sin(k[3] * x) for x in q]\n",
        "F4 = a_0 + [a[4] * np.math.cos(k[4] * x) + b[4] * np.math.sin(k[4] * x) for x in q]\n",
        "\n",
        "plt.figure()\n",
        "\n",
        "plt.plot(q, F1, label = '1 гармоника', c = 'r')\n",
        "plt.plot(q, F2 , label = '2 гармоника')\n",
        "plt.plot(q, F3, label = '3 гармоника')\n",
        "plt.plot(q, F4, label = '4 гармоника')\n",
        "plt.legend()\n",
        "\n",
        "\n",
        "plt.grid(True)\n",
        "# F = np.empty(shape=[0, n])\n",
        "# F = F1 + F2 + F3 -2*a_0\n",
        "\n",
        "# plt.plot(q, F, label='F(t)')\n",
        "F = np.array([0*x for x in q])\n",
        "# print('F',F)\n",
        "# print('Len F',len(F))\n",
        "# print('F1', F1)\n",
        "# print('F2', F2)\n",
        "# print('F3', F3)\n",
        "# print('LenF1', len(F1), len(F2))\n",
        "\n",
        "for n in np.arange(1, c, 1):\n",
        "         F = F + np.array([a[n] * np.math.cos(k[n] * x) + b[n] * np.math.sin(k[n] * x) for x in q])# вычисление членов ряда Фурье\n",
        "F = F + a_0\n",
        "\n",
        "y = np.exp(q)\n",
        "\n",
        "plt.figure()\n",
        "plt.plot(q, F, label='fourier')\n",
        "plt.plot(q, y, label = 'exp')\n",
        "plt.grid(True)\n",
        "plt.legend()\n",
        "plt.show()"
      ],
      "execution_count": 59,
      "outputs": [
        {
          "output_type": "display_data",
          "data": {
            "image/png": "[encoded data removed]",
            "text/plain": [
              "<Figure size 432x288 with 1 Axes>"
            ]
          },
          "metadata": {
            "needs_background": "light"
          }
        },
        {
          "output_type": "display_data",
          "data": {
            "image/png": "[encoded data removed]",
            "text/plain": [
              "<Figure size 432x288 with 1 Axes>"
            ]
          },
          "metadata": {
            "needs_background": "light"
          }
        }
      ]
    }
  ]
}