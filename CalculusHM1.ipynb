{
  "nbformat": 4,
  "nbformat_minor": 0,
  "metadata": {
    "colab": {
      "name": "CalculusHM1.ipynb",
      "provenance": [],
      "collapsed_sections": [],
      "authorship_tag": "ABX9TyPNbMP8b7GVduwiG/ldtcw9",
      "include_colab_link": true
    },
    "kernelspec": {
      "name": "python3",
      "display_name": "Python 3"
    },
    "language_info": {
      "name": "python"
    }
  },
  "cells": [
    {
      "cell_type": "markdown",
      "metadata": {
        "id": "view-in-github",
        "colab_type": "text"
      },
      "source": [
        "<a href=\"https://colab.research.google.com/github/nedokormysh/GB_Intro_Calculus/blob/lesson1/CalculusHM1.ipynb\" target=\"_parent\"><img src=\"https://colab.research.google.com/assets/colab-badge.svg\" alt=\"Open In Colab\"/></a>"
      ]
    },
    {
      "cell_type": "markdown",
      "metadata": {
        "id": "cUFFK9zD3pXX"
      },
      "source": [
        "__1.__ Представьте в виде __несократимой__ рациональной дроби:\n",
        "\n",
        "### $$а)\\,\\,\\, 0.(216);$$\n",
        "\n",
        "### $$б)\\,\\,\\, 1.0(01).$$\n"
      ]
    },
    {
      "cell_type": "markdown",
      "metadata": {
        "id": "eEYy-VUj32C8"
      },
      "source": [
        "a)\n",
        "$$a=0.(216)$$\n",
        "$$1000a=216.(216)$$\n",
        "$$1000a=216+0.(216)$$\n",
        "$$1000a=216+a$$\n",
        "$$999a=216$$\n",
        "$$a=\\frac{216}{999}=\\frac{24}{111}$$\n",
        "$$0.(216)=\\frac{24}{111}$$\n",
        "$$0.(216)=\\frac{8}{37}$$\n"
      ]
    },
    {
      "cell_type": "code",
      "metadata": {
        "colab": {
          "base_uri": "https://localhost:8080/"
        },
        "id": "vkcXs-013hlv",
        "outputId": "171faac8-d547-4709-9e3f-d0657b6beb48"
      },
      "source": [
        "print (8/37)"
      ],
      "execution_count": 1,
      "outputs": [
        {
          "output_type": "stream",
          "text": [
            "0.21621621621621623\n"
          ],
          "name": "stdout"
        }
      ]
    },
    {
      "cell_type": "markdown",
      "metadata": {
        "id": "lsZ_8gW_77iU"
      },
      "source": [
        "\n",
        "б)\n",
        "$$a=0.(01)$$\n",
        "$$100a=01.(01)$$\n",
        "$$100a=1+0.(01)$$\n",
        "$$100a=1+a$$\n",
        "$$99a=1$$\n",
        "$$a=\\frac{1}{99}$$\n",
        "$$b=1.0(01)$$\n",
        "$$10b=10.(01)$$\n",
        "$$10b=10+0.(01)$$\n",
        "$$10b=10+\\frac{1}{99}$$\n",
        "$$10b=\\frac{991}{99}$$\n",
        "$$b=\\frac{991}{990}$$"
      ]
    },
    {
      "cell_type": "code",
      "metadata": {
        "colab": {
          "base_uri": "https://localhost:8080/"
        },
        "id": "qbwHRjVK8uuT",
        "outputId": "c2c1917d-5e79-49d0-e54b-270ca55e8cbc"
      },
      "source": [
        "print(991/990)"
      ],
      "execution_count": 2,
      "outputs": [
        {
          "output_type": "stream",
          "text": [
            "1.001010101010101\n"
          ],
          "name": "stdout"
        }
      ]
    },
    {
      "cell_type": "markdown",
      "metadata": {
        "id": "H0OcoH429Ht3"
      },
      "source": [
        "__2*.__ Пусть $x =\\frac{2}{21}$. Известно, что для некоторого натурального $k$ число $x$ записывается в $k$ - ичной системе счисления как $0.(13)_k = 0, 131313..._k$. Найдите $k$."
      ]
    },
    {
      "cell_type": "markdown",
      "metadata": {
        "id": "D8px5QpH9Olv"
      },
      "source": [
        "\n",
        "$$x=\\frac{2}{21}$$\n",
        "$$x=0.(13)_k$$\n",
        "\n",
        "\n",
        "$$k^2x=13.(13)_k$$\n",
        "$$k^2x=13_k+0.(13)_k$$\n",
        "$$k^2x=13_k+x$$\n",
        "$$k^2x-x=13_k$$\n",
        "$$(k^2-1)x=13_k$$\n",
        "$$x=\\frac{13_k}{k^2-1}$$\n",
        "$$x=\\frac{1\\cdot k^1+3\\cdot k^0}{k^2-1}$$\n",
        "$$x=\\frac{k+3}{k^2-1}$$\n",
        "$$\\frac{2}{21}=\\frac{k+3}{k^2-1}$$\n",
        "$$2k^2-2=21k+63$$\n",
        "$$2k^2-21k-65=0$$\n",
        "$$k_1=-2.5$$\n",
        "$$k_2=13$$\n",
        "\n",
        "Ответ: k = 13"
      ]
    },
    {
      "cell_type": "markdown",
      "metadata": {
        "id": "nqHbq6MZD4Jy"
      },
      "source": [
        "__3.__ Проверьте любым способ, является ли данные логические формулы тавтологией:\n",
        "\n",
        "### $$a)\\,\\,\\, (A \\vee B) \\rightarrow (B \\vee\\overline A)$$\n",
        "### $$б)\\,\\,\\, A \\rightarrow (A \\vee (\\overline B \\wedge A))$$"
      ]
    },
    {
      "cell_type": "markdown",
      "metadata": {
        "id": "UM7TWi83EFWJ"
      },
      "source": [
        "### $$a)\\,\\,\\, (A \\vee B) \\rightarrow (B \\vee\\overline A)$$\n",
        "\n",
        "<table>\n",
        "<thead>\n",
        "<tr><th>$A$</th><th>$B$</th><th>$(A \\vee B)$</th><th>$\\overline A$</th><th>$B \\vee\\overline A$</th><th>$(A \\vee B) \\rightarrow (B \\vee\\overline A)$</th></tr>\n",
        "</thead>\n",
        "<tbody>\n",
        "    <tr><td>$0$</td><td>$0$</td><td>$0$</td><td>$1$</td><td>$1$</td><td>$1$</td></tr>\n",
        "    <tr><td>$0$</td><td>$1$</td><td>$1$</td><td>$1$</td><td>$1$</td><td>$1$</td></tr>\n",
        "    <tr><td>$1$</td><td>$0$</td><td>$1$</td><td>$0$</td><td>$0$</td><td>$0$</td></tr>\n",
        "    <tr><td>$1$</td><td>$1$</td><td>$0$</td><td>$0$</td><td>$1$</td><td>$1$</td></tr>\n",
        "</tbody>\n",
        "</table>\n",
        "\n",
        "\n",
        "Не тавтология\n",
        "\n",
        "\n",
        "### $$б)\\,\\,\\, A \\rightarrow (A \\vee (\\overline B \\wedge A))$$\n",
        "\n",
        "$$\\ A\\rightarrow (A \\vee (\\overline B \\wedge A))=$$\n",
        "$$\\ A\\rightarrow (A \\vee \\overline B) \\wedge (A \\vee A)=$$\n",
        "$$\\ A\\rightarrow (A \\vee \\overline B) \\wedge A=$$\n",
        "$$\\ A\\rightarrow A \\wedge (A \\vee \\overline B)=$$\n",
        "$$\\ A\\rightarrow A$$\n",
        "\n",
        "Тавтология"
      ]
    },
    {
      "cell_type": "markdown",
      "metadata": {
        "id": "R54ET1haQERn"
      },
      "source": [
        "__4.__ Сформулируйте словесно высказывания:\n",
        "### $$a)\\,\\,\\, (\\overline A \\vee B) \\rightarrow \\overline C$$\n",
        "### $$б)\\,\\,\\, C \\rightarrow (A \\vee \\overline B)$$\n",
        "\n",
        "- $A:\\,\\,\\,$ сегодня светит солнце; \n",
        "- $B:\\,\\,\\,$ сегодня сыро; \n",
        "- $C:\\,\\,\\,$ я поеду на дачу. "
      ]
    },
    {
      "cell_type": "markdown",
      "metadata": {
        "id": "H4IdXV9mQUe_"
      },
      "source": [
        "### $$a)\\,\\,\\, (\\overline A \\vee B) \\rightarrow \\overline C$$\n",
        "\n",
        "$ \\overline A $ =  сегодня не светит солнце; \n",
        "$ \\overline C $ = я не поеду на дачу\n",
        "\n",
        "Если сегодня не светит солнце или сегодня сыро, то я не поеду на дачу\n",
        "\n",
        "### $$б)\\,\\,\\, C \\rightarrow (A \\vee \\overline B)$$\n",
        "\n",
        "$ \\overline B $ = сегодня сухо\n",
        "\n",
        "Если я поеду на дачу, то сегодня светит солнце или сегодня сухо"
      ]
    },
    {
      "cell_type": "markdown",
      "metadata": {
        "id": "6MQ3aHo_RoNO"
      },
      "source": [
        "5. Пользуясь правилом построения противоположного высказывания, запишите утверждения, противоположные следующим:\n",
        "\n",
        "a) На любом курсе каждого факультета есть студенты, сдающие все экзамены на «отлично».\n",
        "\n",
        "б) В любом самолете на рейсе Вашингтон-Москва присутствует хотя бы один сотрудник силовых органов, в каждой пуговице одежды которого вмонтирован микрофон."
      ]
    },
    {
      "cell_type": "markdown",
      "metadata": {
        "id": "qMxjje-2RvSi"
      },
      "source": [
        "a) На любом курсе каждого факультета есть студенты, сдающие все экзамены на «отлично».\n",
        "\n",
        "\n",
        "$\\forall$ курсе $\\forall$ факультета $\\exists$ студенты, сдающие $\\forall$ экзамены на «отлично».\n",
        "\n",
        "$\\exists$ курс $\\exists$ факультет, на котором $\\forall$ студенты, не сдающие экзамены на \"отлично\".\n",
        "\n",
        "\n",
        "Существуют курсы на каких-либо факультетах, на которых любой студент не сдаёт экзамен на \"отлично\".\n",
        "\n",
        "\n",
        "б) В любом самолете на рейсе Вашингтон-Москва присутствует хотя бы один сотрудник силовых органов, в каждой пуговице одежды которого вмонтирован микрофон.\n",
        "\n",
        "\n",
        "$\\forall$ самолете на рейсе Вашингтон-Москва $\\exists$ сотрудник силовых органов, в $\\forall$ пуговице одежды которого вмонтирован микрофон.\n",
        "\n",
        "$\\exists$ самолёт на рейсе Вашингтон-Москва, где у $\\forall$ сотрудника силовых органов, присутствующего на этом рейсе, $\\exists$ пуговицы на одежде, в которые не вмонтирован микрофон.\n",
        "\n",
        "Существует самолёт на рейсе Вашингтон-Москва, где у любого сотрудника силовых органов, присутствующего на этом рейсе, существуют пуговицы на одежде, в которые не вмонтирован микрофон."
      ]
    },
    {
      "cell_type": "markdown",
      "metadata": {
        "id": "mfs8u4SqTPlb"
      },
      "source": [
        "__6*.__ Прочитайте высказывания, установите их истинность и постройте противоположное высказывание:\n",
        "\n",
        "### $$a)\\,\\,\\, \\forall x\\in\\mathbb{R}\\,\\,\\,\\exists X\\in\\mathbb{R}:\\,\\,\\, X>x;$$\n",
        "### $$б)\\,\\,\\, \\forall y\\in\\Bigl[0; \\frac{\\pi}{2}\\Bigr]\\,\\,\\,\\exists \\varepsilon>0:\\,\\,\\, \\sin y<\\sin(y+\\varepsilon);$$\n",
        "### $$в)\\,\\,\\, \\forall y\\in\\Bigl[0; \\pi\\Bigr)\\,\\,\\,\\exists \\varepsilon>0:\\,\\,\\, \\cos y>\\cos(y+\\varepsilon).$$"
      ]
    },
    {
      "cell_type": "markdown",
      "metadata": {
        "id": "zoXlJRRVTire"
      },
      "source": [
        "### $$a)\\,\\,\\, \\forall x\\in\\mathbb{R}\\,\\,\\,\\exists X\\in\\mathbb{R}:\\,\\,\\, X>x;$$\n",
        "\n",
        "Для любого вещественного x сущесвует вещественное число X большое, такое что, X большое больше x.\n",
        "Истинно.\n",
        "\n",
        "Противоположное: $$\\exists x\\in\\mathbb{R}\\,\\,\\,\\forall X\\in\\mathbb{R}:\\,\\,\\, X<x;$$\n",
        "\n",
        "### $$б)\\,\\,\\, \\forall y\\in\\Bigl[0; \\frac{\\pi}{2}\\Bigr]\\,\\,\\,\\exists \\varepsilon>0:\\,\\,\\, \\sin y<\\sin(y+\\varepsilon);$$\n",
        "\n",
        "Для любых y, принадлежащих диапазону от нуля до Pi пополам, включая обе границы, существует эпсилон больше нуля, так что sin(y) меньше sin(y + e). Ложно, т.к. включена граница Pi/2. sin(pi/2) = 1, следовательно высказывание ложно.\n",
        "\n",
        "Противоположное:$$\\exists y\\in\\Bigl[0; \\frac{\\pi}{2}\\Bigr]\\,\\,\\,\\forall \\varepsilon>0:\\,\\,\\, \\sin y>\\sin(y+\\varepsilon)$$\n",
        "\n",
        "### $$в)\\,\\,\\, \\forall y\\in\\Bigl[0; \\pi\\Bigr)\\,\\,\\,\\exists \\varepsilon>0:\\,\\,\\, \\cos y>\\cos(y+\\varepsilon).$$\n",
        "\n",
        "Для любого y, принадлежащего диапазону от нуля включительно до Pi(не включая), существует эпсилон больше нуля, такое что cos(y) больше cos(y + e). Истинно.\n",
        "\n",
        "Противоположное:$$\\exists y\\in\\Bigl[0; \\pi\\Bigr)\\,\\,\\,\\forall \\varepsilon>0:\\,\\,\\, \\cos y<\\cos(y+\\varepsilon).$$\n"
      ]
    }
  ]
}